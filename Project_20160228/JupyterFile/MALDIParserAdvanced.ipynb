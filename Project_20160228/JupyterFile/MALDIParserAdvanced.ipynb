{
 "cells": [
  {
   "cell_type": "markdown",
   "metadata": {},
   "source": [
    "#MALDI Parser Advanced"
   ]
  },
  {
   "cell_type": "markdown",
   "metadata": {},
   "source": [
    "## Import Modules"
   ]
  },
  {
   "cell_type": "code",
   "execution_count": 55,
   "metadata": {
    "collapsed": true
   },
   "outputs": [],
   "source": [
    "import xlrd\n",
    "import pandas as pd\n",
    "import numpy as np\n",
    "import warnings\n",
    "import sys\n",
    "import tkinter as tk\n",
    "from tkinter import ttk\n",
    "from tkinter import messagebox\n",
    "from tkinter import filedialog\n",
    "import threading"
   ]
  },
  {
   "cell_type": "markdown",
   "metadata": {},
   "source": [
    "## Helper Functions"
   ]
  },
  {
   "cell_type": "markdown",
   "metadata": {},
   "source": [
    "### Finding missed peak(s) "
   ]
  },
  {
   "cell_type": "code",
   "execution_count": 56,
   "metadata": {
    "collapsed": true
   },
   "outputs": [],
   "source": [
    "#Finding Missed Peak\n",
    "def detect_missed(mzs):\n",
    "    global normal_mzs\n",
    "    mzs_missing=[]\n",
    "    \n",
    "    for normal_mz in normal_mzs:\n",
    "        for mz in mzs:\n",
    "            if mz<normal_mz+6 and mz>normal_mz-6:   #Searching in this range\n",
    "                break\n",
    "        else:\n",
    "            mzs_missing.append(normal_mz)\n",
    "    return mzs_missing"
   ]
  },
  {
   "cell_type": "markdown",
   "metadata": {},
   "source": [
    "### Finding redundant peak(s)"
   ]
  },
  {
   "cell_type": "code",
   "execution_count": 57,
   "metadata": {
    "collapsed": true
   },
   "outputs": [],
   "source": [
    "#Finding Redundant Peak\n",
    "def detect_redundant(mzs):\n",
    "    mzs_adjacents=[]    \n",
    "\n",
    "    for normal_mz in normal_mzs:\n",
    "        d=9.99\n",
    "        m=0\n",
    "        for mz in mzs:\n",
    "            if abs(normal_mz-mz)<d:\n",
    "                d=abs(normal_mz-mz)\n",
    "                m=mz\n",
    "        mzs_adjacents.append(m)\n",
    "   \n",
    "    return mzs_adjacents"
   ]
  },
  {
   "cell_type": "markdown",
   "metadata": {},
   "source": [
    "### Display the layout"
   ]
  },
  {
   "cell_type": "code",
   "execution_count": 58,
   "metadata": {
    "collapsed": true
   },
   "outputs": [],
   "source": [
    "#Layout Display\n",
    "def layout(names):\n",
    "    layout_names=[]\n",
    "    layout_series=[]\n",
    "    for name in names:\n",
    "        patt4=r'[\\D\\d]+_0_'\n",
    "        sample_name=re.findall(patt4, name)[0].replace('_0_', '').replace('-', '_')\n",
    "        \n",
    "        if sample_name.find('standard')!=-1 or sample_name.find('Standard')!=-1:\n",
    "            sample_name=sample_name.replace('standard', '').replace('Standard', '').replace('_', '')       \n",
    "\n",
    "        patt5=r'_0_[\\D\\d]+_1$'\n",
    "        id_name=re.findall(patt5, name)[0].replace('_0_', '').replace('_1', '')\n",
    "\n",
    "        if len(id_name)==2:\n",
    "            id_name=id_name[0]+'0'+id_name[1]\n",
    "\n",
    "         \n",
    "        layout_names.append((id_name, sample_name))\n",
    "\n",
    "    d=96-len(layout_names)\n",
    "\n",
    "    for i in range(d):\n",
    "        layout_names.append(('Z'+str(i),np.nan))\n",
    "\n",
    "    sample_dict=dict(layout_names)\n",
    "    s=pd.Series(sample_dict).sort_index()\n",
    "    df=pd.DataFrame(np.array(s).reshape(8,12),\n",
    "                           columns=[1,2,3,4,5,6,7,8,9,10,11,12],\n",
    "                           index=['A','B','C','D','E','F','G','H'])\n",
    "    return df"
   ]
  },
  {
   "cell_type": "markdown",
   "metadata": {},
   "source": [
    "### Browse File"
   ]
  },
  {
   "cell_type": "code",
   "execution_count": 59,
   "metadata": {
    "collapsed": true
   },
   "outputs": [],
   "source": [
    "def browseFileButton():\n",
    "    global filename, indicator_progress\n",
    "    try:\n",
    "        filename = filedialog.askopenfilename(filetypes=(('Excel files', '*.xlsx'), ('All files', '*.*')))\n",
    "        \n",
    "        text_filename.delete('1.0', tk.END)\n",
    "        text_filename.insert('1.0', filename)\n",
    "        \n",
    "        indicator_process = 0\n",
    "        progressbar['value'] = indicator_process\n",
    "        \n",
    "    except:\n",
    "        filename = ''"
   ]
  },
  {
   "cell_type": "markdown",
   "metadata": {},
   "source": [
    "### Process Data Munging"
   ]
  },
  {
   "cell_type": "code",
   "execution_count": 60,
   "metadata": {
    "collapsed": true
   },
   "outputs": [],
   "source": [
    "def process():\n",
    "    global filename, df, normal_mzs, indicator_process\n",
    "    \n",
    "    if filename == '':\n",
    "        messagebox.showwarning(\"No File\", \"Sorry, no file loaded! Please choose Excel file first.\")\n",
    "    else:\n",
    "        #Ignoring Warnings\n",
    "        warnings.filterwarnings(\"ignore\")\n",
    "        \n",
    "        indicator_process = 0\n",
    "\n",
    "        #Default Peaks\n",
    "        \n",
    "        peak01 = int(text_peak01.get('1.0', tk.END))\n",
    "        peak02 = int(text_peak02.get('1.0', tk.END))\n",
    "        peak03 = int(text_peak03.get('1.0', tk.END))\n",
    "        peak04 = int(text_peak04.get('1.0', tk.END))\n",
    "        \n",
    "        peaks = [peak01, peak02, peak03, peak04]\n",
    "        \n",
    "        normal_mzs = []\n",
    "        \n",
    "        for peak in peaks:\n",
    "            if peak != 0:\n",
    "                normal_mzs.append(peak)\n",
    "                \n",
    "        normal_rows=len(normal_mzs)\n",
    "\n",
    "        #Import File\n",
    "        book=xlrd.open_workbook(filename)\n",
    "        #print('Source file: '+sys.path[0]+filename+' loaded!')\n",
    "\n",
    "        #Extraction\n",
    "        nsheets=book.nsheets\n",
    "\n",
    "        sheet_names=book.sheet_names()\n",
    "        sheets={}\n",
    "\n",
    "        for sheet_name in sheet_names:    \n",
    "            nrows=book.sheet_by_name(sheet_name).nrows\n",
    "            current_header=book.sheet_by_name(sheet_name).row_values(2) \n",
    "            current_data=[book.sheet_by_name(sheet_name).row_values(i) for i in range(3, nrows)]\n",
    "            sheets[sheet_name]=pd.DataFrame(current_data, columns=current_header)   #DataFrame Construction\n",
    "        #Feedback\n",
    "        #print('Data Extracted!')\n",
    "        #Dealing with the Missing Peak(s)\n",
    "        #///////////////////Main Loop///////////\n",
    "        peak_missing_amount=0\n",
    "        peak_redundant_amount=0\n",
    "        peak_redundant_item=[]\n",
    "        peak_missing_item=[]\n",
    "        peak_repeated_amount=0\n",
    "        peak_repeated_item=[]\n",
    "        \n",
    "        gain = 1000/len(sheet_names)\n",
    "\n",
    "        for sheet_name in sheet_names:\n",
    "            df=sheets[sheet_name]\n",
    "\n",
    "            actual_rows=len(df.index)\n",
    "            mzs=list(df['m/z'])\n",
    "\n",
    "            #////////////////////Unique!!!!///////////////////////////////////////////////\n",
    "            for mz in mzs:\n",
    "                if len(df[df['m/z']==mz].index)>1:\n",
    "                    del_index=list(df[df['m/z']==mz].index)\n",
    "                    del_index.pop(0)\n",
    "                    df=df.drop(del_index)\n",
    "\n",
    "                    mzs=list(df['m/z'])\n",
    "\n",
    "                    peak_repeated_amount+=1\n",
    "                    peak_repeated_item.append(sheet_name.replace('_0_', ' @ ').replace('_1', ''))\n",
    "            #////////////////////////////////////////////////////////////////////////////\n",
    "\n",
    "            df=df.sort_index(by='m/z')\n",
    "            df=df.reset_index().drop('index', axis=1)\n",
    "\n",
    "            actual_rows=len(df.index)\n",
    "\n",
    "            #///////Larger than normal: Redundant///////////\n",
    "            if actual_rows>normal_rows:\n",
    "                mzs=list(df['m/z'])\n",
    "                mzs_adjacents=detect_redundant(mzs)    #Call Function          \n",
    "                df=pd.concat([df.ix[df[df['m/z']==mzs_adjacent].index] for mzs_adjacent in mzs_adjacents])        \n",
    "\n",
    "                #////Memorize the Redundant One//////////////////    \n",
    "                peak_redundant_amount+=1\n",
    "                peak_redundant_item.append(sheet_name.replace('_0_', ' @ ').replace('_1', ''))\n",
    "\n",
    "            #/////Sort & Reindex////////////\n",
    "            df=df.sort_index(by='m/z')\n",
    "            df=df.reset_index().drop('index', axis=1)\n",
    "\n",
    "            actual_rows=len(df.index)\n",
    "\n",
    "            ##///////Less than normal: Missing///////\n",
    "            if actual_rows<normal_rows:\n",
    "                mzs=list(df['m/z'])\n",
    "                mzs_missing=detect_missed(mzs)  #Call Function \n",
    "\n",
    "                i=actual_rows\n",
    "\n",
    "                for mz_missing in mzs_missing:\n",
    "                    df.ix[i]=0\n",
    "                    df['m/z'].ix[i]=mz_missing\n",
    "                    i+=1\n",
    "\n",
    "                #////Memorize the Missing One///////\n",
    "                peak_missing_amount+=1\n",
    "                peak_missing_item.append(sheet_name.replace('_0_', ' @ ').replace('_1', ''))\n",
    "\n",
    "            df=df.sort_index(by='m/z')\n",
    "            df=df.reset_index().drop('index', axis=1)\n",
    "\n",
    "            actual_rows=len(df.index)    \n",
    "\n",
    "            #///////Again! Larger than normal: Redundant////////\n",
    "            if actual_rows>normal_rows:\n",
    "                mzs=list(df['m/z'])\n",
    "                mzs_adjacents=detect_redundant(mzs)     #Call Function          \n",
    "                df=pd.concat([df.ix[df[df['m/z']==mzs_adjacent].index] for mzs_adjacent in mzs_adjacents])       \n",
    "\n",
    "                #/Memorize the Redundant One\n",
    "                peak_redundant_amount+=1\n",
    "                peak_redundant_item.append(sheet_name.replace('_0_', ' @ ').replace('_1', ''))\n",
    "\n",
    "            #Sort & Reindex/////////////\n",
    "            df=df.sort_index(by='m/z')\n",
    "            df=df.reset_index().drop('index', axis=1)     \n",
    "\n",
    "            sheets[sheet_name]=df\n",
    "            \n",
    "            indicator_process += gain\n",
    "\n",
    "        df=pd.concat([sheets[sheet_name] for sheet_name in sheet_names], keys=sheet_names)\n",
    "\n",
    "        #///Change the sheetnames from indeces into column names\n",
    "        df=df.reset_index()\n",
    "\n",
    "        #Sorting\n",
    "        df = df.sort_index(by=['level_0', 'level_1'])\n",
    "        df = df.set_index(['level_0', 'level_1'])\n",
    "        df = df.unstack()\n",
    "       "
   ]
  },
  {
   "cell_type": "code",
   "execution_count": 61,
   "metadata": {
    "collapsed": true
   },
   "outputs": [],
   "source": [
    "def start_process_thread(event):\n",
    "    global process_thread, indicator_process\n",
    "    process_thread = threading.Thread(target=process)\n",
    "    process_thread.daemon = True\n",
    "    \n",
    "    progressbar['value'] = indicator_process\n",
    "    \n",
    "    process_thread.start()\n",
    "    root.after(20, check_process_thread)\n",
    "\n",
    "def check_process_thread():\n",
    "    if process_thread.is_alive():\n",
    "        progressbar['value'] = indicator_process\n",
    "        \n",
    "        root.after(20, check_process_thread)\n",
    "    else:\n",
    "        messagebox.showinfo(\"Data Processed\", \"Data successfully processed!\")"
   ]
  },
  {
   "cell_type": "markdown",
   "metadata": {},
   "source": [
    "### Export File"
   ]
  },
  {
   "cell_type": "code",
   "execution_count": 62,
   "metadata": {
    "collapsed": true
   },
   "outputs": [],
   "source": [
    "def exportFileButton():\n",
    "    directory = filedialog.askdirectory()\n",
    "    if filename == '':\n",
    "        messagebox.showwarning(\"No File to be Exported\", \"Sorry, no file to be exported! Please choose a Excel file first.\")\n",
    "    elif directory == '':\n",
    "        messagebox.showwarning(\"No Directory\", \"Sorry, no directory shown! Please specify the output directory.\")\n",
    "    else:\n",
    "        filename_output = directory + '/' + filename.split('.')[0].split('/')[-1] + '.csv'\n",
    "        df.to_csv(filename_output)\n",
    "        messagebox.showinfo(\"File Exported\", \"File successfully exported!\")"
   ]
  },
  {
   "cell_type": "markdown",
   "metadata": {},
   "source": [
    "### Main Program Flow"
   ]
  },
  {
   "cell_type": "markdown",
   "metadata": {},
   "source": [
    "#### We chose 2 peaks for detection: **2791, 2819** (Hepcidin)"
   ]
  },
  {
   "cell_type": "code",
   "execution_count": 63,
   "metadata": {
    "collapsed": false
   },
   "outputs": [],
   "source": [
    "# Main Frame////////////////////////////////////////////////////////////////////////////////////////\n",
    "root = tk.Tk()\n",
    "\n",
    "peak01 = 2791\n",
    "peak02 = 2819\n",
    "peak03 = 2836\n",
    "peak04 = 0\n",
    "\n",
    "indicator_process = 0\n",
    "\n",
    "filename = ''\n",
    "\n",
    "w = 900 # width for the Tk root\n",
    "h = 500 # height for the Tk root\n",
    "\n",
    "# get screen width and height\n",
    "ws = root.winfo_screenwidth() # width of the screen\n",
    "hs = root.winfo_screenheight() # height of the screen\n",
    "\n",
    "# calculate x and y coordinates for the Tk root window\n",
    "x = (ws/2) - (w/2)\n",
    "y = (hs/2) - (h/2)\n",
    "\n",
    "# set the dimensions of the screen \n",
    "# and where it is placed\n",
    "root.geometry('%dx%d+%d+%d' % (w, h, x, y))\n",
    "#root.attributes('-fullscreen', True)\n",
    "root.title('MALDI Parser')\n",
    "\n",
    "# Progress Bar\n",
    "progressbar = ttk.Progressbar(root, length=750, maximum=1000, mode='determinate')\n",
    "progressbar.place(x=60,y=250)\n",
    "\n",
    "# Text\n",
    "text_filename=tk.Text(root, width=80,height=1, font=('tahoma', 9), bd=2)\n",
    "text_filename.place(x=60, y=50)\n",
    "label_filename=tk.Label(root, text='Import Excel File:', font=('tahoma', 9))\n",
    "label_filename.place(x=60,y=20)\n",
    "\n",
    "text_peak01=tk.Text(root, width=8,height=1, font=('tahoma', 9), bd=2)\n",
    "text_peak01.place(x=130, y=190)\n",
    "label_peak01=tk.Label(root, text='Peak 01:', font=('tahoma', 9))\n",
    "label_peak01.place(x=60,y=190)\n",
    "text_peak01.delete('1.0', tk.END)\n",
    "text_peak01.insert('1.0', str(peak01))\n",
    "\n",
    "text_peak02=tk.Text(root, width=8,height=1, font=('tahoma', 9), bd=2)\n",
    "text_peak02.place(x=330, y=190)\n",
    "label_peak02=tk.Label(root, text='Peak 02:', font=('tahoma', 9))\n",
    "label_peak02.place(x=260,y=190)\n",
    "text_peak02.delete('1.0', tk.END)\n",
    "text_peak02.insert('1.0', str(peak02))\n",
    "\n",
    "text_peak03=tk.Text(root, width=8,height=1, font=('tahoma', 9), bd=2)\n",
    "text_peak03.place(x=530, y=190)\n",
    "label_peak03=tk.Label(root, text='Peak 03:', font=('tahoma', 9))\n",
    "label_peak03.place(x=460,y=190)\n",
    "text_peak03.delete('1.0', tk.END)\n",
    "text_peak03.insert('1.0', str(peak03))\n",
    "\n",
    "text_peak04=tk.Text(root, width=8,height=1, font=('tahoma', 9), bd=2)\n",
    "text_peak04.place(x=730, y=190)\n",
    "label_peak04=tk.Label(root, text='Peak 04:', font=('tahoma', 9))\n",
    "label_peak04.place(x=660,y=190)\n",
    "text_peak04.delete('1.0', tk.END)\n",
    "text_peak04.insert('1.0', str(peak04))\n",
    "\n",
    "\n",
    "\n",
    "# Buttons\n",
    "button_browse=ttk.Button(root, text='Browse...', width=20, command=browseFileButton)\n",
    "button_browse.place(x=60, y=110)\n",
    "\n",
    "button_process=ttk.Button(root, text='Process', width=20, command=lambda:start_process_thread(None))\n",
    "button_process.place(x=60, y=310)\n",
    "\n",
    "button_browse=ttk.Button(root, text='Export', width=20, command=exportFileButton)\n",
    "button_browse.place(x=60, y=410)\n",
    "\n",
    "button_close=ttk.Button(root, width=20, text='Exit', command=root.destroy)\n",
    "button_close.place(x=650, y=410)\n",
    "\n",
    "root.mainloop()"
   ]
  }
 ],
 "metadata": {
  "kernelspec": {
   "display_name": "Python 3",
   "language": "python",
   "name": "python3"
  },
  "language_info": {
   "codemirror_mode": {
    "name": "ipython",
    "version": 3
   },
   "file_extension": ".py",
   "mimetype": "text/x-python",
   "name": "python",
   "nbconvert_exporter": "python",
   "pygments_lexer": "ipython3",
   "version": "3.4.4"
  }
 },
 "nbformat": 4,
 "nbformat_minor": 0
}
