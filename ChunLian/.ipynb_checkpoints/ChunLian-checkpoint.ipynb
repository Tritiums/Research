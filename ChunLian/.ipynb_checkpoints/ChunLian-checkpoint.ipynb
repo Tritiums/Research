{
 "cells": [
  {
   "cell_type": "code",
   "execution_count": 1,
   "metadata": {},
   "outputs": [],
   "source": [
    "import io\n",
    "from PIL import Image\n",
    "import numpy as np\n",
    "import requests"
   ]
  },
  {
   "cell_type": "code",
   "execution_count": 2,
   "metadata": {},
   "outputs": [],
   "source": [
    "def get_word(ch, quality):\n",
    "    \"\"\"获取单个汉字（字符）的图片\n",
    "    ch          - 单个汉字或英文字母（仅支持大写）\n",
    "    quality     - 单字分辨率，H-640像素，M-480像素，L-320像素\n",
    "    \"\"\"\n",
    "    \n",
    "    fp = io.BytesIO(requests.post(url='http://xufive.sdysit.com/tk', data={'ch':ch}).content)\n",
    "    im = Image.open(fp)\n",
    "    w, h = im.size\n",
    "    if quality == 'M':\n",
    "        w, h = int(w*0.75), int(0.75*h)\n",
    "    elif quality == 'L':\n",
    "        w, h = int(w*0.5), int(0.5*h)\n",
    "    \n",
    "    return im.resize((w,h))"
   ]
  },
  {
   "cell_type": "code",
   "execution_count": 3,
   "metadata": {},
   "outputs": [],
   "source": [
    "def get_bg(quality):\n",
    "    \"\"\"获取春联背景的图片\"\"\"\n",
    " \n",
    "    return get_word('bg', quality)"
   ]
  },
  {
   "cell_type": "code",
   "execution_count": 4,
   "metadata": {},
   "outputs": [],
   "source": [
    "def write_couplets(text, HorV='V', quality='L', out_file=None):\n",
    "    \"\"\"生成春联\n",
    "    \n",
    "    text        - 春联内容，以空格断行\n",
    "    HorV        - H-横排，V-竖排\n",
    "    quality     - 单字分辨率，H-640像素，M-480像素，L-320像素\n",
    "    out_file    - 输出文件名\n",
    "    \"\"\"\n",
    "    \n",
    "    usize = {'H':(640,23), 'M':(480,18), 'L':(320,12)}\n",
    "    bg_im = get_bg(quality)\n",
    "    text_list = [list(item) for item in text.split()]\n",
    "    rows = len(text_list)\n",
    "    cols = max([len(item) for item in text_list])\n",
    "    \n",
    "    if HorV == 'V':\n",
    "        ow, oh = 40+rows*usize[quality][0]+(rows-1)*10, 40+cols*usize[quality][0]\n",
    "    else:\n",
    "        ow, oh = 40+cols*usize[quality][0], 40+rows*usize[quality][0]+(rows-1)*10\n",
    "    out_im = Image.new('RGBA', (ow, oh), '#f0f0f0')\n",
    "    \n",
    "    for row in range(rows):\n",
    "        if HorV == 'V':\n",
    "            row_im = Image.new('RGBA', (usize[quality][0], cols*usize[quality][0]), 'white')\n",
    "            offset = (ow-(usize[quality][0]+10)*(row+1)-10, 20)\n",
    "        else:\n",
    "            row_im = Image.new('RGBA', (cols*usize[quality][0], usize[quality][0]), 'white')\n",
    "            offset = (20, 20+(usize[quality][0]+10)*row)\n",
    "        \n",
    "        for col, ch in enumerate(text_list[row]):\n",
    "            if HorV == 'V':\n",
    "                pos = (0, col*usize[quality][0])\n",
    "            else:\n",
    "                pos = (col*usize[quality][0],0)\n",
    "            \n",
    "            ch_im = get_word(ch, quality)\n",
    "            row_im.paste(bg_im, pos)\n",
    "            row_im.paste(ch_im, (pos[0]+usize[quality][1], pos[1]+usize[quality][1]), mask=ch_im)\n",
    "            \n",
    "        out_im.paste(row_im, offset)\n",
    "    \n",
    "    if out_file:\n",
    "        out_im.convert('RGB').save(out_file)\n",
    "    out_im.show()"
   ]
  },
  {
   "cell_type": "code",
   "execution_count": 9,
   "metadata": {},
   "outputs": [],
   "source": [
    "text = '立意严谨数据好出自小宁之手 头发浓密文章多科研女王可期'\n",
    "write_couplets(text, HorV='V', quality='M', out_file='王宁对联.jpg')"
   ]
  },
  {
   "cell_type": "code",
   "execution_count": 10,
   "metadata": {},
   "outputs": [],
   "source": [
    "text = '望有业毕'\n",
    "write_couplets(text, HorV='H', quality='M', out_file='王宁横批.jpg')"
   ]
  },
  {
   "cell_type": "code",
   "execution_count": null,
   "metadata": {},
   "outputs": [],
   "source": []
  }
 ],
 "metadata": {
  "kernelspec": {
   "display_name": "Python 3",
   "language": "python",
   "name": "python3"
  },
  "language_info": {
   "codemirror_mode": {
    "name": "ipython",
    "version": 3
   },
   "file_extension": ".py",
   "mimetype": "text/x-python",
   "name": "python",
   "nbconvert_exporter": "python",
   "pygments_lexer": "ipython3",
   "version": "3.7.3"
  }
 },
 "nbformat": 4,
 "nbformat_minor": 2
}
