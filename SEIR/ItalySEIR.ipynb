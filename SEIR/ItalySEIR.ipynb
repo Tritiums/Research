{
 "cells": [
  {
   "cell_type": "code",
   "execution_count": 1,
   "metadata": {},
   "outputs": [],
   "source": [
    "import scipy.integrate as spi\n",
    "import numpy as np\n",
    "import pylab as pl\n",
    "import math\n",
    "%matplotlib inline"
   ]
  },
  {
   "cell_type": "markdown",
   "metadata": {},
   "source": [
    "def siModel(t):\n",
    "    i = N * math.pow(math.e, N*t)/(N-1+math.pow(math.e, N*t))"
   ]
  },
  {
   "cell_type": "code",
   "execution_count": 79,
   "metadata": {},
   "outputs": [],
   "source": [
    "beta = 0.33\n",
    "\n",
    "t_start = 0\n",
    "t_end = 60      # Transmit Time\n",
    "\n",
    "N = 6*math.pow(10,6)\n",
    "\n",
    "\n",
    "I0 = 3     # Initial Number of Infected\n",
    "S0 = N - I0    # Initial Number of Susceptible\n",
    "\n",
    "INPUT = (S0, I0)"
   ]
  },
  {
   "cell_type": "code",
   "execution_count": 80,
   "metadata": {},
   "outputs": [],
   "source": [
    "def model_SI(INP,t):  \n",
    "    \n",
    "    Y=np.zeros((2))\n",
    "    V = INP\n",
    "    Y[0] = - beta * V[0] * V[1]/N  \n",
    "    Y[1] = beta * V[0] * V[1]/N\n",
    "    return Y   # For odeint"
   ]
  },
  {
   "cell_type": "code",
   "execution_count": 81,
   "metadata": {},
   "outputs": [],
   "source": [
    "t_range = np.arange(t_start, t_end)\n",
    "\n",
    "RES = spi.odeint(model_SI, INPUT, t_range)   # INPUT is the first parameter of func diff_eqs\n",
    "                                             # t_range is the second parameter of func diff_eqs\n"
   ]
  },
  {
   "cell_type": "code",
   "execution_count": 82,
   "metadata": {},
   "outputs": [
    {
     "data": {
      "text/plain": [
       "array([[5.99999700e+06, 3.00000000e+00],\n",
       "       [5.99999583e+06, 4.17290356e+00],\n",
       "       [5.99999420e+06, 5.80437436e+00],\n",
       "       [5.99999193e+06, 8.07369674e+00],\n",
       "       [5.99998877e+06, 1.12302490e+01],\n",
       "       [5.99998438e+06, 1.56209071e+01],\n",
       "       [5.99997827e+06, 2.17281617e+01],\n",
       "       [5.99996978e+06, 3.02231378e+01],\n",
       "       [5.99995796e+06, 4.20393387e+01],\n",
       "       [5.99994152e+06, 5.84752205e+01],\n",
       "       [5.99991866e+06, 8.13368586e+01],\n",
       "       [5.99988686e+06, 1.13136379e+02],\n",
       "       [5.99984263e+06, 1.57367938e+02],\n",
       "       [5.99978111e+06, 2.18891543e+02],\n",
       "       [5.99969553e+06, 3.04466819e+02],\n",
       "       [5.99957650e+06, 4.23495242e+02],\n",
       "       [5.99941095e+06, 5.89052133e+02],\n",
       "       [5.99918068e+06, 8.19321299e+02],\n",
       "       [5.99886041e+06, 1.13958898e+03],\n",
       "       [5.99841499e+06, 1.58501426e+03],\n",
       "       [5.99779552e+06, 2.20447665e+03],\n",
       "       [5.99693408e+06, 3.06591637e+03],\n",
       "       [5.99573626e+06, 4.26374017e+03],\n",
       "       [5.99407092e+06, 5.92907943e+03],\n",
       "       [5.99175602e+06, 8.24397552e+03],\n",
       "       [5.98853905e+06, 1.14609506e+04],\n",
       "       [5.98407008e+06, 1.59299204e+04],\n",
       "       [5.97786496e+06, 2.21350351e+04],\n",
       "       [5.96925522e+06, 3.07447837e+04],\n",
       "       [5.95732049e+06, 4.26795113e+04],\n",
       "       [5.94079880e+06, 5.92011979e+04],\n",
       "       [5.91796946e+06, 8.20305352e+04],\n",
       "       [5.88650480e+06, 1.13495201e+05],\n",
       "       [5.84329074e+06, 1.56709260e+05],\n",
       "       [5.78422577e+06, 2.15774231e+05],\n",
       "       [5.70402636e+06, 2.95973645e+05],\n",
       "       [5.59609973e+06, 4.03900265e+05],\n",
       "       [5.45259460e+06, 5.47405402e+05],\n",
       "       [5.26480084e+06, 7.35199155e+05],\n",
       "       [5.02411280e+06, 9.75887199e+05],\n",
       "       [4.72373015e+06, 1.27626985e+06],\n",
       "       [4.36105005e+06, 1.63894995e+06],\n",
       "       [3.94024671e+06, 2.05975329e+06],\n",
       "       [3.47398174e+06, 2.52601826e+06],\n",
       "       [2.98298593e+06, 3.01701407e+06],\n",
       "       [2.49289991e+06, 3.50710009e+06],\n",
       "       [2.02917726e+06, 3.97082274e+06],\n",
       "       [1.61206483e+06, 4.38793517e+06],\n",
       "       [1.25362394e+06, 4.74637606e+06],\n",
       "       [9.57490888e+05, 5.04250911e+06],\n",
       "       [7.20689197e+05, 5.27931080e+06],\n",
       "       [5.36224270e+05, 5.46377573e+06],\n",
       "       [3.95437744e+05, 5.60456226e+06],\n",
       "       [2.89655355e+05, 5.71034464e+06],\n",
       "       [2.11104630e+05, 5.78889537e+06],\n",
       "       [1.53284015e+05, 5.84671599e+06],\n",
       "       [1.10996554e+05, 5.88900345e+06],\n",
       "       [8.02151556e+04, 5.91978484e+06],\n",
       "       [5.78861011e+04, 5.94211390e+06],\n",
       "       [4.17288494e+04, 5.95827115e+06]])"
      ]
     },
     "execution_count": 82,
     "metadata": {},
     "output_type": "execute_result"
    }
   ],
   "source": [
    "RES"
   ]
  },
  {
   "cell_type": "code",
   "execution_count": 83,
   "metadata": {},
   "outputs": [
    {
     "data": {
      "text/plain": [
       "4.172903555700173"
      ]
     },
     "execution_count": 83,
     "metadata": {},
     "output_type": "execute_result"
    }
   ],
   "source": [
    "RES[1][1]"
   ]
  },
  {
   "cell_type": "code",
   "execution_count": 84,
   "metadata": {},
   "outputs": [
    {
     "data": {
      "text/plain": [
       "Text(0, 0.5, 'Susceptibles and Infecteds')"
      ]
     },
     "execution_count": 84,
     "metadata": {},
     "output_type": "execute_result"
    },
    {
     "data": {
      "image/png": "[encoded data removed]",
      "text/plain": [
       "<Figure size 432x288 with 1 Axes>"
      ]
     },
     "metadata": {
      "needs_background": "light"
     },
     "output_type": "display_data"
    }
   ],
   "source": [
    "#Ploting\n",
    "# pl.subplot(211)\n",
    "pl.plot(RES[:,0], '-b', label='Susceptibles')\n",
    "pl.plot(RES[:,1], '-r', label='Infecteds')\n",
    "pl.legend(loc=0)\n",
    "pl.title('SI Model')\n",
    "pl.xlabel('Time')\n",
    "pl.ylabel('Susceptibles and Infecteds')"
   ]
  },
  {
   "cell_type": "markdown",
   "metadata": {},
   "source": [
    "## SIR"
   ]
  },
  {
   "cell_type": "code",
   "execution_count": 181,
   "metadata": {},
   "outputs": [],
   "source": [
    "beta = 0.475\n",
    "gamma = 0.146\n",
    "\n",
    "t_start = 0.0\n",
    "t_end = 60       # Transmit Time\n",
    "\n",
    "N = 6*math.pow(10,6)\n",
    "R0 = 0\n",
    "I0 = 3      # Initial Number of Infectious\n",
    "S0 = N - I0 - R0    # Initial Number of Susceptible\n",
    "\n",
    "INPUT = (S0, I0, R0)"
   ]
  },
  {
   "cell_type": "code",
   "execution_count": 182,
   "metadata": {},
   "outputs": [],
   "source": [
    "def model_SIR(INP,t):  \n",
    "    Y = np.zeros((3))\n",
    "    V = INP\n",
    "    Y[0] = - beta * V[0] * V[1]/N                    # Y[0] is dS(t)/dt, V[0] is S(t)\n",
    "    Y[1] = beta * V[0] * V[1]/N - gamma * V[1]       # Y[1] is dI(t)/dt, V[1] is I(t)\n",
    "    Y[2] = gamma * V[1]                            # Y[2] is dR(t)/dt.\n",
    "    return Y   # For odeint"
   ]
  },
  {
   "cell_type": "code",
   "execution_count": 183,
   "metadata": {},
   "outputs": [],
   "source": [
    "t_range = np.arange(t_start, t_end)\n",
    "\n",
    "RES = spi.odeint(model_SIR, INPUT, t_range)   # INPUT is the first parameter of func diff_eqs\n",
    "                                             # t_range is the second parameter of func diff_eqs"
   ]
  },
  {
   "cell_type": "code",
   "execution_count": 184,
   "metadata": {},
   "outputs": [
    {
     "data": {
      "text/plain": [
       "array([[5.99999700e+06, 3.00000000e+00, 0.00000000e+00],\n",
       "       [5.99999531e+06, 4.16873230e+00, 5.18647641e-01],\n",
       "       [5.99999297e+06, 5.79277557e+00, 1.23934871e+00],\n",
       "       [5.99998971e+06, 8.04950713e+00, 2.24081830e+00],\n",
       "       [5.99998518e+06, 1.11854059e+01, 3.63243714e+00],\n",
       "       [5.99997889e+06, 1.55429705e+01, 5.56619759e+00],\n",
       "       [5.99997015e+06, 2.15981245e+01, 8.25330366e+00],\n",
       "       [5.99995800e+06, 3.00121910e+01, 1.19872378e+01],\n",
       "       [5.99994112e+06, 4.17041112e+01, 1.71758125e+01],\n",
       "       [5.99991766e+06, 5.79507887e+01, 2.43857068e+01],\n",
       "       [5.99988507e+06, 8.05265100e+01, 3.44043498e+01],\n",
       "       [5.99983978e+06, 1.11896648e+02, 4.83259053e+01],\n",
       "       [5.99977684e+06, 1.55486767e+02, 6.76707408e+01],\n",
       "       [5.99968939e+06, 2.16056445e+02, 9.45514125e+01],\n",
       "       [5.99956788e+06, 3.00218506e+02, 1.31903264e+02],\n",
       "       [5.99939904e+06, 4.17160083e+02, 1.83804761e+02],\n",
       "       [5.99916443e+06, 5.79643751e+02, 2.55922440e+02],\n",
       "       [5.99883847e+06, 8.05397023e+02, 3.56128820e+02],\n",
       "       [5.99838560e+06, 1.11904000e+03, 4.95360353e+02],\n",
       "       [5.99775643e+06, 1.55475789e+03, 6.88808233e+02],\n",
       "       [5.99688243e+06, 2.16000280e+03, 9.57570520e+02],\n",
       "       [5.99566844e+06, 3.00061506e+03, 1.33094281e+03],\n",
       "       [5.99398251e+06, 4.16789573e+03, 1.84959158e+03],\n",
       "       [5.99164170e+06, 5.78835017e+03, 2.56994497e+03],\n",
       "       [5.98839268e+06, 8.03706539e+03, 3.57025800e+03],\n",
       "       [5.98388504e+06, 1.11559879e+04, 4.95897112e+03],\n",
       "       [5.97763508e+06, 1.54787275e+04, 6.88619156e+03],\n",
       "       [5.96897672e+06, 2.14638888e+04, 9.55939221e+03],\n",
       "       [5.95699603e+06, 2.97392361e+04, 1.32647383e+04],\n",
       "       [5.94044520e+06, 4.11590056e+04, 1.83957963e+04],\n",
       "       [5.91763235e+06, 5.68759737e+04, 2.54916760e+04],\n",
       "       [5.88628558e+06, 7.84276579e+04, 3.52867582e+04],\n",
       "       [5.84339535e+06, 1.07830914e+05, 4.87737358e+04],\n",
       "       [5.78505069e+06, 1.47669106e+05, 6.72802058e+04],\n",
       "       [5.70630602e+06, 2.01138428e+05, 9.25555545e+04],\n",
       "       [5.60114887e+06, 2.71992985e+05, 1.26858148e+05],\n",
       "       [5.46268363e+06, 3.64294763e+05, 1.73021604e+05],\n",
       "       [5.28368778e+06, 4.81849120e+05, 2.34463099e+05],\n",
       "       [5.05769550e+06, 6.27224779e+05, 3.15079724e+05],\n",
       "       [4.78065264e+06, 8.00376116e+05, 4.18971244e+05],\n",
       "       [4.45290551e+06, 9.97146921e+05, 5.49947572e+05],\n",
       "       [4.08087790e+06, 1.20827698e+06, 7.10845117e+05],\n",
       "       [3.67750976e+06, 1.41970649e+06, 9.02783745e+05],\n",
       "       [3.26076271e+06, 1.61464169e+06, 1.12459560e+06],\n",
       "       [2.85036936e+06, 1.77696562e+06, 1.37266503e+06],\n",
       "       [2.46401125e+06, 1.89469976e+06, 1.64128899e+06],\n",
       "       [2.11443643e+06, 1.96210612e+06, 1.92345744e+06],\n",
       "       [1.80839526e+06, 1.97980780e+06, 2.21179694e+06],\n",
       "       [1.54726216e+06, 1.95333103e+06, 2.49940681e+06],\n",
       "       [1.32857818e+06, 1.89099847e+06, 2.78042335e+06],\n",
       "       [1.14772564e+06, 1.80199314e+06, 3.05028122e+06],\n",
       "       [9.99267525e+05, 1.69500043e+06, 3.30573205e+06],\n",
       "       [8.77817899e+05, 1.57747106e+06, 3.54471104e+06],\n",
       "       [7.78505328e+05, 1.45536158e+06, 3.76613309e+06],\n",
       "       [6.97155126e+05, 1.33317016e+06, 3.96967471e+06],\n",
       "       [6.30306847e+05, 1.21411981e+06, 4.15557334e+06],\n",
       "       [5.75150167e+05, 1.10039180e+06, 4.32445803e+06],\n",
       "       [5.29430002e+05, 9.93355599e+05, 4.47721440e+06],\n",
       "       [4.91348116e+05, 8.93770672e+05, 4.61488121e+06],\n",
       "       [4.59473865e+05, 8.01952228e+05, 4.73857391e+06]])"
      ]
     },
     "execution_count": 184,
     "metadata": {},
     "output_type": "execute_result"
    }
   ],
   "source": [
    "RES"
   ]
  },
  {
   "cell_type": "code",
   "execution_count": 186,
   "metadata": {},
   "outputs": [
    {
     "data": {
      "text/plain": [
       "Text(0, 0.5, 'Infectious and Recovereds')"
      ]
     },
     "execution_count": 186,
     "metadata": {},
     "output_type": "execute_result"
    },
    {
     "data": {
      "image/png": "[encoded data removed]",
      "text/plain": [
       "<Figure size 432x288 with 1 Axes>"
      ]
     },
     "metadata": {
      "needs_background": "light"
     },
     "output_type": "display_data"
    }
   ],
   "source": [
    "#Ploting\n",
    "pl.plot(RES[:,1], '-r', label='Infecteds')\n",
    "pl.plot(RES[:,2], '-g', label='Recovereds')\n",
    "\n",
    "pl.legend(loc=0)\n",
    "pl.title('Italy, SIR Model')\n",
    "pl.xlabel('Time')\n",
    "pl.ylabel('Infectious and Recovereds')"
   ]
  },
  {
   "cell_type": "code",
   "execution_count": null,
   "metadata": {},
   "outputs": [],
   "source": []
  }
 ],
 "metadata": {
  "kernelspec": {
   "display_name": "Python 3",
   "language": "python",
   "name": "python3"
  },
  "language_info": {
   "codemirror_mode": {
    "name": "ipython",
    "version": 3
   },
   "file_extension": ".py",
   "mimetype": "text/x-python",
   "name": "python",
   "nbconvert_exporter": "python",
   "pygments_lexer": "ipython3",
   "version": "3.7.4"
  }
 },
 "nbformat": 4,
 "nbformat_minor": 2
}
