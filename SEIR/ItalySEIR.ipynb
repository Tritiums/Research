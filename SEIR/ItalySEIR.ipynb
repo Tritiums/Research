{
 "cells": [
  {
   "cell_type": "code",
   "execution_count": 1,
   "metadata": {},
   "outputs": [],
   "source": [
    "import scipy\n",
    "from scipy import stats\n",
    "import scipy.integrate as spi\n",
    "import numpy as np\n",
    "import pylab as pl\n",
    "import math\n",
    "%matplotlib inline"
   ]
  },
  {
   "cell_type": "markdown",
   "metadata": {},
   "source": [
    "def siModel(t):\n",
    "    i = N * math.pow(math.e, N*t)/(N-1+math.pow(math.e, N*t))"
   ]
  },
  {
   "cell_type": "code",
   "execution_count": 79,
   "metadata": {},
   "outputs": [],
   "source": [
    "beta = 0.33\n",
    "\n",
    "t_start = 0\n",
    "t_end = 60      # Transmit Time\n",
    "\n",
    "N = 6*math.pow(10,6)\n",
    "\n",
    "\n",
    "I0 = 3     # Initial Number of Infected\n",
    "S0 = N - I0    # Initial Number of Susceptible\n",
    "\n",
    "INPUT = (S0, I0)"
   ]
  },
  {
   "cell_type": "code",
   "execution_count": 80,
   "metadata": {},
   "outputs": [],
   "source": [
    "def model_SI(INP,t):  \n",
    "    \n",
    "    Y=np.zeros((2))\n",
    "    V = INP\n",
    "    Y[0] = - beta * V[0] * V[1]/N  \n",
    "    Y[1] = beta * V[0] * V[1]/N\n",
    "    return Y   # For odeint"
   ]
  },
  {
   "cell_type": "code",
   "execution_count": 81,
   "metadata": {},
   "outputs": [],
   "source": [
    "t_range = np.arange(t_start, t_end)\n",
    "\n",
    "RES = spi.odeint(model_SI, INPUT, t_range)   # INPUT is the first parameter of func diff_eqs\n",
    "                                             # t_range is the second parameter of func diff_eqs\n"
   ]
  },
  {
   "cell_type": "code",
   "execution_count": 82,
   "metadata": {},
   "outputs": [
    {
     "data": {
      "text/plain": [
       "array([[5.99999700e+06, 3.00000000e+00],\n",
       "       [5.99999583e+06, 4.17290356e+00],\n",
       "       [5.99999420e+06, 5.80437436e+00],\n",
       "       [5.99999193e+06, 8.07369674e+00],\n",
       "       [5.99998877e+06, 1.12302490e+01],\n",
       "       [5.99998438e+06, 1.56209071e+01],\n",
       "       [5.99997827e+06, 2.17281617e+01],\n",
       "       [5.99996978e+06, 3.02231378e+01],\n",
       "       [5.99995796e+06, 4.20393387e+01],\n",
       "       [5.99994152e+06, 5.84752205e+01],\n",
       "       [5.99991866e+06, 8.13368586e+01],\n",
       "       [5.99988686e+06, 1.13136379e+02],\n",
       "       [5.99984263e+06, 1.57367938e+02],\n",
       "       [5.99978111e+06, 2.18891543e+02],\n",
       "       [5.99969553e+06, 3.04466819e+02],\n",
       "       [5.99957650e+06, 4.23495242e+02],\n",
       "       [5.99941095e+06, 5.89052133e+02],\n",
       "       [5.99918068e+06, 8.19321299e+02],\n",
       "       [5.99886041e+06, 1.13958898e+03],\n",
       "       [5.99841499e+06, 1.58501426e+03],\n",
       "       [5.99779552e+06, 2.20447665e+03],\n",
       "       [5.99693408e+06, 3.06591637e+03],\n",
       "       [5.99573626e+06, 4.26374017e+03],\n",
       "       [5.99407092e+06, 5.92907943e+03],\n",
       "       [5.99175602e+06, 8.24397552e+03],\n",
       "       [5.98853905e+06, 1.14609506e+04],\n",
       "       [5.98407008e+06, 1.59299204e+04],\n",
       "       [5.97786496e+06, 2.21350351e+04],\n",
       "       [5.96925522e+06, 3.07447837e+04],\n",
       "       [5.95732049e+06, 4.26795113e+04],\n",
       "       [5.94079880e+06, 5.92011979e+04],\n",
       "       [5.91796946e+06, 8.20305352e+04],\n",
       "       [5.88650480e+06, 1.13495201e+05],\n",
       "       [5.84329074e+06, 1.56709260e+05],\n",
       "       [5.78422577e+06, 2.15774231e+05],\n",
       "       [5.70402636e+06, 2.95973645e+05],\n",
       "       [5.59609973e+06, 4.03900265e+05],\n",
       "       [5.45259460e+06, 5.47405402e+05],\n",
       "       [5.26480084e+06, 7.35199155e+05],\n",
       "       [5.02411280e+06, 9.75887199e+05],\n",
       "       [4.72373015e+06, 1.27626985e+06],\n",
       "       [4.36105005e+06, 1.63894995e+06],\n",
       "       [3.94024671e+06, 2.05975329e+06],\n",
       "       [3.47398174e+06, 2.52601826e+06],\n",
       "       [2.98298593e+06, 3.01701407e+06],\n",
       "       [2.49289991e+06, 3.50710009e+06],\n",
       "       [2.02917726e+06, 3.97082274e+06],\n",
       "       [1.61206483e+06, 4.38793517e+06],\n",
       "       [1.25362394e+06, 4.74637606e+06],\n",
       "       [9.57490888e+05, 5.04250911e+06],\n",
       "       [7.20689197e+05, 5.27931080e+06],\n",
       "       [5.36224270e+05, 5.46377573e+06],\n",
       "       [3.95437744e+05, 5.60456226e+06],\n",
       "       [2.89655355e+05, 5.71034464e+06],\n",
       "       [2.11104630e+05, 5.78889537e+06],\n",
       "       [1.53284015e+05, 5.84671599e+06],\n",
       "       [1.10996554e+05, 5.88900345e+06],\n",
       "       [8.02151556e+04, 5.91978484e+06],\n",
       "       [5.78861011e+04, 5.94211390e+06],\n",
       "       [4.17288494e+04, 5.95827115e+06]])"
      ]
     },
     "execution_count": 82,
     "metadata": {},
     "output_type": "execute_result"
    }
   ],
   "source": [
    "RES"
   ]
  },
  {
   "cell_type": "code",
   "execution_count": 83,
   "metadata": {},
   "outputs": [
    {
     "data": {
      "text/plain": [
       "4.172903555700173"
      ]
     },
     "execution_count": 83,
     "metadata": {},
     "output_type": "execute_result"
    }
   ],
   "source": [
    "RES[1][1]"
   ]
  },
  {
   "cell_type": "code",
   "execution_count": 84,
   "metadata": {},
   "outputs": [
    {
     "data": {
      "text/plain": [
       "Text(0, 0.5, 'Susceptibles and Infecteds')"
      ]
     },
     "execution_count": 84,
     "metadata": {},
     "output_type": "execute_result"
    },
    {
     "data": {
      "image/png": "[encoded data removed]",
      "text/plain": [
       "<Figure size 432x288 with 1 Axes>"
      ]
     },
     "metadata": {
      "needs_background": "light"
     },
     "output_type": "display_data"
    }
   ],
   "source": [
    "#Ploting\n",
    "# pl.subplot(211)\n",
    "pl.plot(RES[:,0], '-b', label='Susceptibles')\n",
    "pl.plot(RES[:,1], '-r', label='Infecteds')\n",
    "pl.legend(loc=0)\n",
    "pl.title('SI Model')\n",
    "pl.xlabel('Time')\n",
    "pl.ylabel('Susceptibles and Infecteds')"
   ]
  },
  {
   "cell_type": "markdown",
   "metadata": {},
   "source": [
    "## SIR"
   ]
  },
  {
   "cell_type": "code",
   "execution_count": 26,
   "metadata": {},
   "outputs": [],
   "source": [
    "beta = 6.0899999999999554\n",
    "gamma = 5.699999999999964\n",
    "\n",
    "t_start = 0.0\n",
    "t_end = 60      # Transmit Time\n",
    "\n",
    "N = 6*math.pow(10,6)\n",
    "R0 = 0\n",
    "I0 = 3      # Initial Number of Infectious\n",
    "S0 = N - I0 - R0    # Initial Number of Susceptible\n",
    "\n",
    "INPUT = (S0, I0, R0)"
   ]
  },
  {
   "cell_type": "code",
   "execution_count": 27,
   "metadata": {},
   "outputs": [],
   "source": [
    "def model_SIR(INP,t):  \n",
    "    Y = np.zeros((3))\n",
    "    V = INP\n",
    "    Y[0] = - beta * V[0] * V[1]/N                    # Y[0] is dS(t)/dt, V[0] is S(t)\n",
    "    Y[1] = beta * V[0] * V[1]/N - gamma * V[1]       # Y[1] is dI(t)/dt, V[1] is I(t)\n",
    "    Y[2] = gamma * V[1]                            # Y[2] is dR(t)/dt.\n",
    "    return Y   # For odeint\n"
   ]
  },
  {
   "cell_type": "code",
   "execution_count": 28,
   "metadata": {},
   "outputs": [],
   "source": [
    "t_range = np.arange(t_start, t_end)\n",
    "\n",
    "RES = spi.odeint(model_SIR, INPUT, t_range)   # INPUT is the first parameter of func diff_eqs\n",
    "                                             # t_range is the second parameter of func diff_eqs"
   ]
  },
  {
   "cell_type": "code",
   "execution_count": 29,
   "metadata": {},
   "outputs": [
    {
     "data": {
      "text/plain": [
       "array([[5.99999700e+06, 3.00000000e+00, 0.00000000e+00],\n",
       "       [5.99997466e+06, 4.43088191e+00, 2.09136608e+01],\n",
       "       [5.99994165e+06, 6.54405665e+00, 5.18018863e+01],\n",
       "       [5.99989291e+06, 9.66465004e+00, 9.74203794e+01],\n",
       "       [5.99982094e+06, 1.42724635e+01, 1.64790431e+02],\n",
       "       [5.99971465e+06, 2.10752604e+01, 2.64276047e+02],\n",
       "       [5.99955771e+06, 3.11164229e+01, 4.11170589e+02],\n",
       "       [5.99932604e+06, 4.59326809e+01, 6.28030901e+02],\n",
       "       [5.99898411e+06, 6.77842925e+01, 9.48104445e+02],\n",
       "       [5.99847966e+06, 9.99889724e+01, 1.42034680e+03],\n",
       "       [5.99773586e+06, 1.47402012e+02, 2.11673611e+03],\n",
       "       [5.99664003e+06, 2.17097199e+02, 3.14286791e+03],\n",
       "       [5.99502753e+06, 3.19312075e+02, 4.65315359e+03],\n",
       "       [5.99265898e+06, 4.68715719e+02, 6.87230394e+03],\n",
       "       [5.98918898e+06, 6.86012344e+02, 1.01250111e+04],\n",
       "       [5.98412475e+06, 9.99757656e+02, 1.48754909e+04],\n",
       "       [5.97677501e+06, 1.44794194e+03, 2.17770441e+04],\n",
       "       [5.96619417e+06, 2.07823950e+03, 3.17275871e+04],\n",
       "       [5.95113744e+06, 2.94469881e+03, 4.59178567e+04],\n",
       "       [5.93006069e+06, 4.09716736e+03, 6.58421396e+04],\n",
       "       [5.90122398e+06, 5.55891893e+03, 9.32171056e+04],\n",
       "       [5.86297593e+06, 7.29062887e+03, 1.29733445e+05],\n",
       "       [5.81427060e+06, 9.14943475e+03, 1.76579962e+05],\n",
       "       [5.75534777e+06, 1.08708030e+04, 2.33781432e+05],\n",
       "       [5.68829298e+06, 1.21129440e+04, 2.99594075e+05],\n",
       "       [5.61704414e+06, 1.25771749e+04, 3.70378682e+05],\n",
       "       [5.54659260e+06, 1.21477911e+04, 4.41259613e+05],\n",
       "       [5.48165752e+06, 1.09501181e+04, 5.07392365e+05],\n",
       "       [5.42552708e+06, 9.28047987e+03, 5.65192440e+05],\n",
       "       [5.37960773e+06, 7.46812269e+03, 6.12924152e+05],\n",
       "       [5.34368899e+06, 5.76561446e+03, 6.50545397e+05],\n",
       "       [5.31655788e+06, 4.31160291e+03, 6.79130515e+05],\n",
       "       [5.29659719e+06, 3.14857488e+03, 7.00254235e+05],\n",
       "       [5.28219324e+06, 2.25980727e+03, 7.15546953e+05],\n",
       "       [5.27194307e+06, 1.60192232e+03, 7.26455009e+05],\n",
       "       [5.26472080e+06, 1.12563278e+03, 7.34153569e+05],\n",
       "       [5.25966740e+06, 7.86092201e+02, 7.39546505e+05],\n",
       "       [5.25614879e+06, 5.46613899e+02, 7.43304594e+05],\n",
       "       [5.25370715e+06, 3.78955580e+02, 7.45913897e+05],\n",
       "       [5.25201683e+06, 2.62177382e+02, 7.47720995e+05],\n",
       "       [5.25084855e+06, 1.81125288e+02, 7.48970325e+05],\n",
       "       [5.25004200e+06, 1.25006492e+02, 7.49832997e+05],\n",
       "       [5.24948560e+06, 8.62162314e+01, 7.50428180e+05],\n",
       "       [5.24910199e+06, 5.94347823e+01, 7.50838577e+05],\n",
       "       [5.24883759e+06, 4.09591674e+01, 7.51121447e+05],\n",
       "       [5.24865542e+06, 2.82204708e+01, 7.51316363e+05],\n",
       "       [5.24852991e+06, 1.94406306e+01, 7.51450648e+05],\n",
       "       [5.24844346e+06, 1.33909152e+01, 7.51543149e+05],\n",
       "       [5.24838391e+06, 9.22313061e+00, 7.51606863e+05],\n",
       "       [5.24834290e+06, 6.35220561e+00, 7.51650746e+05],\n",
       "       [5.24831466e+06, 4.37477422e+00, 7.51680968e+05],\n",
       "       [5.24829520e+06, 3.01284195e+00, 7.51701782e+05],\n",
       "       [5.24828181e+06, 2.07486526e+00, 7.51716116e+05],\n",
       "       [5.24827258e+06, 1.42888908e+00, 7.51725988e+05],\n",
       "       [5.24826623e+06, 9.84019588e-01, 7.51732786e+05],\n",
       "       [5.24826185e+06, 6.77651855e-01, 7.51737468e+05],\n",
       "       [5.24825884e+06, 4.66667879e-01, 7.51740692e+05],\n",
       "       [5.24825677e+06, 3.21372032e-01, 7.51742912e+05],\n",
       "       [5.24825534e+06, 2.21313285e-01, 7.51744441e+05],\n",
       "       [5.24825435e+06, 1.52407509e-01, 7.51745494e+05]])"
      ]
     },
     "execution_count": 29,
     "metadata": {},
     "output_type": "execute_result"
    }
   ],
   "source": [
    "RES"
   ]
  },
  {
   "cell_type": "code",
   "execution_count": 25,
   "metadata": {},
   "outputs": [
    {
     "data": {
      "text/plain": [
       "Text(0, 0.5, 'Infectious and Recovereds')"
      ]
     },
     "execution_count": 25,
     "metadata": {},
     "output_type": "execute_result"
    },
    {
     "data": {
      "image/png": "[encoded data removed]",
      "text/plain": [
       "<Figure size 432x288 with 1 Axes>"
      ]
     },
     "metadata": {
      "needs_background": "light"
     },
     "output_type": "display_data"
    }
   ],
   "source": [
    "#Ploting\n",
    "pl.plot(RES[:,1], '-r', label='Infecteds')\n",
    "pl.plot(RES[:,2], '-g', label='Recovereds')\n",
    "\n",
    "pl.legend(loc=0)\n",
    "pl.title('Italy, SIR Model')\n",
    "pl.xlabel('Time')\n",
    "pl.ylabel('Infectious and Recovereds')"
   ]
  },
  {
   "cell_type": "markdown",
   "metadata": {},
   "source": [
    "## Iteratible SIR Model"
   ]
  },
  {
   "cell_type": "code",
   "execution_count": 6,
   "metadata": {},
   "outputs": [],
   "source": [
    "infected_Italy ={\n",
    "'2020/2/15': 3,\n",
    "'2020/2/16': 3,\n",
    "'2020/2/17': 3,\n",
    "'2020/2/18': 3,\n",
    "'2020/2/19': 3,\n",
    "'2020/2/20': 4,\n",
    "'2020/2/21': 21,\n",
    "'2020/2/22': 79,\n",
    "'2020/2/23': 157,\n",
    "'2020/2/24': 229,\n",
    "'2020/2/25': 323,\n",
    "'2020/2/26': 470,\n",
    "'2020/2/27': 655,\n",
    "'2020/2/28': 889,\n",
    "'2020/2/29': 1128,\n",
    "'2020/3/1': 1701,\n",
    "'2020/3/2': 2036,\n",
    "'2020/3/3': 2502,\n",
    "'2020/3/4': 3089,\n",
    "'2020/3/5': 3858,\n",
    "'2020/3/6': 4636,\n",
    "'2020/3/7': 5883,\n",
    "'2020/3/8': 7375,\n",
    "'2020/3/9': 9172,\n",
    "'2020/3/10': 10149,\n",
    "'2020/3/11': 12462,\n",
    "'2020/3/12': 15113\n",
    "}"
   ]
  },
  {
   "cell_type": "code",
   "execution_count": 7,
   "metadata": {},
   "outputs": [],
   "source": [
    "observed = np.array(list(infected_Italy.values()))"
   ]
  },
  {
   "cell_type": "code",
   "execution_count": 8,
   "metadata": {},
   "outputs": [],
   "source": [
    "t_start = 0.0\n",
    "t_end = 27       # Transmit Time\n",
    "\n",
    "N = 6*math.pow(10,6)\n",
    "R0 = 0\n",
    "I0 = 3      # Initial Number of Infectious\n",
    "S0 = N - I0 - R0    # Initial Number of Susceptible\n",
    "\n",
    "INPUT = (S0, I0, R0)\n",
    "\n",
    "def model_SIR(INP,t):  \n",
    "    Y = np.zeros((3))\n",
    "    V = INP\n",
    "    Y[0] = - beta * V[0] * V[1]/N                    # Y[0] is dS(t)/dt, V[0] is S(t)\n",
    "    Y[1] = beta * V[0] * V[1]/N - gamma * V[1]       # Y[1] is dI(t)/dt, V[1] is I(t)\n",
    "    Y[2] = gamma * V[1]                            # Y[2] is dR(t)/dt.\n",
    "    return Y   # For odeint\n",
    "\n",
    "t_range = np.arange(t_start, t_end)"
   ]
  },
  {
   "cell_type": "code",
   "execution_count": 10,
   "metadata": {},
   "outputs": [
    {
     "name": "stdout",
     "output_type": "stream",
     "text": [
      "beta= 5.87999999999996   gamma= 5.489999999999968 Power_divergenceResult(statistic=4989.911396143718, pvalue=0.0)\n",
      "beta= 5.88999999999996   gamma= 5.499999999999968 Power_divergenceResult(statistic=4969.465292392733, pvalue=0.0)\n",
      "beta= 5.8999999999999595   gamma= 5.509999999999968 Power_divergenceResult(statistic=4950.038763694727, pvalue=0.0)\n",
      "beta= 5.909999999999959   gamma= 5.519999999999968 Power_divergenceResult(statistic=4931.632091902292, pvalue=0.0)\n",
      "beta= 5.919999999999959   gamma= 5.529999999999967 Power_divergenceResult(statistic=4914.245724446312, pvalue=0.0)\n",
      "beta= 5.929999999999959   gamma= 5.539999999999967 Power_divergenceResult(statistic=4897.879595678252, pvalue=0.0)\n",
      "beta= 5.939999999999959   gamma= 5.549999999999967 Power_divergenceResult(statistic=4882.534161608618, pvalue=0.0)\n",
      "beta= 5.949999999999958   gamma= 5.559999999999967 Power_divergenceResult(statistic=4868.209701966832, pvalue=0.0)\n",
      "beta= 5.959999999999958   gamma= 5.5699999999999665 Power_divergenceResult(statistic=4854.906499538072, pvalue=0.0)\n",
      "beta= 5.969999999999958   gamma= 5.579999999999966 Power_divergenceResult(statistic=4842.624839416749, pvalue=0.0)\n",
      "beta= 5.979999999999958   gamma= 5.589999999999966 Power_divergenceResult(statistic=4831.365003456731, pvalue=0.0)\n",
      "beta= 5.989999999999958   gamma= 5.599999999999966 Power_divergenceResult(statistic=4821.127278848118, pvalue=0.0)\n",
      "beta= 5.999999999999957   gamma= 5.609999999999966 Power_divergenceResult(statistic=4811.9119505885765, pvalue=0.0)\n",
      "beta= 6.009999999999957   gamma= 5.6199999999999655 Power_divergenceResult(statistic=4803.719308222153, pvalue=0.0)\n",
      "beta= 6.019999999999957   gamma= 5.629999999999965 Power_divergenceResult(statistic=4796.549640686505, pvalue=0.0)\n",
      "beta= 6.029999999999957   gamma= 5.639999999999965 Power_divergenceResult(statistic=4790.403237910594, pvalue=0.0)\n",
      "beta= 6.0399999999999565   gamma= 5.649999999999965 Power_divergenceResult(statistic=4785.280391500054, pvalue=0.0)\n",
      "beta= 6.049999999999956   gamma= 5.659999999999965 Power_divergenceResult(statistic=4781.181395212972, pvalue=0.0)\n",
      "beta= 6.059999999999956   gamma= 5.669999999999964 Power_divergenceResult(statistic=4778.106545080578, pvalue=0.0)\n",
      "beta= 6.069999999999956   gamma= 5.679999999999964 Power_divergenceResult(statistic=4776.056134794455, pvalue=0.0)\n",
      "beta= 6.079999999999956   gamma= 5.689999999999964 Power_divergenceResult(statistic=4775.030464871611, pvalue=0.0)\n",
      "beta= 6.0899999999999554   gamma= 5.699999999999964 Power_divergenceResult(statistic=4775.029833123072, pvalue=0.0)\n",
      "beta= 6.099999999999955   gamma= 5.7099999999999635 Power_divergenceResult(statistic=4776.054540833381, pvalue=0.0)\n",
      "beta= 6.109999999999955   gamma= 5.719999999999963 Power_divergenceResult(statistic=4778.104890483946, pvalue=0.0)\n",
      "beta= 6.119999999999955   gamma= 5.729999999999963 Power_divergenceResult(statistic=4781.181108525851, pvalue=0.0)\n",
      "beta= 6.129999999999955   gamma= 5.739999999999963 Power_divergenceResult(statistic=4785.283660187681, pvalue=0.0)\n",
      "beta= 6.139999999999954   gamma= 5.749999999999963 Power_divergenceResult(statistic=4790.412769641701, pvalue=0.0)\n",
      "beta= 6.149999999999954   gamma= 5.7599999999999625 Power_divergenceResult(statistic=4796.568751252685, pvalue=0.0)\n",
      "beta= 6.159999999999954   gamma= 5.769999999999962 Power_divergenceResult(statistic=4803.7519167461305, pvalue=0.0)\n",
      "beta= 6.169999999999954   gamma= 5.779999999999962 Power_divergenceResult(statistic=4811.962578160794, pvalue=0.0)\n",
      "beta= 6.1799999999999535   gamma= 5.789999999999962 Power_divergenceResult(statistic=4821.20105323885, pvalue=0.0)\n",
      "beta= 6.189999999999953   gamma= 5.799999999999962 Power_divergenceResult(statistic=4831.467726182967, pvalue=0.0)\n",
      "beta= 6.199999999999953   gamma= 5.809999999999961 Power_divergenceResult(statistic=4842.762787662537, pvalue=0.0)\n",
      "beta= 6.209999999999953   gamma= 5.819999999999961 Power_divergenceResult(statistic=4855.086621643046, pvalue=0.0)\n",
      "beta= 6.219999999999953   gamma= 5.829999999999961 Power_divergenceResult(statistic=4868.439552110196, pvalue=0.0)\n",
      "beta= 6.2299999999999525   gamma= 5.839999999999961 Power_divergenceResult(statistic=4882.82190568243, pvalue=0.0)\n",
      "beta= 6.239999999999952   gamma= 5.849999999999961 Power_divergenceResult(statistic=4898.234010494796, pvalue=0.0)\n",
      "beta= 6.249999999999952   gamma= 5.85999999999996 Power_divergenceResult(statistic=4914.6761979992625, pvalue=0.0)\n",
      "beta= 6.259999999999952   gamma= 5.86999999999996 Power_divergenceResult(statistic=4932.14880138767, pvalue=0.0)\n",
      "beta= 6.269999999999952   gamma= 5.87999999999996 Power_divergenceResult(statistic=4950.652152679795, pvalue=0.0)\n",
      "beta= 6.279999999999951   gamma= 5.88999999999996 Power_divergenceResult(statistic=4970.18659472187, pvalue=0.0)\n",
      "beta= 6.289999999999951   gamma= 5.8999999999999595 Power_divergenceResult(statistic=4990.75246474719, pvalue=0.0)\n",
      "The minimum is  4775.029833123072\n",
      "when beta is  6.0899999999999554\n",
      "when gamma is  5.699999999999964\n"
     ]
    }
   ],
   "source": [
    "minimum = 10000\n",
    "for beta in np.arange(4.0, 12.0, 0.01):\n",
    "    for gamma in np.arange(4.0, 12.0, 0.01):\n",
    "        RES = spi.odeint(model_SIR, INPUT, t_range) \n",
    "        \n",
    "        fitness = stats.chisquare(observed, RES[:,1])\n",
    "        if fitness[0] < 5000 and fitness[0] > 0:\n",
    "            print('beta=', beta, '  gamma=', gamma, fitness)\n",
    "            \n",
    "        if fitness[0] < minimum and fitness[0]>0:\n",
    "            minimum = fitness[0]\n",
    "            beta_mini = beta\n",
    "            gamma_mini = gamma\n",
    "            \n",
    "print('The minimum is ', minimum)\n",
    "print('when beta is ', beta_mini)\n",
    "print('when gamma is ', gamma_mini)"
   ]
  },
  {
   "cell_type": "code",
   "execution_count": null,
   "metadata": {},
   "outputs": [],
   "source": [
    "#Ploting\n",
    "pl.plot(RES[:,1], '-r', label='Infecteds')\n",
    "pl.plot(RES[:,2], '-g', label='Recovereds')\n",
    "\n",
    "pl.legend(loc=0)\n",
    "pl.title('Italy, SIR Model')\n",
    "pl.xlabel('Time')\n",
    "pl.ylabel('Infectious and Recovereds')"
   ]
  }
 ],
 "metadata": {
  "kernelspec": {
   "display_name": "Python 3",
   "language": "python",
   "name": "python3"
  },
  "language_info": {
   "codemirror_mode": {
    "name": "ipython",
    "version": 3
   },
   "file_extension": ".py",
   "mimetype": "text/x-python",
   "name": "python",
   "nbconvert_exporter": "python",
   "pygments_lexer": "ipython3",
   "version": "3.7.4"
  }
 },
 "nbformat": 4,
 "nbformat_minor": 2
}
