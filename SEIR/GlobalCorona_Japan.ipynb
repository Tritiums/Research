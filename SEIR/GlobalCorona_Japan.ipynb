{
 "cells": [
  {
   "cell_type": "code",
   "execution_count": 1,
   "metadata": {},
   "outputs": [],
   "source": [
    "import scipy\n",
    "from scipy import stats\n",
    "import scipy.integrate as spi\n",
    "import numpy as np\n",
    "import pylab as pl\n",
    "import pandas as pd\n",
    "import math\n",
    "import xlrd\n",
    "import sys\n",
    "import time\n",
    "\n",
    "%matplotlib inline"
   ]
  },
  {
   "cell_type": "code",
   "execution_count": 2,
   "metadata": {},
   "outputs": [
    {
     "name": "stdout",
     "output_type": "stream",
     "text": [
      "Source file: I:\\Chuan\\Documents\\GitHub\\Research\\SEIRcoronaData.xlsx loaded!\n",
      "Data Extracted!\n"
     ]
    }
   ],
   "source": [
    "filename = 'coronaData.xlsx'\n",
    "book = xlrd.open_workbook(filename)\n",
    "print('Source file: ' + sys.path[0] + filename + ' loaded!')\n",
    "\n",
    "#Extraction\n",
    "nsheets = book.nsheets\n",
    "\n",
    "sheet_names = book.sheet_names()\n",
    "sheets = {}\n",
    "\n",
    "for sheet_name in sheet_names:    \n",
    "    nrows = book.sheet_by_name(sheet_name).nrows\n",
    "    current_header = book.sheet_by_name(sheet_name).row_values(0) \n",
    "    current_data = [book.sheet_by_name(sheet_name).row_values(i) for i in range(1, nrows)]\n",
    "    sheets[sheet_name] = pd.DataFrame(current_data, columns = current_header)   #DataFrame Construction\n",
    "#Feedback\n",
    "print('Data Extracted!')"
   ]
  },
  {
   "cell_type": "code",
   "execution_count": 3,
   "metadata": {},
   "outputs": [
    {
     "data": {
      "text/plain": [
       "['Japan',\n",
       " 'Brazil',\n",
       " 'Australia',\n",
       " 'India',\n",
       " 'US',\n",
       " 'Italy',\n",
       " 'Iran',\n",
       " 'Switzerland',\n",
       " 'UK',\n",
       " 'SouthKorea',\n",
       " 'France',\n",
       " 'Germany',\n",
       " 'Spain',\n",
       " 'China']"
      ]
     },
     "execution_count": 3,
     "metadata": {},
     "output_type": "execute_result"
    }
   ],
   "source": [
    "sheet_names"
   ]
  },
  {
   "cell_type": "code",
   "execution_count": 4,
   "metadata": {},
   "outputs": [],
   "source": [
    "chosen_country = 'Japan'\n",
    "population = 124.8 * math.pow(10,6)\n",
    "infected_initial = 28\n",
    "removed_initial = 10\n",
    "\n",
    "start_count_day = 24\n",
    "\n",
    "# Population\n",
    "# China(Wuhan): 7e6, Italy: 49e6, Germany 81e6, Spain: 47e6, France: 64e6, US: 327e6, SouthKorea: 506e6\n",
    "# Japan: 124.8e6"
   ]
  },
  {
   "cell_type": "code",
   "execution_count": 5,
   "metadata": {},
   "outputs": [
    {
     "data": {
      "text/html": [
       "<div>\n",
       "<style scoped>\n",
       "    .dataframe tbody tr th:only-of-type {\n",
       "        vertical-align: middle;\n",
       "    }\n",
       "\n",
       "    .dataframe tbody tr th {\n",
       "        vertical-align: top;\n",
       "    }\n",
       "\n",
       "    .dataframe thead th {\n",
       "        text-align: right;\n",
       "    }\n",
       "</style>\n",
       "<table border=\"1\" class=\"dataframe\">\n",
       "  <thead>\n",
       "    <tr style=\"text-align: right;\">\n",
       "      <th></th>\n",
       "      <th></th>\n",
       "      <th>infected</th>\n",
       "      <th>recovered</th>\n",
       "      <th>death</th>\n",
       "    </tr>\n",
       "  </thead>\n",
       "  <tbody>\n",
       "    <tr>\n",
       "      <th>0</th>\n",
       "      <td>43852.0</td>\n",
       "      <td>2.0</td>\n",
       "      <td>0.0</td>\n",
       "      <td>0.0</td>\n",
       "    </tr>\n",
       "    <tr>\n",
       "      <th>1</th>\n",
       "      <td>43853.0</td>\n",
       "      <td>2.0</td>\n",
       "      <td>0.0</td>\n",
       "      <td>0.0</td>\n",
       "    </tr>\n",
       "    <tr>\n",
       "      <th>2</th>\n",
       "      <td>43854.0</td>\n",
       "      <td>2.0</td>\n",
       "      <td>0.0</td>\n",
       "      <td>0.0</td>\n",
       "    </tr>\n",
       "    <tr>\n",
       "      <th>3</th>\n",
       "      <td>43855.0</td>\n",
       "      <td>2.0</td>\n",
       "      <td>0.0</td>\n",
       "      <td>0.0</td>\n",
       "    </tr>\n",
       "    <tr>\n",
       "      <th>4</th>\n",
       "      <td>43856.0</td>\n",
       "      <td>4.0</td>\n",
       "      <td>1.0</td>\n",
       "      <td>0.0</td>\n",
       "    </tr>\n",
       "    <tr>\n",
       "      <th>...</th>\n",
       "      <td>...</td>\n",
       "      <td>...</td>\n",
       "      <td>...</td>\n",
       "      <td>...</td>\n",
       "    </tr>\n",
       "    <tr>\n",
       "      <th>79</th>\n",
       "      <td>43931.0</td>\n",
       "      <td>5530.0</td>\n",
       "      <td>685.0</td>\n",
       "      <td>99.0</td>\n",
       "    </tr>\n",
       "    <tr>\n",
       "      <th>80</th>\n",
       "      <td>43932.0</td>\n",
       "      <td>6005.0</td>\n",
       "      <td>762.0</td>\n",
       "      <td>99.0</td>\n",
       "    </tr>\n",
       "    <tr>\n",
       "      <th>81</th>\n",
       "      <td>43933.0</td>\n",
       "      <td>6748.0</td>\n",
       "      <td>762.0</td>\n",
       "      <td>108.0</td>\n",
       "    </tr>\n",
       "    <tr>\n",
       "      <th>82</th>\n",
       "      <td>43934.0</td>\n",
       "      <td>7370.0</td>\n",
       "      <td>784.0</td>\n",
       "      <td>123.0</td>\n",
       "    </tr>\n",
       "    <tr>\n",
       "      <th>83</th>\n",
       "      <td>43935.0</td>\n",
       "      <td>7645.0</td>\n",
       "      <td>799.0</td>\n",
       "      <td>143.0</td>\n",
       "    </tr>\n",
       "  </tbody>\n",
       "</table>\n",
       "<p>84 rows × 4 columns</p>\n",
       "</div>"
      ],
      "text/plain": [
       "             infected  recovered  death\n",
       "0   43852.0       2.0        0.0    0.0\n",
       "1   43853.0       2.0        0.0    0.0\n",
       "2   43854.0       2.0        0.0    0.0\n",
       "3   43855.0       2.0        0.0    0.0\n",
       "4   43856.0       4.0        1.0    0.0\n",
       "..      ...       ...        ...    ...\n",
       "79  43931.0    5530.0      685.0   99.0\n",
       "80  43932.0    6005.0      762.0   99.0\n",
       "81  43933.0    6748.0      762.0  108.0\n",
       "82  43934.0    7370.0      784.0  123.0\n",
       "83  43935.0    7645.0      799.0  143.0\n",
       "\n",
       "[84 rows x 4 columns]"
      ]
     },
     "execution_count": 5,
     "metadata": {},
     "output_type": "execute_result"
    }
   ],
   "source": [
    "sheets[chosen_country]"
   ]
  },
  {
   "cell_type": "code",
   "execution_count": 6,
   "metadata": {},
   "outputs": [],
   "source": [
    "removed_observed = sheets[chosen_country]['recovered'][start_count_day:] + sheets[chosen_country]['death'][start_count_day:]\n",
    "infected_observed = sheets[chosen_country]['infected'][start_count_day:] - removed_observed"
   ]
  },
  {
   "cell_type": "code",
   "execution_count": 7,
   "metadata": {},
   "outputs": [
    {
     "data": {
      "text/plain": [
       "60"
      ]
     },
     "execution_count": 7,
     "metadata": {},
     "output_type": "execute_result"
    }
   ],
   "source": [
    "len(removed_observed)"
   ]
  },
  {
   "cell_type": "code",
   "execution_count": 8,
   "metadata": {},
   "outputs": [
    {
     "data": {
      "text/plain": [
       "Text(0, 0.5, 'Infectious and Recovereds')"
      ]
     },
     "execution_count": 8,
     "metadata": {},
     "output_type": "execute_result"
    },
    {
     "data": {
      "image/png": "[encoded data removed]",
      "text/plain": [
       "<Figure size 432x288 with 1 Axes>"
      ]
     },
     "metadata": {
      "needs_background": "light"
     },
     "output_type": "display_data"
    }
   ],
   "source": [
    "#Ploting\n",
    "pl.plot(infected_observed, '-r', label='Infecteds Observed')\n",
    "pl.plot(removed_observed, '-g', label='Recovereds Observed')\n",
    "\n",
    "pl.legend(loc=0)\n",
    "pl.title(chosen_country+', SIR Model')\n",
    "pl.xlabel('Time')\n",
    "pl.ylabel('Infectious and Recovereds')"
   ]
  },
  {
   "cell_type": "markdown",
   "metadata": {},
   "source": [
    "## Iteratible SIR Model"
   ]
  },
  {
   "cell_type": "code",
   "execution_count": null,
   "metadata": {},
   "outputs": [],
   "source": [
    "t_start = 0.0\n",
    "t_end = len(removed_observed) + 1       # Transmit Time\n",
    "\n",
    "N = population\n",
    "R0 = removed_initial\n",
    "I0 = infected_initial      # Initial Number of Infectious\n",
    "S0 = N - I0 - R0    # Initial Number of Susceptible\n",
    "\n",
    "INPUT = (S0, I0, R0)\n",
    "\n",
    "def model_SIR(INP,t):  \n",
    "    Y = np.zeros((3))\n",
    "    V = INP\n",
    "    Y[0] = - beta * V[0] * V[1]/N                    # Y[0] is dS(t)/dt, V[0] is S(t)\n",
    "    Y[1] = beta * V[0] * V[1]/N - gamma * V[1]       # Y[1] is dI(t)/dt, V[1] is I(t)\n",
    "    Y[2] = gamma * V[1]                            # Y[2] is dR(t)/dt.\n",
    "    return Y   # For odeint\n",
    "\n",
    "t_range = np.arange(t_start, t_end)"
   ]
  },
  {
   "cell_type": "markdown",
   "metadata": {},
   "source": [
    "### Start Interation"
   ]
  },
  {
   "cell_type": "code",
   "execution_count": null,
   "metadata": {
    "scrolled": false
   },
   "outputs": [
    {
     "name": "stdout",
     "output_type": "stream",
     "text": [
      "\n",
      "beta= 0.105   gamma= 0.009000000000000001 Power_divergenceResult(statistic=8001.977339515205, pvalue=0.0) Power_divergenceResult(statistic=8659.655620094762, pvalue=0.0)\n",
      "\n",
      "beta= 0.099   gamma= 0.012 Power_divergenceResult(statistic=6584.078605584413, pvalue=0.0) Power_divergenceResult(statistic=9041.45208592928, pvalue=0.0)\n",
      "\n",
      "beta= 0.10200000000000001   gamma= 0.012 Power_divergenceResult(statistic=3558.9138907688375, pvalue=0.0) Power_divergenceResult(statistic=6933.228958819191, pvalue=0.0)\n",
      "\n",
      "beta= 0.105   gamma= 0.012 Power_divergenceResult(statistic=4025.0632429747693, pvalue=0.0) Power_divergenceResult(statistic=5266.366615733756, pvalue=0.0)\n",
      "\n",
      "beta= 0.108   gamma= 0.012 Power_divergenceResult(statistic=8001.8724957761, pvalue=0.0) Power_divergenceResult(statistic=4037.9918924415415, pvalue=0.0)\n",
      "\n",
      "beta= 0.10200000000000001   gamma= 0.015 Power_divergenceResult(statistic=6584.135931478145, pvalue=0.0) Power_divergenceResult(statistic=4824.827853890223, pvalue=0.0)\n",
      "\n",
      "beta= 0.105   gamma= 0.015 Power_divergenceResult(statistic=3558.929987474143, pvalue=0.0) Power_divergenceResult(statistic=3556.7611318275076, pvalue=0.0)\n",
      "\n",
      "beta= 0.108   gamma= 0.015 Power_divergenceResult(statistic=4025.0258387408744, pvalue=0.0) Power_divergenceResult(statistic=2715.3218228310293, pvalue=0.0)\n",
      "\n",
      "beta= 0.111   gamma= 0.015 Power_divergenceResult(statistic=8001.764749738102, pvalue=0.0) Power_divergenceResult(statistic=2307.074173110175, pvalue=0.0)\n",
      "\n",
      "beta= 0.105   gamma= 0.018000000000000002 Power_divergenceResult(statistic=6584.194925624539, pvalue=0.0) Power_divergenceResult(statistic=2604.244755125186, pvalue=0.0)\n",
      "\n",
      "beta= 0.108   gamma= 0.018000000000000002 Power_divergenceResult(statistic=3558.946540278012, pvalue=0.0) Power_divergenceResult(statistic=1995.60194342252, pvalue=0.0)\n",
      "\n",
      "beta= 0.111   gamma= 0.018000000000000002 Power_divergenceResult(statistic=4024.98740097703, pvalue=0.0) Power_divergenceResult(statistic=1814.2638261763866, pvalue=0.0)\n",
      "\n",
      "beta= 0.114   gamma= 0.018000000000000002 Power_divergenceResult(statistic=8001.654101533284, pvalue=0.0) Power_divergenceResult(statistic=2075.2004825472704, pvalue=0.0)\n",
      "\n",
      "beta= 0.108   gamma= 0.021 Power_divergenceResult(statistic=6584.2555880757145, pvalue=0.0) Power_divergenceResult(statistic=1557.0635696072163, pvalue=1.2360173755460224e-286)\n",
      "\n",
      "beta= 0.111   gamma= 0.021 Power_divergenceResult(statistic=3558.963549245541, pvalue=0.0) Power_divergenceResult(statistic=1500.4076417875008, pvalue=8.64088340827e-275)\n",
      "\n",
      "beta= 0.114   gamma= 0.021 Power_divergenceResult(statistic=4024.9479297778275, pvalue=0.0) Power_divergenceResult(statistic=1881.1350079981921, pvalue=0.0)\n",
      "\n",
      "beta= 0.117   gamma= 0.021 Power_divergenceResult(statistic=8001.540551297867, pvalue=0.0) Power_divergenceResult(statistic=2721.943263338344, pvalue=0.0)\n",
      "\n",
      "beta= 0.111   gamma= 0.024 Power_divergenceResult(statistic=6584.31791887523, pvalue=0.0) Power_divergenceResult(statistic=1258.8124661041807, pvalue=1.6923997477874376e-224)\n",
      "\n",
      "beta= 0.114   gamma= 0.024 Power_divergenceResult(statistic=3558.9810144457274, pvalue=0.0) Power_divergenceResult(statistic=1685.0417864709793, pvalue=0.0)\n",
      "\n",
      "beta= 0.117   gamma= 0.024 Power_divergenceResult(statistic=4024.9074252389755, pvalue=0.0) Power_divergenceResult(statistic=2564.888894827243, pvalue=0.0)\n",
      "\n",
      "beta= 0.12   gamma= 0.024 Power_divergenceResult(statistic=8001.424099169407, pvalue=0.0) Power_divergenceResult(statistic=3928.3126779380495, pvalue=0.0)\n",
      "\n",
      "beta= 0.114   gamma= 0.027 Power_divergenceResult(statistic=6584.381918079307, pvalue=0.0) Power_divergenceResult(statistic=1468.041979354592, pvalue=4.956008296473879e-268)\n",
      "\n",
      "beta= 0.117   gamma= 0.027 Power_divergenceResult(statistic=3558.9989359486767, pvalue=0.0) Power_divergenceResult(statistic=2330.0702658666155, pvalue=0.0)\n",
      "\n",
      "beta= 0.12   gamma= 0.027 Power_divergenceResult(statistic=4024.865887459142, pvalue=0.0) Power_divergenceResult(statistic=3666.2008592993716, pvalue=0.0)\n",
      "\n",
      "beta= 0.123   gamma= 0.027 Power_divergenceResult(statistic=8001.304745292962, pvalue=0.0) Power_divergenceResult(statistic=5513.320886991106, pvalue=0.0)\n",
      "\n",
      "beta= 0.117   gamma= 0.03 Power_divergenceResult(statistic=6584.447585742204, pvalue=0.0) Power_divergenceResult(statistic=2037.178527998425, pvalue=0.0)\n",
      "\n",
      "beta= 0.12   gamma= 0.03 Power_divergenceResult(statistic=3559.017313825175, pvalue=0.0) Power_divergenceResult(statistic=3301.4708600649656, pvalue=0.0)\n",
      "\n",
      "beta= 0.123   gamma= 0.03 Power_divergenceResult(statistic=4024.823316538888, pvalue=0.0) Power_divergenceResult(statistic=5063.407383262884, pvalue=0.0)\n",
      "\n",
      "beta= 0.126   gamma= 0.03 Power_divergenceResult(statistic=8001.1824898107125, pvalue=0.0) Power_divergenceResult(statistic=7366.557711261921, pvalue=0.0)\n",
      "\n",
      "beta= 0.12   gamma= 0.033 Power_divergenceResult(statistic=6584.51492224405, pvalue=0.0) Power_divergenceResult(statistic=2870.896331506584, pvalue=0.0)\n",
      "\n",
      "beta= 0.123   gamma= 0.033 Power_divergenceResult(statistic=3559.036148147539, pvalue=0.0) Power_divergenceResult(statistic=4512.719077522786, pvalue=0.0)\n",
      "\n",
      "beta= 0.126   gamma= 0.033 Power_divergenceResult(statistic=4024.77971258364, pvalue=0.0) Power_divergenceResult(statistic=6678.000745097617, pvalue=0.0)\n",
      "\n",
      "beta= 0.129   gamma= 0.033 Power_divergenceResult(statistic=8001.057332876586, pvalue=0.0) Power_divergenceResult(statistic=9416.807100298069, pvalue=0.0)\n",
      "\n",
      "beta= 0.123   gamma= 0.036000000000000004 Power_divergenceResult(statistic=6584.583966950469, pvalue=0.0) Power_divergenceResult(statistic=3904.8520656725004, pvalue=0.0)\n",
      "\n",
      "beta= 0.126   gamma= 0.036000000000000004 Power_divergenceResult(statistic=3559.0554476357524, pvalue=0.0) Power_divergenceResult(statistic=5905.437852375977, pvalue=0.0)\n",
      "\n",
      "beta= 0.129   gamma= 0.036000000000000004 Power_divergenceResult(statistic=4024.7350724295497, pvalue=0.0) Power_divergenceResult(statistic=8457.032921273345, pvalue=0.0)\n",
      "\n",
      "beta= 0.126   gamma= 0.039 Power_divergenceResult(statistic=6584.654672637579, pvalue=0.0) Power_divergenceResult(statistic=5094.031313869767, pvalue=0.0)\n",
      "\n",
      "beta= 0.129   gamma= 0.039 Power_divergenceResult(statistic=3559.0752067160624, pvalue=0.0) Power_divergenceResult(statistic=7438.801174247198, pvalue=0.0)\n",
      "\n",
      "beta= 0.129   gamma= 0.042 Power_divergenceResult(statistic=6584.727041330003, pvalue=0.0) Power_divergenceResult(statistic=6405.990558175427, pvalue=0.0)\n",
      "\n",
      "beta= 0.132   gamma= 0.042 Power_divergenceResult(statistic=3559.0954204895756, pvalue=0.0) Power_divergenceResult(statistic=9083.392815970907, pvalue=0.0)\n",
      "\n",
      "beta= 0.132   gamma= 0.045 Power_divergenceResult(statistic=6584.8010746414275, pvalue=0.0) Power_divergenceResult(statistic=7816.751194890301, pvalue=0.0)\n",
      "\n",
      "beta= 0.135   gamma= 0.048 Power_divergenceResult(statistic=6584.876773727789, pvalue=0.0) Power_divergenceResult(statistic=9308.205282970173, pvalue=0.0)\n"
     ]
    }
   ],
   "source": [
    "start = time.time()\n",
    "\n",
    "minimum_infected = math.pow(10,10)\n",
    "minimum_removed = math.pow(10,10)\n",
    "\n",
    "for gamma in np.arange(0.00, 5.0, 0.003):\n",
    "    for beta in np.arange(0.00, 5.0, 0.003):\n",
    "        RES = spi.odeint(model_SIR, INPUT, t_range) \n",
    "        \n",
    "        # Goodness Test of Fitness\n",
    "        \n",
    "        #print(RES)\n",
    "        \n",
    "        fitness_infected = stats.chisquare(infected_observed, RES[1:, 1])\n",
    "        fitness_removed = stats.chisquare(removed_observed, RES[1:, 2])\n",
    "        \n",
    "       \n",
    "        if abs(fitness_infected[0]) < 10000 and abs(fitness_removed[0]) < 10000:\n",
    "            print('\\nbeta=', beta, '  gamma=', gamma, fitness_infected, fitness_removed)\n",
    "        \n",
    "        \n",
    "        #print('beta=', beta, '  gamma=', gamma, fitness_infected, fitness_removed)\n",
    "            \n",
    "        if abs(fitness_infected[0]) < minimum_infected and abs(fitness_removed[0]) < minimum_removed:\n",
    "            minimum_infected = fitness_infected[0]\n",
    "            minimum_removed = fitness_removed[0]\n",
    "            beta_mini = beta\n",
    "            gamma_mini = gamma\n",
    "            \n",
    "end = time.time()\n",
    "duration = end - start\n",
    "            \n",
    "print('\\nThe minimum_infected Z is ', minimum_infected)\n",
    "print('The minimum_removed Z is ', minimum_removed)\n",
    "print('when beta is ', beta_mini)\n",
    "print('when gamma is ', gamma_mini)\n",
    "\n",
    "print('Time: ', duration)"
   ]
  },
  {
   "cell_type": "markdown",
   "metadata": {},
   "source": [
    "## SIR Validation"
   ]
  },
  {
   "cell_type": "code",
   "execution_count": null,
   "metadata": {},
   "outputs": [],
   "source": [
    "beta = beta_mini\n",
    "gamma = gamma_mini\n",
    "\n",
    "t_start = 0.0\n",
    "t_end = 260      # Transmit Time\n",
    "\n",
    "N = population\n",
    "R0 = removed_initial\n",
    "I0 = infected_initial  # Initial Number of Infectious\n",
    "S0 = N - I0 - R0    # Initial Number of Susceptible\n",
    "\n",
    "INPUT = (S0, I0, R0)"
   ]
  },
  {
   "cell_type": "code",
   "execution_count": null,
   "metadata": {},
   "outputs": [],
   "source": [
    "def model_SIR(INP,t):  \n",
    "    Y = np.zeros((3))\n",
    "    V = INP\n",
    "    Y[0] = - beta * V[0] * V[1]/N                    # Y[0] is dS(t)/dt, V[0] is S(t)\n",
    "    Y[1] = beta * V[0] * V[1]/N - gamma * V[1]       # Y[1] is dI(t)/dt, V[1] is I(t)\n",
    "    Y[2] = gamma * V[1]                            # Y[2] is dR(t)/dt.\n",
    "    return Y   # For odeint\n"
   ]
  },
  {
   "cell_type": "code",
   "execution_count": null,
   "metadata": {},
   "outputs": [],
   "source": [
    "def calculate_maximum(RES):\n",
    "    infected_maximum = 0\n",
    "    infected_delta_maximum = 0\n",
    "    day = 0\n",
    "    infected_yesterday = 0\n",
    "    \n",
    "    for daily_value in RES:\n",
    "        if daily_value[1] > infected_maximum:\n",
    "            infected_maximum = daily_value[1]\n",
    "            day_maximum = day\n",
    "            \n",
    "        if daily_value[1]-infected_yesterday > infected_delta_maximum:\n",
    "            infected_delta_maximum = daily_value[1]-infected_yesterday\n",
    "            day_inflection = day\n",
    "            \n",
    "        day = day + 1\n",
    "        infected_yesterday = daily_value[1]\n",
    "        \n",
    "    return infected_maximum, day_maximum, infected_delta_maximum, day_inflection        "
   ]
  },
  {
   "cell_type": "code",
   "execution_count": null,
   "metadata": {},
   "outputs": [],
   "source": [
    "t_range = np.arange(t_start, t_end)\n",
    "\n",
    "RES = spi.odeint(model_SIR, INPUT, t_range)   # INPUT is the first parameter of func diff_eqs\n",
    "                                             # t_range is the second parameter of func diff_eqs"
   ]
  },
  {
   "cell_type": "code",
   "execution_count": null,
   "metadata": {},
   "outputs": [],
   "source": [
    "peak_infected, peak_day, peak_new, inflection_day = calculate_maximum(RES)\n",
    "\n",
    "print('Peak Infected: ', f\"{int(peak_infected):,d}\")\n",
    "print('Peak Day: ', peak_day)\n",
    "print('New Case Increase Mostly: ',  f\"{int(peak_new):,d}\")\n",
    "print('Inflection Day: ', inflection_day)\n"
   ]
  },
  {
   "cell_type": "code",
   "execution_count": null,
   "metadata": {},
   "outputs": [],
   "source": [
    "#Ploting\n",
    "day = start_count_day + len(removed_observed) + 6\n",
    "pl.plot(RES[:day,1], '--r', label='Infected Expected')\n",
    "pl.plot(RES[:day,2], '--g', label='Recovered Expected')\n",
    "pl.plot(infected_observed, '-r', label='Infected Observed')\n",
    "pl.plot(removed_observed, '-g', label='Recovered Observed')\n",
    "\n",
    "pl.legend(loc=0)\n",
    "pl.title(chosen_country + ', SIR Model')\n",
    "pl.xlabel('Time')\n",
    "pl.ylabel('Infectious and Recovereds')"
   ]
  },
  {
   "cell_type": "code",
   "execution_count": null,
   "metadata": {},
   "outputs": [],
   "source": [
    "#Ploting\n",
    "pl.plot(RES[:,0], '--b', label='Susceptibles')\n",
    "pl.plot(RES[:,1], '--r', label='Infecteds')\n",
    "pl.plot(RES[:,2], '--g', label='Recovereds')\n",
    "\n",
    "pl.legend(loc=0)\n",
    "pl.title(chosen_country + ', SIR Model')\n",
    "pl.xlabel('Time')\n",
    "pl.ylabel('Infectious and Recovereds')"
   ]
  },
  {
   "cell_type": "code",
   "execution_count": null,
   "metadata": {},
   "outputs": [],
   "source": []
  }
 ],
 "metadata": {
  "kernelspec": {
   "display_name": "Python 3",
   "language": "python",
   "name": "python3"
  },
  "language_info": {
   "codemirror_mode": {
    "name": "ipython",
    "version": 3
   },
   "file_extension": ".py",
   "mimetype": "text/x-python",
   "name": "python",
   "nbconvert_exporter": "python",
   "pygments_lexer": "ipython3",
   "version": "3.7.3"
  }
 },
 "nbformat": 4,
 "nbformat_minor": 2
}
