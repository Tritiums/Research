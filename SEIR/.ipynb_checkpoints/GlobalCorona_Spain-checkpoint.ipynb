{
 "cells": [
  {
   "cell_type": "code",
   "execution_count": 1,
   "metadata": {},
   "outputs": [],
   "source": [
    "import scipy\n",
    "from scipy import stats\n",
    "import scipy.integrate as spi\n",
    "import numpy as np\n",
    "import pylab as pl\n",
    "import pandas as pd\n",
    "import math\n",
    "import xlrd\n",
    "import sys\n",
    "import time\n",
    "\n",
    "%matplotlib inline"
   ]
  },
  {
   "cell_type": "code",
   "execution_count": 2,
   "metadata": {},
   "outputs": [
    {
     "name": "stdout",
     "output_type": "stream",
     "text": [
      "Source file: I:\\Chuan\\Documents\\GitHub\\Research\\SEIRcoronaData.xlsx loaded!\n",
      "Data Extracted!\n"
     ]
    }
   ],
   "source": [
    "filename = 'coronaData.xlsx'\n",
    "book = xlrd.open_workbook(filename)\n",
    "print('Source file: ' + sys.path[0] + filename + ' loaded!')\n",
    "\n",
    "#Extraction\n",
    "nsheets = book.nsheets\n",
    "\n",
    "sheet_names = book.sheet_names()\n",
    "sheets = {}\n",
    "\n",
    "for sheet_name in sheet_names:    \n",
    "    nrows = book.sheet_by_name(sheet_name).nrows\n",
    "    current_header = book.sheet_by_name(sheet_name).row_values(0) \n",
    "    current_data = [book.sheet_by_name(sheet_name).row_values(i) for i in range(1, nrows)]\n",
    "    sheets[sheet_name] = pd.DataFrame(current_data, columns = current_header)   #DataFrame Construction\n",
    "#Feedback\n",
    "print('Data Extracted!')"
   ]
  },
  {
   "cell_type": "code",
   "execution_count": 3,
   "metadata": {},
   "outputs": [
    {
     "data": {
      "text/plain": [
       "['Italy',\n",
       " 'Iran',\n",
       " 'Switzerland',\n",
       " 'UK',\n",
       " 'SouthKorea',\n",
       " 'France',\n",
       " 'Germany',\n",
       " 'Spain',\n",
       " 'US',\n",
       " 'China']"
      ]
     },
     "execution_count": 3,
     "metadata": {},
     "output_type": "execute_result"
    }
   ],
   "source": [
    "sheet_names"
   ]
  },
  {
   "cell_type": "code",
   "execution_count": 4,
   "metadata": {},
   "outputs": [],
   "source": [
    "chosen_country = 'Spain'\n",
    "population = 47 * math.pow(10,6)\n",
    "infected_initial = 2\n",
    "removed_initial = 2\n",
    "\n",
    "start_count_day = 24\n",
    "\n",
    "# Population\n",
    "# China(Wuhan): 7e6, Italy: 49e6, Germany 81e6, Spain: 47e6, France: 64e6, US: 327e6, SouthKorea: 506e6"
   ]
  },
  {
   "cell_type": "code",
   "execution_count": 5,
   "metadata": {},
   "outputs": [
    {
     "data": {
      "text/html": [
       "<div>\n",
       "<style scoped>\n",
       "    .dataframe tbody tr th:only-of-type {\n",
       "        vertical-align: middle;\n",
       "    }\n",
       "\n",
       "    .dataframe tbody tr th {\n",
       "        vertical-align: top;\n",
       "    }\n",
       "\n",
       "    .dataframe thead th {\n",
       "        text-align: right;\n",
       "    }\n",
       "</style>\n",
       "<table border=\"1\" class=\"dataframe\">\n",
       "  <thead>\n",
       "    <tr style=\"text-align: right;\">\n",
       "      <th></th>\n",
       "      <th></th>\n",
       "      <th>infected</th>\n",
       "      <th>recovered</th>\n",
       "      <th>death</th>\n",
       "    </tr>\n",
       "  </thead>\n",
       "  <tbody>\n",
       "    <tr>\n",
       "      <th>0</th>\n",
       "      <td>22-JAN-2020</td>\n",
       "      <td>0.0</td>\n",
       "      <td>0.0</td>\n",
       "      <td>0.0</td>\n",
       "    </tr>\n",
       "    <tr>\n",
       "      <th>1</th>\n",
       "      <td>23-JAN-2020</td>\n",
       "      <td>0.0</td>\n",
       "      <td>0.0</td>\n",
       "      <td>0.0</td>\n",
       "    </tr>\n",
       "    <tr>\n",
       "      <th>2</th>\n",
       "      <td>24-JAN-2020</td>\n",
       "      <td>0.0</td>\n",
       "      <td>0.0</td>\n",
       "      <td>0.0</td>\n",
       "    </tr>\n",
       "    <tr>\n",
       "      <th>3</th>\n",
       "      <td>25-JAN-2020</td>\n",
       "      <td>0.0</td>\n",
       "      <td>0.0</td>\n",
       "      <td>0.0</td>\n",
       "    </tr>\n",
       "    <tr>\n",
       "      <th>4</th>\n",
       "      <td>26-JAN-2020</td>\n",
       "      <td>0.0</td>\n",
       "      <td>0.0</td>\n",
       "      <td>0.0</td>\n",
       "    </tr>\n",
       "    <tr>\n",
       "      <th>...</th>\n",
       "      <td>...</td>\n",
       "      <td>...</td>\n",
       "      <td>...</td>\n",
       "      <td>...</td>\n",
       "    </tr>\n",
       "    <tr>\n",
       "      <th>64</th>\n",
       "      <td>43916</td>\n",
       "      <td>57786.0</td>\n",
       "      <td>7015.0</td>\n",
       "      <td>4365.0</td>\n",
       "    </tr>\n",
       "    <tr>\n",
       "      <th>65</th>\n",
       "      <td>43917</td>\n",
       "      <td>65719.0</td>\n",
       "      <td>9357.0</td>\n",
       "      <td>5138.0</td>\n",
       "    </tr>\n",
       "    <tr>\n",
       "      <th>66</th>\n",
       "      <td>43918</td>\n",
       "      <td>73235.0</td>\n",
       "      <td>12285.0</td>\n",
       "      <td>5982.0</td>\n",
       "    </tr>\n",
       "    <tr>\n",
       "      <th>67</th>\n",
       "      <td>43919</td>\n",
       "      <td>80110.0</td>\n",
       "      <td>14709.0</td>\n",
       "      <td>6803.0</td>\n",
       "    </tr>\n",
       "    <tr>\n",
       "      <th>68</th>\n",
       "      <td>43920</td>\n",
       "      <td>87956.0</td>\n",
       "      <td>16780.0</td>\n",
       "      <td>7716.0</td>\n",
       "    </tr>\n",
       "  </tbody>\n",
       "</table>\n",
       "<p>69 rows × 4 columns</p>\n",
       "</div>"
      ],
      "text/plain": [
       "                 infected  recovered   death\n",
       "0   22-JAN-2020       0.0        0.0     0.0\n",
       "1   23-JAN-2020       0.0        0.0     0.0\n",
       "2   24-JAN-2020       0.0        0.0     0.0\n",
       "3   25-JAN-2020       0.0        0.0     0.0\n",
       "4   26-JAN-2020       0.0        0.0     0.0\n",
       "..          ...       ...        ...     ...\n",
       "64        43916   57786.0     7015.0  4365.0\n",
       "65        43917   65719.0     9357.0  5138.0\n",
       "66        43918   73235.0    12285.0  5982.0\n",
       "67        43919   80110.0    14709.0  6803.0\n",
       "68        43920   87956.0    16780.0  7716.0\n",
       "\n",
       "[69 rows x 4 columns]"
      ]
     },
     "execution_count": 5,
     "metadata": {},
     "output_type": "execute_result"
    }
   ],
   "source": [
    "sheets[chosen_country]"
   ]
  },
  {
   "cell_type": "code",
   "execution_count": 6,
   "metadata": {},
   "outputs": [],
   "source": [
    "removed_observed = sheets[chosen_country]['recovered'][start_count_day:] + sheets[chosen_country]['death'][start_count_day:]\n",
    "infected_observed = sheets[chosen_country]['infected'][start_count_day:] - removed_observed"
   ]
  },
  {
   "cell_type": "code",
   "execution_count": 7,
   "metadata": {},
   "outputs": [
    {
     "data": {
      "text/plain": [
       "45"
      ]
     },
     "execution_count": 7,
     "metadata": {},
     "output_type": "execute_result"
    }
   ],
   "source": [
    "len(removed_observed)"
   ]
  },
  {
   "cell_type": "code",
   "execution_count": 8,
   "metadata": {},
   "outputs": [
    {
     "data": {
      "text/plain": [
       "Text(0, 0.5, 'Infectious and Recovereds')"
      ]
     },
     "execution_count": 8,
     "metadata": {},
     "output_type": "execute_result"
    },
    {
     "data": {
      "image/png": "[encoded data removed]",
      "text/plain": [
       "<Figure size 432x288 with 1 Axes>"
      ]
     },
     "metadata": {
      "needs_background": "light"
     },
     "output_type": "display_data"
    }
   ],
   "source": [
    "#Ploting\n",
    "pl.plot(infected_observed, '-r', label='Infecteds Observed')\n",
    "pl.plot(removed_observed, '-g', label='Recovereds Observed')\n",
    "\n",
    "pl.legend(loc=0)\n",
    "pl.title(chosen_country+', SIR Model')\n",
    "pl.xlabel('Time')\n",
    "pl.ylabel('Infectious and Recovereds')"
   ]
  },
  {
   "cell_type": "markdown",
   "metadata": {},
   "source": [
    "## Iteratible SIR Model"
   ]
  },
  {
   "cell_type": "code",
   "execution_count": 9,
   "metadata": {},
   "outputs": [],
   "source": [
    "t_start = 0.0\n",
    "t_end = len(removed_observed) + 1       # Transmit Time\n",
    "\n",
    "N = population\n",
    "R0 = removed_initial\n",
    "I0 = infected_initial      # Initial Number of Infectious\n",
    "S0 = N - I0 - R0    # Initial Number of Susceptible\n",
    "\n",
    "INPUT = (S0, I0, R0)\n",
    "\n",
    "def model_SIR(INP,t):  \n",
    "    Y = np.zeros((3))\n",
    "    V = INP\n",
    "    Y[0] = - beta * V[0] * V[1]/N                    # Y[0] is dS(t)/dt, V[0] is S(t)\n",
    "    Y[1] = beta * V[0] * V[1]/N - gamma * V[1]       # Y[1] is dI(t)/dt, V[1] is I(t)\n",
    "    Y[2] = gamma * V[1]                            # Y[2] is dR(t)/dt.\n",
    "    return Y   # For odeint\n",
    "\n",
    "t_range = np.arange(t_start, t_end)"
   ]
  },
  {
   "cell_type": "markdown",
   "metadata": {},
   "source": [
    "### Start Interation"
   ]
  },
  {
   "cell_type": "code",
   "execution_count": 10,
   "metadata": {
    "scrolled": false
   },
   "outputs": [
    {
     "name": "stdout",
     "output_type": "stream",
     "text": [
      "\n",
      "The minimum_infected Z is  120702.03791644296\n",
      "The minimum_removed Z is  1670.4632951522249\n",
      "when beta is  0.31\n",
      "when gamma is  0.06999999999999999\n",
      "Time:  407.68359541893005\n"
     ]
    }
   ],
   "source": [
    "start = time.time()\n",
    "\n",
    "minimum_infected = math.pow(10,10)\n",
    "minimum_removed = math.pow(10,10)\n",
    "\n",
    "for gamma in np.arange(0.01, 5.0, 0.01):\n",
    "    for beta in np.arange(0.01, 5.0, 0.01):\n",
    "        RES = spi.odeint(model_SIR, INPUT, t_range) \n",
    "        \n",
    "        # Goodness Test of Fitness\n",
    "        \n",
    "        #print(RES)\n",
    "        \n",
    "        fitness_infected = stats.chisquare(infected_observed, RES[1:, 1])\n",
    "        fitness_removed = stats.chisquare(removed_observed, RES[1:, 2])\n",
    "        \n",
    "       \n",
    "        if abs(fitness_infected[0]) < 10000 and abs(fitness_removed[0]) < 10000:\n",
    "            print('\\nbeta=', beta, '  gamma=', gamma, fitness_infected, fitness_removed)\n",
    "        \n",
    "        \n",
    "        #print('beta=', beta, '  gamma=', gamma, fitness_infected, fitness_removed)\n",
    "            \n",
    "        if abs(fitness_infected[0]) < minimum_infected and abs(fitness_removed[0]) < minimum_removed:\n",
    "            minimum_infected = fitness_infected[0]\n",
    "            minimum_removed = fitness_removed[0]\n",
    "            beta_mini = beta\n",
    "            gamma_mini = gamma\n",
    "            \n",
    "end = time.time()\n",
    "duration = end - start\n",
    "            \n",
    "print('\\nThe minimum_infected Z is ', minimum_infected)\n",
    "print('The minimum_removed Z is ', minimum_removed)\n",
    "print('when beta is ', beta_mini)\n",
    "print('when gamma is ', gamma_mini)\n",
    "\n",
    "print('Time: ', duration)"
   ]
  },
  {
   "cell_type": "markdown",
   "metadata": {},
   "source": [
    "## SIR Validation"
   ]
  },
  {
   "cell_type": "code",
   "execution_count": 11,
   "metadata": {},
   "outputs": [],
   "source": [
    "beta = beta_mini\n",
    "gamma = gamma_mini\n",
    "\n",
    "t_start = 0.0\n",
    "t_end = 200      # Transmit Time\n",
    "\n",
    "N = population\n",
    "R0 = removed_initial\n",
    "I0 = infected_initial  # Initial Number of Infectious\n",
    "S0 = N - I0 - R0    # Initial Number of Susceptible\n",
    "\n",
    "INPUT = (S0, I0, R0)"
   ]
  },
  {
   "cell_type": "code",
   "execution_count": 12,
   "metadata": {},
   "outputs": [],
   "source": [
    "def model_SIR(INP,t):  \n",
    "    Y = np.zeros((3))\n",
    "    V = INP\n",
    "    Y[0] = - beta * V[0] * V[1]/N                    # Y[0] is dS(t)/dt, V[0] is S(t)\n",
    "    Y[1] = beta * V[0] * V[1]/N - gamma * V[1]       # Y[1] is dI(t)/dt, V[1] is I(t)\n",
    "    Y[2] = gamma * V[1]                            # Y[2] is dR(t)/dt.\n",
    "    return Y   # For odeint\n"
   ]
  },
  {
   "cell_type": "code",
   "execution_count": 13,
   "metadata": {},
   "outputs": [],
   "source": [
    "def calculate_maximum(RES):\n",
    "    infected_maximum = 0\n",
    "    infected_delta_maximum = 0\n",
    "    day = 0\n",
    "    infected_yesterday = 0\n",
    "    \n",
    "    for daily_value in RES:\n",
    "        if daily_value[1] > infected_maximum:\n",
    "            infected_maximum = daily_value[1]\n",
    "            day_maximum = day\n",
    "            \n",
    "        if daily_value[1]-infected_yesterday > infected_delta_maximum:\n",
    "            infected_delta_maximum = daily_value[1]-infected_yesterday\n",
    "            day_inflection = day\n",
    "            \n",
    "        day = day + 1\n",
    "        infected_yesterday = daily_value[1]\n",
    "        \n",
    "    return infected_maximum, day_maximum, infected_delta_maximum, day_inflection        "
   ]
  },
  {
   "cell_type": "code",
   "execution_count": 14,
   "metadata": {},
   "outputs": [],
   "source": [
    "t_range = np.arange(t_start, t_end)\n",
    "\n",
    "RES = spi.odeint(model_SIR, INPUT, t_range)   # INPUT is the first parameter of func diff_eqs\n",
    "                                             # t_range is the second parameter of func diff_eqs"
   ]
  },
  {
   "cell_type": "code",
   "execution_count": 15,
   "metadata": {},
   "outputs": [
    {
     "name": "stdout",
     "output_type": "stream",
     "text": [
      "Peak Infected:  2,564,191\n",
      "Peak Day:  59\n",
      "New Case Increase Mostly:  506,773\n",
      "Inflection Day:  59\n"
     ]
    }
   ],
   "source": [
    "peak_infected, peak_day, peak_new, inflection_day = calculate_maximum(RES)\n",
    "\n",
    "print('Peak Infected: ', f\"{int(peak_infected):,d}\")\n",
    "print('Peak Day: ', peak_day)\n",
    "print('New Case Increase Mostly: ',  f\"{int(peak_new):,d}\")\n",
    "print('Inflection Day: ', inflection_day)\n"
   ]
  },
  {
   "cell_type": "code",
   "execution_count": 16,
   "metadata": {},
   "outputs": [
    {
     "data": {
      "text/plain": [
       "Text(0, 0.5, 'Infectious and Recovereds')"
      ]
     },
     "execution_count": 16,
     "metadata": {},
     "output_type": "execute_result"
    },
    {
     "data": {
      "image/png": "[encoded data removed]",
      "text/plain": [
       "<Figure size 432x288 with 1 Axes>"
      ]
     },
     "metadata": {
      "needs_background": "light"
     },
     "output_type": "display_data"
    }
   ],
   "source": [
    "#Ploting\n",
    "day = start_count_day + len(removed_observed) + 3\n",
    "pl.plot(RES[:day,1], '--r', label='Infected Expected')\n",
    "pl.plot(RES[:day,2], '--g', label='Recovered Expected')\n",
    "pl.plot(infected_observed, '-r', label='Infected Observed')\n",
    "pl.plot(removed_observed, '-g', label='Recovered Observed')\n",
    "\n",
    "pl.legend(loc=0)\n",
    "pl.title(chosen_country + ', SIR Model')\n",
    "pl.xlabel('Time')\n",
    "pl.ylabel('Infectious and Recovereds')"
   ]
  },
  {
   "cell_type": "code",
   "execution_count": 17,
   "metadata": {},
   "outputs": [
    {
     "data": {
      "text/plain": [
       "Text(0, 0.5, 'Infectious and Recovereds')"
      ]
     },
     "execution_count": 17,
     "metadata": {},
     "output_type": "execute_result"
    },
    {
     "data": {
      "image/png": "[encoded data removed]",
      "text/plain": [
       "<Figure size 432x288 with 1 Axes>"
      ]
     },
     "metadata": {
      "needs_background": "light"
     },
     "output_type": "display_data"
    }
   ],
   "source": [
    "#Ploting\n",
    "pl.plot(RES[:,0], '--b', label='Susceptibles')\n",
    "pl.plot(RES[:,1], '--r', label='Infecteds')\n",
    "pl.plot(RES[:,2], '--g', label='Recovereds')\n",
    "\n",
    "pl.legend(loc=0)\n",
    "pl.title(chosen_country + ', SIR Model')\n",
    "pl.xlabel('Time')\n",
    "pl.ylabel('Infectious and Recovereds')"
   ]
  }
 ],
 "metadata": {
  "kernelspec": {
   "display_name": "Python 3",
   "language": "python",
   "name": "python3"
  },
  "language_info": {
   "codemirror_mode": {
    "name": "ipython",
    "version": 3
   },
   "file_extension": ".py",
   "mimetype": "text/x-python",
   "name": "python",
   "nbconvert_exporter": "python",
   "pygments_lexer": "ipython3",
   "version": "3.7.3"
  }
 },
 "nbformat": 4,
 "nbformat_minor": 2
}
