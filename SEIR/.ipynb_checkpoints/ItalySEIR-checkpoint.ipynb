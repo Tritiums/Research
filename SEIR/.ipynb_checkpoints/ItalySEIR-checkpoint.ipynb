{
 "cells": [
  {
   "cell_type": "code",
   "execution_count": 1,
   "metadata": {},
   "outputs": [],
   "source": [
    "import scipy\n",
    "from scipy import stats\n",
    "import scipy.integrate as spi\n",
    "import numpy as np\n",
    "import pylab as pl\n",
    "import math\n",
    "%matplotlib inline"
   ]
  },
  {
   "cell_type": "markdown",
   "metadata": {},
   "source": [
    "def siModel(t):\n",
    "    i = N * math.pow(math.e, N*t)/(N-1+math.pow(math.e, N*t))"
   ]
  },
  {
   "cell_type": "code",
   "execution_count": 79,
   "metadata": {},
   "outputs": [],
   "source": [
    "beta = 0.33\n",
    "\n",
    "t_start = 0\n",
    "t_end = 60      # Transmit Time\n",
    "\n",
    "N = 6*math.pow(10,6)\n",
    "\n",
    "\n",
    "I0 = 3     # Initial Number of Infected\n",
    "S0 = N - I0    # Initial Number of Susceptible\n",
    "\n",
    "INPUT = (S0, I0)"
   ]
  },
  {
   "cell_type": "code",
   "execution_count": 80,
   "metadata": {},
   "outputs": [],
   "source": [
    "def model_SI(INP,t):  \n",
    "    \n",
    "    Y=np.zeros((2))\n",
    "    V = INP\n",
    "    Y[0] = - beta * V[0] * V[1]/N  \n",
    "    Y[1] = beta * V[0] * V[1]/N\n",
    "    return Y   # For odeint"
   ]
  },
  {
   "cell_type": "code",
   "execution_count": 81,
   "metadata": {},
   "outputs": [],
   "source": [
    "t_range = np.arange(t_start, t_end)\n",
    "\n",
    "RES = spi.odeint(model_SI, INPUT, t_range)   # INPUT is the first parameter of func diff_eqs\n",
    "                                             # t_range is the second parameter of func diff_eqs\n"
   ]
  },
  {
   "cell_type": "code",
   "execution_count": 82,
   "metadata": {},
   "outputs": [
    {
     "data": {
      "text/plain": [
       "array([[5.99999700e+06, 3.00000000e+00],\n",
       "       [5.99999583e+06, 4.17290356e+00],\n",
       "       [5.99999420e+06, 5.80437436e+00],\n",
       "       [5.99999193e+06, 8.07369674e+00],\n",
       "       [5.99998877e+06, 1.12302490e+01],\n",
       "       [5.99998438e+06, 1.56209071e+01],\n",
       "       [5.99997827e+06, 2.17281617e+01],\n",
       "       [5.99996978e+06, 3.02231378e+01],\n",
       "       [5.99995796e+06, 4.20393387e+01],\n",
       "       [5.99994152e+06, 5.84752205e+01],\n",
       "       [5.99991866e+06, 8.13368586e+01],\n",
       "       [5.99988686e+06, 1.13136379e+02],\n",
       "       [5.99984263e+06, 1.57367938e+02],\n",
       "       [5.99978111e+06, 2.18891543e+02],\n",
       "       [5.99969553e+06, 3.04466819e+02],\n",
       "       [5.99957650e+06, 4.23495242e+02],\n",
       "       [5.99941095e+06, 5.89052133e+02],\n",
       "       [5.99918068e+06, 8.19321299e+02],\n",
       "       [5.99886041e+06, 1.13958898e+03],\n",
       "       [5.99841499e+06, 1.58501426e+03],\n",
       "       [5.99779552e+06, 2.20447665e+03],\n",
       "       [5.99693408e+06, 3.06591637e+03],\n",
       "       [5.99573626e+06, 4.26374017e+03],\n",
       "       [5.99407092e+06, 5.92907943e+03],\n",
       "       [5.99175602e+06, 8.24397552e+03],\n",
       "       [5.98853905e+06, 1.14609506e+04],\n",
       "       [5.98407008e+06, 1.59299204e+04],\n",
       "       [5.97786496e+06, 2.21350351e+04],\n",
       "       [5.96925522e+06, 3.07447837e+04],\n",
       "       [5.95732049e+06, 4.26795113e+04],\n",
       "       [5.94079880e+06, 5.92011979e+04],\n",
       "       [5.91796946e+06, 8.20305352e+04],\n",
       "       [5.88650480e+06, 1.13495201e+05],\n",
       "       [5.84329074e+06, 1.56709260e+05],\n",
       "       [5.78422577e+06, 2.15774231e+05],\n",
       "       [5.70402636e+06, 2.95973645e+05],\n",
       "       [5.59609973e+06, 4.03900265e+05],\n",
       "       [5.45259460e+06, 5.47405402e+05],\n",
       "       [5.26480084e+06, 7.35199155e+05],\n",
       "       [5.02411280e+06, 9.75887199e+05],\n",
       "       [4.72373015e+06, 1.27626985e+06],\n",
       "       [4.36105005e+06, 1.63894995e+06],\n",
       "       [3.94024671e+06, 2.05975329e+06],\n",
       "       [3.47398174e+06, 2.52601826e+06],\n",
       "       [2.98298593e+06, 3.01701407e+06],\n",
       "       [2.49289991e+06, 3.50710009e+06],\n",
       "       [2.02917726e+06, 3.97082274e+06],\n",
       "       [1.61206483e+06, 4.38793517e+06],\n",
       "       [1.25362394e+06, 4.74637606e+06],\n",
       "       [9.57490888e+05, 5.04250911e+06],\n",
       "       [7.20689197e+05, 5.27931080e+06],\n",
       "       [5.36224270e+05, 5.46377573e+06],\n",
       "       [3.95437744e+05, 5.60456226e+06],\n",
       "       [2.89655355e+05, 5.71034464e+06],\n",
       "       [2.11104630e+05, 5.78889537e+06],\n",
       "       [1.53284015e+05, 5.84671599e+06],\n",
       "       [1.10996554e+05, 5.88900345e+06],\n",
       "       [8.02151556e+04, 5.91978484e+06],\n",
       "       [5.78861011e+04, 5.94211390e+06],\n",
       "       [4.17288494e+04, 5.95827115e+06]])"
      ]
     },
     "execution_count": 82,
     "metadata": {},
     "output_type": "execute_result"
    }
   ],
   "source": [
    "RES"
   ]
  },
  {
   "cell_type": "code",
   "execution_count": 83,
   "metadata": {},
   "outputs": [
    {
     "data": {
      "text/plain": [
       "4.172903555700173"
      ]
     },
     "execution_count": 83,
     "metadata": {},
     "output_type": "execute_result"
    }
   ],
   "source": [
    "RES[1][1]"
   ]
  },
  {
   "cell_type": "code",
   "execution_count": 84,
   "metadata": {},
   "outputs": [
    {
     "data": {
      "text/plain": [
       "Text(0, 0.5, 'Susceptibles and Infecteds')"
      ]
     },
     "execution_count": 84,
     "metadata": {},
     "output_type": "execute_result"
    },
    {
     "data": {
      "image/png": "[encoded data removed]",
      "text/plain": [
       "<Figure size 432x288 with 1 Axes>"
      ]
     },
     "metadata": {
      "needs_background": "light"
     },
     "output_type": "display_data"
    }
   ],
   "source": [
    "#Ploting\n",
    "# pl.subplot(211)\n",
    "pl.plot(RES[:,0], '-b', label='Susceptibles')\n",
    "pl.plot(RES[:,1], '-r', label='Infecteds')\n",
    "pl.legend(loc=0)\n",
    "pl.title('SI Model')\n",
    "pl.xlabel('Time')\n",
    "pl.ylabel('Susceptibles and Infecteds')"
   ]
  },
  {
   "cell_type": "markdown",
   "metadata": {},
   "source": [
    "## SIR"
   ]
  },
  {
   "cell_type": "code",
   "execution_count": 89,
   "metadata": {},
   "outputs": [],
   "source": [
    "beta = 1.99\n",
    "gamma = 1.64\n",
    "\n",
    "t_start = 0.0\n",
    "t_end = 60       # Transmit Time\n",
    "\n",
    "N = 6*math.pow(10,6)\n",
    "R0 = 0\n",
    "I0 = 3      # Initial Number of Infectious\n",
    "S0 = N - I0 - R0    # Initial Number of Susceptible\n",
    "\n",
    "INPUT = (S0, I0, R0)"
   ]
  },
  {
   "cell_type": "code",
   "execution_count": 90,
   "metadata": {},
   "outputs": [],
   "source": [
    "def model_SIR(INP,t):  \n",
    "    Y = np.zeros((3))\n",
    "    V = INP\n",
    "    Y[0] = - beta * V[0] * V[1]/N                    # Y[0] is dS(t)/dt, V[0] is S(t)\n",
    "    Y[1] = beta * V[0] * V[1]/N - gamma * V[1]       # Y[1] is dI(t)/dt, V[1] is I(t)\n",
    "    Y[2] = gamma * V[1]                            # Y[2] is dR(t)/dt.\n",
    "    return Y   # For odeint\n"
   ]
  },
  {
   "cell_type": "code",
   "execution_count": 91,
   "metadata": {},
   "outputs": [],
   "source": [
    "t_range = np.arange(t_start, t_end)\n",
    "\n",
    "RES = spi.odeint(model_SIR, INPUT, t_range)   # INPUT is the first parameter of func diff_eqs\n",
    "                                             # t_range is the second parameter of func diff_eqs"
   ]
  },
  {
   "cell_type": "code",
   "execution_count": 92,
   "metadata": {},
   "outputs": [
    {
     "data": {
      "text/plain": [
       "array([[5.99999700e+06, 3.00000000e+00, 0.00000000e+00],\n",
       "       [5.99998985e+06, 4.25719367e+00, 5.89088704e+00],\n",
       "       [5.99997971e+06, 6.04121548e+00, 1.42504241e+01],\n",
       "       [5.99996531e+06, 8.57281591e+00, 2.61130894e+01],\n",
       "       [5.99994489e+06, 1.21652261e+01, 4.29468133e+01],\n",
       "       [5.99991590e+06, 1.72628839e+01, 6.68345569e+01],\n",
       "       [5.99987477e+06, 2.44963578e+01, 1.00731911e+02],\n",
       "       [5.99981641e+06, 3.47602260e+01, 1.48832503e+02],\n",
       "       [5.99973359e+06, 4.93234674e+01, 2.17086244e+02],\n",
       "       [5.99961608e+06, 6.99858636e+01, 3.13934171e+02],\n",
       "       [5.99944935e+06, 9.92994372e+01, 4.51350051e+02],\n",
       "       [5.99921280e+06, 1.40881672e+02, 6.46316107e+02],\n",
       "       [5.99887723e+06, 1.99857944e+02, 9.22912379e+02],\n",
       "       [5.99840124e+06, 2.83485254e+02, 1.31527200e+03],\n",
       "       [5.99772622e+06, 4.02029077e+02, 1.87175555e+03],\n",
       "       [5.99676917e+06, 5.69991119e+02, 2.66083574e+03],\n",
       "       [5.99541281e+06, 8.07818439e+02, 3.77936997e+03],\n",
       "       [5.99349155e+06, 1.14426265e+03, 5.36418321e+03],\n",
       "       [5.99077221e+06, 1.61959625e+03, 7.60819214e+03],\n",
       "       [5.98692742e+06, 2.28991661e+03, 1.07826644e+04],\n",
       "       [5.98149968e+06, 3.23274315e+03, 1.52675741e+04],\n",
       "       [5.97385377e+06, 4.55396902e+03, 2.15922580e+04],\n",
       "       [5.96311577e+06, 6.39583299e+03, 3.04883981e+04],\n",
       "       [5.94809912e+06, 8.94469883e+03, 4.29561774e+04],\n",
       "       [5.92722307e+06, 1.24357209e+04, 6.03412052e+04],\n",
       "       [5.89843865e+06, 1.71485439e+04, 8.44128025e+04],\n",
       "       [5.85919475e+06, 2.33839379e+04, 1.17421312e+05],\n",
       "       [5.80650139e+06, 3.14068615e+04, 1.62091753e+05],\n",
       "       [5.73717299e+06, 4.13410186e+04, 2.21485993e+05],\n",
       "       [5.64833903e+06, 5.30123015e+04, 2.98648670e+05],\n",
       "       [5.53825217e+06, 6.57743075e+04, 3.95973520e+05],\n",
       "       [5.40726644e+06, 7.84067301e+04, 5.14326826e+05],\n",
       "       [5.25862751e+06, 8.92182974e+04, 6.52154190e+05],\n",
       "       [5.09857744e+06, 9.64344017e+04, 8.04988157e+05],\n",
       "       [4.93545627e+06, 9.87707503e+04, 9.65772979e+05],\n",
       "       [4.77800421e+06, 9.59040187e+04, 1.12609178e+06],\n",
       "       [4.63356573e+06, 8.85581631e+04, 1.27787611e+06],\n",
       "       [4.50692914e+06, 7.81730670e+04, 1.41489779e+06],\n",
       "       [4.40009511e+06, 6.63838456e+04, 1.53352105e+06],\n",
       "       [4.31276997e+06, 5.45881726e+04, 1.63264186e+06],\n",
       "       [4.24316625e+06, 4.37381026e+04, 1.71309565e+06],\n",
       "       [4.18876651e+06, 3.43338678e+04, 1.77689962e+06],\n",
       "       [4.14688555e+06, 2.65266901e+04, 1.82658776e+06],\n",
       "       [4.11500889e+06, 2.02469553e+04, 1.86474415e+06],\n",
       "       [4.09095442e+06, 1.53120073e+04, 1.89373357e+06],\n",
       "       [4.07291892e+06, 1.14998608e+04, 1.91558122e+06],\n",
       "       [4.05946084e+06, 8.59211636e+03, 1.93194705e+06],\n",
       "       [4.04945400e+06, 6.39483868e+03, 1.94415116e+06],\n",
       "       [4.04203290e+06, 4.74583789e+03, 1.95322126e+06],\n",
       "       [4.03654007e+06, 3.51457620e+03, 1.95994535e+06],\n",
       "       [4.03248030e+06, 2.59866428e+03, 1.96492103e+06],\n",
       "       [4.02948289e+06, 1.91921198e+03, 1.96859789e+06],\n",
       "       [4.02727157e+06, 1.41619620e+03, 1.97131223e+06],\n",
       "       [4.02564112e+06, 1.04435783e+03, 1.97331452e+06],\n",
       "       [4.02443946e+06, 7.69790986e+02, 1.97479075e+06],\n",
       "       [4.02355411e+06, 5.67214289e+02, 1.97587867e+06],\n",
       "       [4.02290195e+06, 4.17841550e+02, 1.97668021e+06],\n",
       "       [4.02242165e+06, 3.07747940e+02, 1.97727060e+06],\n",
       "       [4.02206796e+06, 2.26630879e+02, 1.97770541e+06],\n",
       "       [4.02180753e+06, 1.66878015e+02, 1.97802559e+06]])"
      ]
     },
     "execution_count": 92,
     "metadata": {},
     "output_type": "execute_result"
    }
   ],
   "source": [
    "RES"
   ]
  },
  {
   "cell_type": "code",
   "execution_count": 93,
   "metadata": {},
   "outputs": [
    {
     "data": {
      "text/plain": [
       "Text(0, 0.5, 'Infectious and Recovereds')"
      ]
     },
     "execution_count": 93,
     "metadata": {},
     "output_type": "execute_result"
    },
    {
     "data": {
      "image/png": "[encoded data removed]",
      "text/plain": [
       "<Figure size 432x288 with 1 Axes>"
      ]
     },
     "metadata": {
      "needs_background": "light"
     },
     "output_type": "display_data"
    }
   ],
   "source": [
    "#Ploting\n",
    "pl.plot(RES[:,1], '-r', label='Infecteds')\n",
    "pl.plot(RES[:,2], '-g', label='Recovereds')\n",
    "\n",
    "pl.legend(loc=0)\n",
    "pl.title('Italy, SIR Model')\n",
    "pl.xlabel('Time')\n",
    "pl.ylabel('Infectious and Recovereds')"
   ]
  },
  {
   "cell_type": "markdown",
   "metadata": {},
   "source": [
    "## Iteratible SIR Model"
   ]
  },
  {
   "cell_type": "code",
   "execution_count": 6,
   "metadata": {},
   "outputs": [],
   "source": [
    "infected_Italy ={\n",
    "'2020/2/15': 3,\n",
    "'2020/2/16': 3,\n",
    "'2020/2/17': 3,\n",
    "'2020/2/18': 3,\n",
    "'2020/2/19': 3,\n",
    "'2020/2/20': 4,\n",
    "'2020/2/21': 21,\n",
    "'2020/2/22': 79,\n",
    "'2020/2/23': 157,\n",
    "'2020/2/24': 229,\n",
    "'2020/2/25': 323,\n",
    "'2020/2/26': 470,\n",
    "'2020/2/27': 655,\n",
    "'2020/2/28': 889,\n",
    "'2020/2/29': 1128,\n",
    "'2020/3/1': 1701,\n",
    "'2020/3/2': 2036,\n",
    "'2020/3/3': 2502,\n",
    "'2020/3/4': 3089,\n",
    "'2020/3/5': 3858,\n",
    "'2020/3/6': 4636,\n",
    "'2020/3/7': 5883,\n",
    "'2020/3/8': 7375,\n",
    "'2020/3/9': 9172,\n",
    "'2020/3/10': 10149,\n",
    "'2020/3/11': 12462,\n",
    "'2020/3/12': 15113\n",
    "}"
   ]
  },
  {
   "cell_type": "code",
   "execution_count": 7,
   "metadata": {},
   "outputs": [],
   "source": [
    "observed = np.array(list(infected_Italy.values()))"
   ]
  },
  {
   "cell_type": "code",
   "execution_count": 8,
   "metadata": {},
   "outputs": [],
   "source": [
    "t_start = 0.0\n",
    "t_end = 27       # Transmit Time\n",
    "\n",
    "N = 6*math.pow(10,6)\n",
    "R0 = 0\n",
    "I0 = 3      # Initial Number of Infectious\n",
    "S0 = N - I0 - R0    # Initial Number of Susceptible\n",
    "\n",
    "INPUT = (S0, I0, R0)\n",
    "\n",
    "def model_SIR(INP,t):  \n",
    "    Y = np.zeros((3))\n",
    "    V = INP\n",
    "    Y[0] = - beta * V[0] * V[1]/N                    # Y[0] is dS(t)/dt, V[0] is S(t)\n",
    "    Y[1] = beta * V[0] * V[1]/N - gamma * V[1]       # Y[1] is dI(t)/dt, V[1] is I(t)\n",
    "    Y[2] = gamma * V[1]                            # Y[2] is dR(t)/dt.\n",
    "    return Y   # For odeint\n",
    "\n",
    "t_range = np.arange(t_start, t_end)"
   ]
  },
  {
   "cell_type": "code",
   "execution_count": 10,
   "metadata": {},
   "outputs": [
    {
     "name": "stdout",
     "output_type": "stream",
     "text": [
      "beta= 5.87999999999996   gamma= 5.489999999999968 Power_divergenceResult(statistic=4989.911396143718, pvalue=0.0)\n",
      "beta= 5.88999999999996   gamma= 5.499999999999968 Power_divergenceResult(statistic=4969.465292392733, pvalue=0.0)\n",
      "beta= 5.8999999999999595   gamma= 5.509999999999968 Power_divergenceResult(statistic=4950.038763694727, pvalue=0.0)\n",
      "beta= 5.909999999999959   gamma= 5.519999999999968 Power_divergenceResult(statistic=4931.632091902292, pvalue=0.0)\n",
      "beta= 5.919999999999959   gamma= 5.529999999999967 Power_divergenceResult(statistic=4914.245724446312, pvalue=0.0)\n",
      "beta= 5.929999999999959   gamma= 5.539999999999967 Power_divergenceResult(statistic=4897.879595678252, pvalue=0.0)\n",
      "beta= 5.939999999999959   gamma= 5.549999999999967 Power_divergenceResult(statistic=4882.534161608618, pvalue=0.0)\n",
      "beta= 5.949999999999958   gamma= 5.559999999999967 Power_divergenceResult(statistic=4868.209701966832, pvalue=0.0)\n",
      "beta= 5.959999999999958   gamma= 5.5699999999999665 Power_divergenceResult(statistic=4854.906499538072, pvalue=0.0)\n",
      "beta= 5.969999999999958   gamma= 5.579999999999966 Power_divergenceResult(statistic=4842.624839416749, pvalue=0.0)\n",
      "beta= 5.979999999999958   gamma= 5.589999999999966 Power_divergenceResult(statistic=4831.365003456731, pvalue=0.0)\n",
      "beta= 5.989999999999958   gamma= 5.599999999999966 Power_divergenceResult(statistic=4821.127278848118, pvalue=0.0)\n",
      "beta= 5.999999999999957   gamma= 5.609999999999966 Power_divergenceResult(statistic=4811.9119505885765, pvalue=0.0)\n",
      "beta= 6.009999999999957   gamma= 5.6199999999999655 Power_divergenceResult(statistic=4803.719308222153, pvalue=0.0)\n",
      "beta= 6.019999999999957   gamma= 5.629999999999965 Power_divergenceResult(statistic=4796.549640686505, pvalue=0.0)\n",
      "beta= 6.029999999999957   gamma= 5.639999999999965 Power_divergenceResult(statistic=4790.403237910594, pvalue=0.0)\n",
      "beta= 6.0399999999999565   gamma= 5.649999999999965 Power_divergenceResult(statistic=4785.280391500054, pvalue=0.0)\n",
      "beta= 6.049999999999956   gamma= 5.659999999999965 Power_divergenceResult(statistic=4781.181395212972, pvalue=0.0)\n",
      "beta= 6.059999999999956   gamma= 5.669999999999964 Power_divergenceResult(statistic=4778.106545080578, pvalue=0.0)\n",
      "beta= 6.069999999999956   gamma= 5.679999999999964 Power_divergenceResult(statistic=4776.056134794455, pvalue=0.0)\n",
      "beta= 6.079999999999956   gamma= 5.689999999999964 Power_divergenceResult(statistic=4775.030464871611, pvalue=0.0)\n",
      "beta= 6.0899999999999554   gamma= 5.699999999999964 Power_divergenceResult(statistic=4775.029833123072, pvalue=0.0)\n",
      "beta= 6.099999999999955   gamma= 5.7099999999999635 Power_divergenceResult(statistic=4776.054540833381, pvalue=0.0)\n",
      "beta= 6.109999999999955   gamma= 5.719999999999963 Power_divergenceResult(statistic=4778.104890483946, pvalue=0.0)\n",
      "beta= 6.119999999999955   gamma= 5.729999999999963 Power_divergenceResult(statistic=4781.181108525851, pvalue=0.0)\n",
      "beta= 6.129999999999955   gamma= 5.739999999999963 Power_divergenceResult(statistic=4785.283660187681, pvalue=0.0)\n",
      "beta= 6.139999999999954   gamma= 5.749999999999963 Power_divergenceResult(statistic=4790.412769641701, pvalue=0.0)\n",
      "beta= 6.149999999999954   gamma= 5.7599999999999625 Power_divergenceResult(statistic=4796.568751252685, pvalue=0.0)\n",
      "beta= 6.159999999999954   gamma= 5.769999999999962 Power_divergenceResult(statistic=4803.7519167461305, pvalue=0.0)\n",
      "beta= 6.169999999999954   gamma= 5.779999999999962 Power_divergenceResult(statistic=4811.962578160794, pvalue=0.0)\n",
      "beta= 6.1799999999999535   gamma= 5.789999999999962 Power_divergenceResult(statistic=4821.20105323885, pvalue=0.0)\n",
      "beta= 6.189999999999953   gamma= 5.799999999999962 Power_divergenceResult(statistic=4831.467726182967, pvalue=0.0)\n",
      "beta= 6.199999999999953   gamma= 5.809999999999961 Power_divergenceResult(statistic=4842.762787662537, pvalue=0.0)\n",
      "beta= 6.209999999999953   gamma= 5.819999999999961 Power_divergenceResult(statistic=4855.086621643046, pvalue=0.0)\n",
      "beta= 6.219999999999953   gamma= 5.829999999999961 Power_divergenceResult(statistic=4868.439552110196, pvalue=0.0)\n",
      "beta= 6.2299999999999525   gamma= 5.839999999999961 Power_divergenceResult(statistic=4882.82190568243, pvalue=0.0)\n",
      "beta= 6.239999999999952   gamma= 5.849999999999961 Power_divergenceResult(statistic=4898.234010494796, pvalue=0.0)\n",
      "beta= 6.249999999999952   gamma= 5.85999999999996 Power_divergenceResult(statistic=4914.6761979992625, pvalue=0.0)\n",
      "beta= 6.259999999999952   gamma= 5.86999999999996 Power_divergenceResult(statistic=4932.14880138767, pvalue=0.0)\n",
      "beta= 6.269999999999952   gamma= 5.87999999999996 Power_divergenceResult(statistic=4950.652152679795, pvalue=0.0)\n",
      "beta= 6.279999999999951   gamma= 5.88999999999996 Power_divergenceResult(statistic=4970.18659472187, pvalue=0.0)\n",
      "beta= 6.289999999999951   gamma= 5.8999999999999595 Power_divergenceResult(statistic=4990.75246474719, pvalue=0.0)\n",
      "The minimum is  4775.029833123072\n",
      "when beta is  6.0899999999999554\n",
      "when gamma is  5.699999999999964\n"
     ]
    }
   ],
   "source": [
    "minimum = 10000\n",
    "for beta in np.arange(4.0, 12.0, 0.01):\n",
    "    for gamma in np.arange(4.0, 12.0, 0.01):\n",
    "        RES = spi.odeint(model_SIR, INPUT, t_range) \n",
    "        \n",
    "        fitness = stats.chisquare(observed, RES[:,1])\n",
    "        if fitness[0] < 5000 and fitness[0] > 0:\n",
    "            print('beta=', beta, '  gamma=', gamma, fitness)\n",
    "            \n",
    "        if fitness[0] < minimum and fitness[0]>0:\n",
    "            minimum = fitness[0]\n",
    "            beta_mini = beta\n",
    "            gamma_mini = gamma\n",
    "            \n",
    "print('The minimum is ', minimum)\n",
    "print('when beta is ', beta_mini)\n",
    "print('when gamma is ', gamma_mini)"
   ]
  },
  {
   "cell_type": "code",
   "execution_count": null,
   "metadata": {},
   "outputs": [],
   "source": [
    "#Ploting\n",
    "pl.plot(RES[:,1], '-r', label='Infecteds')\n",
    "pl.plot(RES[:,2], '-g', label='Recovereds')\n",
    "\n",
    "pl.legend(loc=0)\n",
    "pl.title('Italy, SIR Model')\n",
    "pl.xlabel('Time')\n",
    "pl.ylabel('Infectious and Recovereds')"
   ]
  }
 ],
 "metadata": {
  "kernelspec": {
   "display_name": "Python 3",
   "language": "python",
   "name": "python3"
  },
  "language_info": {
   "codemirror_mode": {
    "name": "ipython",
    "version": 3
   },
   "file_extension": ".py",
   "mimetype": "text/x-python",
   "name": "python",
   "nbconvert_exporter": "python",
   "pygments_lexer": "ipython3",
   "version": "3.7.4"
  }
 },
 "nbformat": 4,
 "nbformat_minor": 2
}
