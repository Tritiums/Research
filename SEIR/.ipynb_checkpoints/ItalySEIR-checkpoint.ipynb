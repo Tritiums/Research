{
 "cells": [
  {
   "cell_type": "code",
   "execution_count": 1,
   "metadata": {},
   "outputs": [],
   "source": [
    "import scipy\n",
    "from scipy import stats\n",
    "import scipy.integrate as spi\n",
    "import numpy as np\n",
    "import pylab as pl\n",
    "import pandas as pd\n",
    "import math\n",
    "import xlrd\n",
    "import sys\n",
    "import time\n",
    "\n",
    "%matplotlib inline"
   ]
  },
  {
   "cell_type": "code",
   "execution_count": 19,
   "metadata": {},
   "outputs": [
    {
     "name": "stdout",
     "output_type": "stream",
     "text": [
      "Source file: E:\\Chuan\\Documents\\GitHub\\Research\\SEIRItaly_infected.xlsx loaded!\n",
      "Data Extracted!\n"
     ]
    }
   ],
   "source": [
    "filename = 'Italy_infected.xlsx'\n",
    "book = xlrd.open_workbook(filename)\n",
    "print('Source file: ' + sys.path[0] + filename + ' loaded!')\n",
    "\n",
    "#Extraction\n",
    "nsheets = book.nsheets\n",
    "\n",
    "sheet_names = book.sheet_names()\n",
    "sheets = {}\n",
    "\n",
    "for sheet_name in sheet_names:    \n",
    "    nrows = book.sheet_by_name(sheet_name).nrows\n",
    "    current_header = book.sheet_by_name(sheet_name).row_values(0) \n",
    "    current_data = [book.sheet_by_name(sheet_name).row_values(i) for i in range(1, nrows)]\n",
    "    sheets[sheet_name] = pd.DataFrame(current_data, columns = current_header)   #DataFrame Construction\n",
    "#Feedback\n",
    "print('Data Extracted!')"
   ]
  },
  {
   "cell_type": "code",
   "execution_count": 22,
   "metadata": {},
   "outputs": [
    {
     "data": {
      "text/plain": [
       "{'Italy':              infected  recovered   death          \n",
       " 0   43881.0       3.0        0.0     1.0       1.0\n",
       " 1   43882.0      20.0        0.0     1.0       1.0\n",
       " 2   43883.0      62.0        1.0     2.0       3.0\n",
       " 3   43884.0     155.0        2.0     3.0       5.0\n",
       " 4   43885.0     229.0        1.0     7.0       8.0\n",
       " 5   43886.0     322.0        1.0    10.0      11.0\n",
       " 6   43887.0     453.0        3.0    12.0      15.0\n",
       " 7   43888.0     655.0       45.0    17.0      62.0\n",
       " 8   43889.0     888.0       46.0    21.0      67.0\n",
       " 9   43890.0    1128.0       46.0    29.0      75.0\n",
       " 10  43891.0    1694.0       83.0    34.0     117.0\n",
       " 11  43892.0    2036.0      149.0    52.0     201.0\n",
       " 12  43893.0    2502.0      160.0    79.0     239.0\n",
       " 13  43894.0    3089.0      276.0   107.0     383.0\n",
       " 14  43895.0    3858.0      414.0   148.0     562.0\n",
       " 15  43896.0    4636.0      523.0   197.0     720.0\n",
       " 16  43897.0    5883.0      589.0   233.0     822.0\n",
       " 17  43898.0    7375.0      622.0   366.0     988.0\n",
       " 18  43899.0    9172.0      724.0   463.0    1187.0\n",
       " 19  43900.0   10149.0      724.0   631.0    1355.0\n",
       " 20  43901.0   12462.0     1045.0   827.0    1872.0\n",
       " 21  43902.0   15113.0     1045.0   827.0    1872.0\n",
       " 22  43903.0   17660.0     1439.0  1266.0    2705.0\n",
       " 23  43904.0   21157.0     1966.0  1441.0    3407.0\n",
       " 24  43905.0   24747.0     2335.0  1809.0    4144.0\n",
       " 25  43906.0   27980.0     2158.0  2749.0    4907.0,\n",
       " 'SouthKorea':                  infected  recovered  death\n",
       " 0   22-JAN-2020       1.0        0.0    0.0\n",
       " 1   23-JAN-2020       1.0        0.0    0.0\n",
       " 2   24-JAN-2020       2.0        0.0    0.0\n",
       " 3   25-JAN-2020       2.0        0.0    0.0\n",
       " 4   26-JAN-2020       3.0        0.0    0.0\n",
       " 5   27-JAN-2020       4.0        0.0    0.0\n",
       " 6   28-JAN-2020       4.0        0.0    0.0\n",
       " 7   29-JAN-2020       4.0        0.0    0.0\n",
       " 8   30-JAN-2020       4.0        0.0    0.0\n",
       " 9   31-JAN-2020      11.0        0.0    0.0\n",
       " 10  01-FEB-2020      12.0        0.0    0.0\n",
       " 11  02-FEB-2020      15.0        0.0    0.0\n",
       " 12  03-FEB-2020      15.0        0.0    0.0\n",
       " 13  04-FEB-2020      16.0        0.0    0.0\n",
       " 14  05-FEB-2020      19.0        0.0    0.0\n",
       " 15  06-FEB-2020      23.0        0.0    0.0\n",
       " 16  07-FEB-2020      24.0        1.0    0.0\n",
       " 17  08-FEB-2020      24.0        1.0    0.0\n",
       " 18  09-FEB-2020      25.0        3.0    0.0\n",
       " 19  10-FEB-2020      27.0        3.0    0.0\n",
       " 20  11-FEB-2020      28.0        3.0    0.0\n",
       " 21  12-FEB-2020      28.0        7.0    0.0\n",
       " 22  13-FEB-2020      28.0        7.0    0.0\n",
       " 23  14-FEB-2020      28.0        7.0    0.0\n",
       " 24  15-FEB-2020      28.0        9.0    0.0\n",
       " 25  16-FEB-2020      29.0        9.0    0.0\n",
       " 26  17-FEB-2020      30.0       10.0    0.0\n",
       " 27  18-FEB-2020      31.0       12.0    0.0\n",
       " 28  19-FEB-2020      31.0       12.0    0.0\n",
       " 29  20-FEB-2020     104.0       16.0    1.0\n",
       " 30  21-FEB-2020     204.0       16.0    2.0\n",
       " 31  22-FEB-2020     433.0       16.0    2.0\n",
       " 32  23-FEB-2020     602.0       18.0    6.0\n",
       " 33  24-FEB-2020     833.0       18.0    8.0\n",
       " 34  25-FEB-2020     977.0       22.0   10.0\n",
       " 35  26-FEB-2020    1261.0       22.0   12.0\n",
       " 36  27-FEB-2020    1766.0       22.0   13.0\n",
       " 37  28-FEB-2020    2337.0       22.0   13.0\n",
       " 38  29-FEB-2020    3150.0       27.0   16.0\n",
       " 39  01-MAR-2020    3736.0       30.0   17.0\n",
       " 40  02-MAR-2020    4335.0       30.0   28.0\n",
       " 41  03-MAR-2020    5186.0       30.0   28.0\n",
       " 42  04-MAR-2020    5621.0       41.0   35.0\n",
       " 43  05-MAR-2020    6088.0       41.0   35.0\n",
       " 44  06-MAR-2020    6593.0      135.0   42.0\n",
       " 45  07-MAR-2020    7041.0      135.0   44.0\n",
       " 46  08-MAR-2020    7314.0      118.0   50.0\n",
       " 47  09-MAR-2020    7478.0      118.0   53.0\n",
       " 48  10-MAR-2020    7513.0      247.0   54.0\n",
       " 49  11-MAR-2020    7755.0      288.0   60.0\n",
       " 50  12-MAR-2020    7869.0      333.0   66.0\n",
       " 51  13-MAR-2020    7979.0      510.0   66.0\n",
       " 52  14-MAR-2020    8086.0      510.0   72.0\n",
       " 53  15-MAR-2020    8162.0      510.0   75.0\n",
       " 54  16-MAR-2020    8236.0     1137.0   75.0,\n",
       " 'France':                  infected  recovered  death\n",
       " 0   22-JAN-2020       0.0        0.0    0.0\n",
       " 1   23-JAN-2020       0.0        0.0    0.0\n",
       " 2   24-JAN-2020       2.0        0.0    0.0\n",
       " 3   25-JAN-2020       3.0        0.0    0.0\n",
       " 4   26-JAN-2020       3.0        0.0    0.0\n",
       " 5   27-JAN-2020       3.0        0.0    0.0\n",
       " 6   28-JAN-2020       4.0        0.0    0.0\n",
       " 7   29-JAN-2020       5.0        0.0    0.0\n",
       " 8   30-JAN-2020       5.0        0.0    0.0\n",
       " 9   31-JAN-2020       5.0        0.0    0.0\n",
       " 10  01-FEB-2020       6.0        0.0    0.0\n",
       " 11  02-FEB-2020       6.0        0.0    0.0\n",
       " 12  03-FEB-2020       6.0        0.0    0.0\n",
       " 13  04-FEB-2020       6.0        0.0    0.0\n",
       " 14  05-FEB-2020       6.0        0.0    0.0\n",
       " 15  06-FEB-2020       6.0        0.0    0.0\n",
       " 16  07-FEB-2020       6.0        0.0    0.0\n",
       " 17  08-FEB-2020      11.0        0.0    0.0\n",
       " 18  09-FEB-2020      11.0        0.0    0.0\n",
       " 19  10-FEB-2020      11.0        0.0    0.0\n",
       " 20  11-FEB-2020      11.0        0.0    0.0\n",
       " 21  12-FEB-2020      11.0        2.0    0.0\n",
       " 22  13-FEB-2020      11.0        2.0    0.0\n",
       " 23  14-FEB-2020      11.0        2.0    0.0\n",
       " 24  15-FEB-2020      12.0        4.0    1.0\n",
       " 25  16-FEB-2020      12.0        4.0    1.0\n",
       " 26  17-FEB-2020      12.0        4.0    1.0\n",
       " 27  18-FEB-2020      12.0        4.0    1.0\n",
       " 28  19-FEB-2020      12.0        4.0    1.0\n",
       " 29  20-FEB-2020      12.0        4.0    1.0\n",
       " 30  21-FEB-2020      12.0        4.0    1.0\n",
       " 31  22-FEB-2020      12.0        4.0    1.0\n",
       " 32  23-FEB-2020      12.0        4.0    1.0\n",
       " 33  24-FEB-2020      12.0        4.0    1.0\n",
       " 34  25-FEB-2020      14.0       11.0    1.0\n",
       " 35  26-FEB-2020      18.0       11.0    2.0\n",
       " 36  27-FEB-2020      38.0       11.0    2.0\n",
       " 37  28-FEB-2020      57.0       11.0    2.0\n",
       " 38  29-FEB-2020     100.0       12.0    2.0\n",
       " 39  01-MAR-2020     130.0       12.0    2.0\n",
       " 40  02-MAR-2020     191.0       12.0    3.0\n",
       " 41  03-MAR-2020     204.0       12.0    4.0\n",
       " 42  04-MAR-2020     288.0       12.0    4.0\n",
       " 43  05-MAR-2020     380.0       12.0    6.0\n",
       " 44  06-MAR-2020     656.0       12.0    9.0\n",
       " 45  07-MAR-2020     957.0       12.0   11.0\n",
       " 46  08-MAR-2020    1134.0       12.0   19.0\n",
       " 47  09-MAR-2020    1217.0       12.0   19.0\n",
       " 48  10-MAR-2020    1792.0       12.0   33.0\n",
       " 49  11-MAR-2020    2289.0       12.0   48.0\n",
       " 50  12-MAR-2020    2289.0       12.0   48.0\n",
       " 51  13-MAR-2020    3672.0       12.0   79.0\n",
       " 52  14-MAR-2020    4480.0       12.0   91.0\n",
       " 53  15-MAR-2020    4513.0       12.0   91.0\n",
       " 54  16-MAR-2020    6650.0       12.0  148.0,\n",
       " 'Germany':                  infected  recovered  death\n",
       " 0   22-JAN-2020       0.0        0.0    0.0\n",
       " 1   23-JAN-2020       0.0        0.0    0.0\n",
       " 2   24-JAN-2020       0.0        0.0    0.0\n",
       " 3   25-JAN-2020       0.0        0.0    0.0\n",
       " 4   26-JAN-2020       0.0        0.0    0.0\n",
       " 5   27-JAN-2020       1.0        0.0    0.0\n",
       " 6   28-JAN-2020       4.0        0.0    0.0\n",
       " 7   29-JAN-2020       4.0        0.0    0.0\n",
       " 8   30-JAN-2020       4.0        0.0    0.0\n",
       " 9   31-JAN-2020       5.0        0.0    0.0\n",
       " 10  01-FEB-2020       8.0        0.0    0.0\n",
       " 11  02-FEB-2020      10.0        0.0    0.0\n",
       " 12  03-FEB-2020      12.0        0.0    0.0\n",
       " 13  04-FEB-2020      12.0        0.0    0.0\n",
       " 14  05-FEB-2020      12.0        0.0    0.0\n",
       " 15  06-FEB-2020      12.0        0.0    0.0\n",
       " 16  07-FEB-2020      13.0        0.0    0.0\n",
       " 17  08-FEB-2020      13.0        0.0    0.0\n",
       " 18  09-FEB-2020      14.0        0.0    0.0\n",
       " 19  10-FEB-2020      14.0        0.0    0.0\n",
       " 20  11-FEB-2020      16.0        0.0    0.0\n",
       " 21  12-FEB-2020      16.0        0.0    0.0\n",
       " 22  13-FEB-2020      16.0        1.0    0.0\n",
       " 23  14-FEB-2020      16.0        1.0    0.0\n",
       " 24  15-FEB-2020      16.0        1.0    0.0\n",
       " 25  16-FEB-2020      16.0        1.0    0.0\n",
       " 26  17-FEB-2020      16.0        1.0    0.0\n",
       " 27  18-FEB-2020      16.0       12.0    0.0\n",
       " 28  19-FEB-2020      16.0       12.0    0.0\n",
       " 29  20-FEB-2020      16.0       12.0    0.0\n",
       " 30  21-FEB-2020      16.0       14.0    0.0\n",
       " 31  22-FEB-2020      16.0       14.0    0.0\n",
       " 32  23-FEB-2020      16.0       14.0    0.0\n",
       " 33  24-FEB-2020      16.0       14.0    0.0\n",
       " 34  25-FEB-2020      17.0       14.0    0.0\n",
       " 35  26-FEB-2020      27.0       15.0    0.0\n",
       " 36  27-FEB-2020      46.0       16.0    0.0\n",
       " 37  28-FEB-2020      48.0       16.0    0.0\n",
       " 38  29-FEB-2020      79.0       16.0    0.0\n",
       " 39  01-MAR-2020     130.0       16.0    0.0\n",
       " 40  02-MAR-2020     159.0       16.0    0.0\n",
       " 41  03-MAR-2020     196.0       16.0    0.0\n",
       " 42  04-MAR-2020     262.0       16.0    0.0\n",
       " 43  05-MAR-2020     482.0       16.0    0.0\n",
       " 44  06-MAR-2020     670.0       17.0    0.0\n",
       " 45  07-MAR-2020     799.0       18.0    0.0\n",
       " 46  08-MAR-2020    1040.0       18.0    0.0\n",
       " 47  09-MAR-2020    1176.0       18.0    2.0\n",
       " 48  10-MAR-2020    1457.0       18.0    2.0\n",
       " 49  11-MAR-2020    1908.0       25.0    3.0\n",
       " 50  12-MAR-2020    2078.0       25.0    3.0\n",
       " 51  13-MAR-2020    3675.0       46.0    7.0\n",
       " 52  14-MAR-2020    4585.0       46.0    9.0\n",
       " 53  15-MAR-2020    5795.0       46.0   11.0\n",
       " 54  16-MAR-2020    7272.0       67.0   17.0,\n",
       " 'Spain':                  infected recovered death                              ...  \\\n",
       " 0    22-JAN-2020        0         0     0                              ...   \n",
       " 1    23-JAN-2020        0         0     0                              ...   \n",
       " 2    24-JAN-2020        0         0     0                              ...   \n",
       " 3    25-JAN-2020        0         0     0                              ...   \n",
       " 4    26-JAN-2020        0         0     0                              ...   \n",
       " ..           ...      ...       ...   ... .. .. ..          ... .. ..  ...   \n",
       " 214                                                         517        ...   \n",
       " 215                                                 16-MAR-2020        ...   \n",
       " 216                                                        9942        ...   \n",
       " 217                                                         342        ...   \n",
       " 218                                                         530        ...   \n",
       " \n",
       "                                                                          \n",
       " 0                                                                        \n",
       " 1                                                                        \n",
       " 2                                                                        \n",
       " 3                                                                        \n",
       " 4    195  517  15-MAR-2020  7798  289  517  16-MAR-2020  9942  342  530  \n",
       " ..   ...  ...          ...   ...  ...  ...          ...   ...  ...  ...  \n",
       " 214                                                                      \n",
       " 215                                                                      \n",
       " 216                                                                      \n",
       " 217                                                                      \n",
       " 218                                                                      \n",
       " \n",
       " [219 rows x 230 columns],\n",
       " 'US':                  infected  recovered  death\n",
       " 0   22-JAN-2020       1.0        0.0    0.0\n",
       " 1   23-JAN-2020       1.0        0.0    0.0\n",
       " 2   24-JAN-2020       2.0        0.0    0.0\n",
       " 3   25-JAN-2020       2.0        0.0    0.0\n",
       " 4   26-JAN-2020       5.0        0.0    0.0\n",
       " 5   27-JAN-2020       5.0        0.0    0.0\n",
       " 6   28-JAN-2020       5.0        0.0    0.0\n",
       " 7   29-JAN-2020       5.0        0.0    0.0\n",
       " 8   30-JAN-2020       5.0        0.0    0.0\n",
       " 9   31-JAN-2020       7.0        0.0    0.0\n",
       " 10  01-FEB-2020       8.0        0.0    0.0\n",
       " 11  02-FEB-2020       8.0        0.0    0.0\n",
       " 12  03-FEB-2020      11.0        0.0    0.0\n",
       " 13  04-FEB-2020      11.0        0.0    0.0\n",
       " 14  05-FEB-2020      11.0        0.0    0.0\n",
       " 15  06-FEB-2020      11.0        0.0    0.0\n",
       " 16  07-FEB-2020      11.0        0.0    0.0\n",
       " 17  08-FEB-2020      11.0        0.0    0.0\n",
       " 18  09-FEB-2020      11.0        3.0    0.0\n",
       " 19  10-FEB-2020      11.0        3.0    0.0\n",
       " 20  11-FEB-2020      12.0        3.0    0.0\n",
       " 21  12-FEB-2020      12.0        3.0    0.0\n",
       " 22  13-FEB-2020      13.0        3.0    0.0\n",
       " 23  14-FEB-2020      13.0        3.0    0.0\n",
       " 24  15-FEB-2020      13.0        3.0    0.0\n",
       " 25  16-FEB-2020      13.0        3.0    0.0\n",
       " 26  17-FEB-2020      13.0        3.0    0.0\n",
       " 27  18-FEB-2020      13.0        3.0    0.0\n",
       " 28  19-FEB-2020      13.0        3.0    0.0\n",
       " 29  20-FEB-2020      13.0        3.0    0.0\n",
       " 30  21-FEB-2020      15.0        5.0    0.0\n",
       " 31  22-FEB-2020      15.0        5.0    0.0\n",
       " 32  23-FEB-2020      15.0        5.0    0.0\n",
       " 33  24-FEB-2020      51.0        5.0    0.0\n",
       " 34  25-FEB-2020      51.0        6.0    0.0\n",
       " 35  26-FEB-2020      57.0        6.0    0.0\n",
       " 36  27-FEB-2020      58.0        6.0    0.0\n",
       " 37  28-FEB-2020      60.0        7.0    0.0\n",
       " 38  29-FEB-2020      68.0        7.0    1.0\n",
       " 39  01-MAR-2020      74.0        7.0    1.0\n",
       " 40  02-MAR-2020      98.0        7.0    6.0\n",
       " 41  03-MAR-2020     118.0        7.0    7.0\n",
       " 42  04-MAR-2020     149.0        7.0   11.0\n",
       " 43  05-MAR-2020     217.0        7.0   12.0\n",
       " 44  06-MAR-2020     262.0        7.0   14.0\n",
       " 45  07-MAR-2020     402.0        7.0   17.0\n",
       " 46  08-MAR-2020     518.0        7.0   21.0\n",
       " 47  09-MAR-2020     583.0        7.0   22.0\n",
       " 48  10-MAR-2020     959.0        8.0   28.0\n",
       " 49  11-MAR-2020    1281.0        8.0   36.0\n",
       " 50  12-MAR-2020    1663.0       12.0   40.0\n",
       " 51  13-MAR-2020    2179.0       12.0   47.0\n",
       " 52  14-MAR-2020    2727.0       12.0   54.0\n",
       " 53  15-MAR-2020    3499.0       12.0   63.0\n",
       " 54  16-MAR-2020    4632.0       17.0   85.0}"
      ]
     },
     "execution_count": 22,
     "metadata": {},
     "output_type": "execute_result"
    }
   ],
   "source": [
    "sheets"
   ]
  },
  {
   "cell_type": "code",
   "execution_count": 4,
   "metadata": {},
   "outputs": [],
   "source": [
    "infected_observed = sheets['Sheet2']['infected']"
   ]
  },
  {
   "cell_type": "code",
   "execution_count": 5,
   "metadata": {},
   "outputs": [],
   "source": [
    "removed_observed = sheets['Sheet2']['recovered'] + sheets['Sheet2']['death'] "
   ]
  },
  {
   "cell_type": "code",
   "execution_count": 18,
   "metadata": {},
   "outputs": [
    {
     "data": {
      "text/plain": [
       "0        1.0\n",
       "1        1.0\n",
       "2        3.0\n",
       "3        5.0\n",
       "4        8.0\n",
       "5       11.0\n",
       "6       15.0\n",
       "7       62.0\n",
       "8       67.0\n",
       "9       75.0\n",
       "10     117.0\n",
       "11     201.0\n",
       "12     239.0\n",
       "13     383.0\n",
       "14     562.0\n",
       "15     720.0\n",
       "16     822.0\n",
       "17     988.0\n",
       "18    1187.0\n",
       "19    1355.0\n",
       "20    1872.0\n",
       "21    1872.0\n",
       "22    2705.0\n",
       "23    3407.0\n",
       "24    4144.0\n",
       "25    4907.0\n",
       "dtype: float64"
      ]
     },
     "execution_count": 18,
     "metadata": {},
     "output_type": "execute_result"
    }
   ],
   "source": [
    "removed_observed"
   ]
  },
  {
   "cell_type": "code",
   "execution_count": 6,
   "metadata": {},
   "outputs": [
    {
     "data": {
      "text/plain": [
       "26"
      ]
     },
     "execution_count": 6,
     "metadata": {},
     "output_type": "execute_result"
    }
   ],
   "source": [
    "len(removed_observed)"
   ]
  },
  {
   "cell_type": "markdown",
   "metadata": {},
   "source": [
    "## Iteratible SIR Model"
   ]
  },
  {
   "cell_type": "code",
   "execution_count": 7,
   "metadata": {},
   "outputs": [],
   "source": [
    "t_start = 0.0\n",
    "t_end = len(removed_observed)+1       # Transmit Time\n",
    "\n",
    "N = 6 * math.pow(10,6)\n",
    "R0 = 0\n",
    "I0 = 3      # Initial Number of Infectious\n",
    "S0 = N - I0 - R0    # Initial Number of Susceptible\n",
    "\n",
    "INPUT = (S0, I0, R0)\n",
    "\n",
    "def model_SIR(INP,t):  \n",
    "    Y = np.zeros((3))\n",
    "    V = INP\n",
    "    Y[0] = - beta * V[0] * V[1]/N                    # Y[0] is dS(t)/dt, V[0] is S(t)\n",
    "    Y[1] = beta * V[0] * V[1]/N - gamma * V[1]       # Y[1] is dI(t)/dt, V[1] is I(t)\n",
    "    Y[2] = gamma * V[1]                            # Y[2] is dR(t)/dt.\n",
    "    return Y   # For odeint\n",
    "\n",
    "t_range = np.arange(t_start, t_end)"
   ]
  },
  {
   "cell_type": "markdown",
   "metadata": {},
   "source": [
    "## Interation"
   ]
  },
  {
   "cell_type": "code",
   "execution_count": 9,
   "metadata": {
    "scrolled": false
   },
   "outputs": [
    {
     "name": "stdout",
     "output_type": "stream",
     "text": [
      "The minimum_infected Z is  259181.27247996267\n",
      "The minimum_removed Z is  7350.145280646109\n",
      "when beta is  0.44999999999999984\n",
      "when gamma is  0.1\n",
      "Time:  22.161731958389282\n"
     ]
    }
   ],
   "source": [
    "start = time.time()\n",
    "\n",
    "minimum_infected = math.pow(10,10)\n",
    "minimum_removed = math.pow(10,10)\n",
    "\n",
    "for beta in np.arange(0.1, 1.0, 0.01):\n",
    "    for gamma in np.arange(0.1, 1.0, 0.01):\n",
    "        RES = spi.odeint(model_SIR, INPUT, t_range) \n",
    "        \n",
    "        # Goodness Test of Fitness\n",
    "        \n",
    "        #print(RES)\n",
    "        \n",
    "        fitness_infected = stats.chisquare(infected_observed, RES[1:, 1])\n",
    "        fitness_removed = stats.chisquare(removed_observed, RES[1:, 2])\n",
    "        \n",
    "       \n",
    "        if fitness_infected[0] < 10000 and fitness_infected[0] > 0 and fitness_removed[0] < 10000 and fitness_removed[0] > 0:\n",
    "            print('beta=', beta, '  gamma=', gamma, fitness_infected, fitness_removed)\n",
    "        \n",
    "        \n",
    "        #print('beta=', beta, '  gamma=', gamma, fitness_infected, fitness_removed)\n",
    "            \n",
    "        if fitness_infected[0] < minimum_infected and fitness_infected[0]> -minimum_infected and fitness_removed[0] < minimum_removed and fitness_removed[0]> -minimum_removed:\n",
    "            minimum_infected = fitness_infected[0]\n",
    "            minimum_removed = fitness_removed[0]\n",
    "            beta_mini = beta\n",
    "            gamma_mini = gamma\n",
    "            \n",
    "end = time.time()\n",
    "duration = end - start\n",
    "            \n",
    "print('The minimum_infected Z is ', minimum_infected)\n",
    "print('The minimum_removed Z is ', minimum_removed)\n",
    "print('when beta is ', beta_mini)\n",
    "print('when gamma is ', gamma_mini)\n",
    "\n",
    "print('Time: ', duration)"
   ]
  },
  {
   "cell_type": "code",
   "execution_count": 10,
   "metadata": {},
   "outputs": [
    {
     "name": "stdout",
     "output_type": "stream",
     "text": [
      "The minimum_infected Z is  259181.27247996267\n",
      "The minimum_removed Z is  7350.145280646109\n",
      "when beta is  0.44999999999999984\n",
      "when gamma is  0.1\n"
     ]
    }
   ],
   "source": [
    "print('The minimum_infected Z is ', minimum_infected)\n",
    "print('The minimum_removed Z is ', minimum_removed)\n",
    "print('when beta is ', beta_mini)\n",
    "print('when gamma is ', gamma_mini)"
   ]
  },
  {
   "cell_type": "code",
   "execution_count": 11,
   "metadata": {},
   "outputs": [
    {
     "data": {
      "text/plain": [
       "Text(0, 0.5, 'Infectious and Recovereds')"
      ]
     },
     "execution_count": 11,
     "metadata": {},
     "output_type": "execute_result"
    },
    {
     "data": {
      "image/png": "[encoded data removed]",
      "text/plain": [
       "<Figure size 432x288 with 1 Axes>"
      ]
     },
     "metadata": {
      "needs_background": "light"
     },
     "output_type": "display_data"
    }
   ],
   "source": [
    "#Ploting\n",
    "pl.plot(infected_observed, '-r', label='Infecteds Observed')\n",
    "pl.plot(removed_observed, '-g', label='Recovereds Observed')\n",
    "\n",
    "pl.legend(loc=0)\n",
    "pl.title('Italy, SIR Model')\n",
    "pl.xlabel('Time')\n",
    "pl.ylabel('Infectious and Recovereds')"
   ]
  },
  {
   "cell_type": "markdown",
   "metadata": {},
   "source": [
    "## SIR Validation"
   ]
  },
  {
   "cell_type": "code",
   "execution_count": 13,
   "metadata": {},
   "outputs": [],
   "source": [
    "beta = 0.45\n",
    "gamma = 0.1\n",
    "\n",
    "t_start = 0.0\n",
    "t_end = 50      # Transmit Time\n",
    "\n",
    "N = 6*math.pow(10,6)\n",
    "R0 = 0\n",
    "I0 = 3      # Initial Number of Infectious\n",
    "S0 = N - I0 - R0    # Initial Number of Susceptible\n",
    "\n",
    "INPUT = (S0, I0, R0)"
   ]
  },
  {
   "cell_type": "code",
   "execution_count": 14,
   "metadata": {},
   "outputs": [],
   "source": [
    "def model_SIR(INP,t):  \n",
    "    Y = np.zeros((3))\n",
    "    V = INP\n",
    "    Y[0] = - beta * V[0] * V[1]/N                    # Y[0] is dS(t)/dt, V[0] is S(t)\n",
    "    Y[1] = beta * V[0] * V[1]/N - gamma * V[1]       # Y[1] is dI(t)/dt, V[1] is I(t)\n",
    "    Y[2] = gamma * V[1]                            # Y[2] is dR(t)/dt.\n",
    "    return Y   # For odeint\n"
   ]
  },
  {
   "cell_type": "code",
   "execution_count": 15,
   "metadata": {},
   "outputs": [],
   "source": [
    "t_range = np.arange(t_start, t_end)\n",
    "\n",
    "RES = spi.odeint(model_SIR, INPUT, t_range)   # INPUT is the first parameter of func diff_eqs\n",
    "                                             # t_range is the second parameter of func diff_eqs"
   ]
  },
  {
   "cell_type": "code",
   "execution_count": 16,
   "metadata": {},
   "outputs": [
    {
     "data": {
      "text/plain": [
       "Text(0, 0.5, 'Infectious and Recovereds')"
      ]
     },
     "execution_count": 16,
     "metadata": {},
     "output_type": "execute_result"
    },
    {
     "data": {
      "image/png": "[encoded data removed]",
      "text/plain": [
       "<Figure size 432x288 with 1 Axes>"
      ]
     },
     "metadata": {
      "needs_background": "light"
     },
     "output_type": "display_data"
    }
   ],
   "source": [
    "#Ploting\n",
    "day = 30\n",
    "pl.plot(RES[:day,1], '--r', label='Infected Expected')\n",
    "pl.plot(RES[:day,2], '--g', label='Recovered Expected')\n",
    "pl.plot(infected_observed[:day], '-r', label='Infected Observed')\n",
    "pl.plot(removed_observed[:day], '-g', label='Recovered Observed')\n",
    "\n",
    "pl.legend(loc=0)\n",
    "pl.title('Italy, SIR Model')\n",
    "pl.xlabel('Time')\n",
    "pl.ylabel('Infectious and Recovereds')"
   ]
  },
  {
   "cell_type": "code",
   "execution_count": 17,
   "metadata": {},
   "outputs": [
    {
     "data": {
      "text/plain": [
       "Text(0, 0.5, 'Infectious and Recovereds')"
      ]
     },
     "execution_count": 17,
     "metadata": {},
     "output_type": "execute_result"
    },
    {
     "data": {
      "image/png": "[encoded data removed]",
      "text/plain": [
       "<Figure size 432x288 with 1 Axes>"
      ]
     },
     "metadata": {
      "needs_background": "light"
     },
     "output_type": "display_data"
    }
   ],
   "source": [
    "#Ploting\n",
    "pl.plot(RES[:,1], '--r', label='Infecteds')\n",
    "pl.plot(RES[:,2], '--g', label='Recovereds')\n",
    "\n",
    "pl.legend(loc=0)\n",
    "pl.title('Italy, SIR Model')\n",
    "pl.xlabel('Time')\n",
    "pl.ylabel('Infectious and Recovereds')"
   ]
  },
  {
   "cell_type": "code",
   "execution_count": null,
   "metadata": {},
   "outputs": [],
   "source": []
  },
  {
   "cell_type": "code",
   "execution_count": null,
   "metadata": {},
   "outputs": [],
   "source": []
  }
 ],
 "metadata": {
  "kernelspec": {
   "display_name": "Python 3",
   "language": "python",
   "name": "python3"
  },
  "language_info": {
   "codemirror_mode": {
    "name": "ipython",
    "version": 3
   },
   "file_extension": ".py",
   "mimetype": "text/x-python",
   "name": "python",
   "nbconvert_exporter": "python",
   "pygments_lexer": "ipython3",
   "version": "3.7.4"
  }
 },
 "nbformat": 4,
 "nbformat_minor": 2
}
