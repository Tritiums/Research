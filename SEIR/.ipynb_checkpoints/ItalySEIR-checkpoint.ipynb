{
 "cells": [
  {
   "cell_type": "code",
   "execution_count": 1,
   "metadata": {},
   "outputs": [],
   "source": [
    "import scipy\n",
    "from scipy import stats\n",
    "import scipy.integrate as spi\n",
    "import numpy as np\n",
    "import pylab as pl\n",
    "import pandas as pd\n",
    "import math\n",
    "import xlrd\n",
    "import sys\n",
    "import time\n",
    "\n",
    "%matplotlib inline"
   ]
  },
  {
   "cell_type": "code",
   "execution_count": 2,
   "metadata": {},
   "outputs": [
    {
     "name": "stdout",
     "output_type": "stream",
     "text": [
      "Source file: E:\\Chuan\\Documents\\GitHub\\Research\\SEIRItaly_infected.xlsx loaded!\n",
      "Data Extracted!\n"
     ]
    }
   ],
   "source": [
    "filename = 'Italy_infected.xlsx'\n",
    "book = xlrd.open_workbook(filename)\n",
    "print('Source file: ' + sys.path[0] + filename + ' loaded!')\n",
    "\n",
    "#Extraction\n",
    "nsheets = book.nsheets\n",
    "\n",
    "sheet_names = book.sheet_names()\n",
    "sheets = {}\n",
    "\n",
    "for sheet_name in sheet_names:    \n",
    "    nrows = book.sheet_by_name(sheet_name).nrows\n",
    "    current_header = book.sheet_by_name(sheet_name).row_values(0) \n",
    "    current_data = [book.sheet_by_name(sheet_name).row_values(i) for i in range(1, nrows)]\n",
    "    sheets[sheet_name] = pd.DataFrame(current_data, columns = current_header)   #DataFrame Construction\n",
    "#Feedback\n",
    "print('Data Extracted!')"
   ]
  },
  {
   "cell_type": "code",
   "execution_count": 3,
   "metadata": {},
   "outputs": [
    {
     "data": {
      "text/html": [
       "<div>\n",
       "<style scoped>\n",
       "    .dataframe tbody tr th:only-of-type {\n",
       "        vertical-align: middle;\n",
       "    }\n",
       "\n",
       "    .dataframe tbody tr th {\n",
       "        vertical-align: top;\n",
       "    }\n",
       "\n",
       "    .dataframe thead th {\n",
       "        text-align: right;\n",
       "    }\n",
       "</style>\n",
       "<table border=\"1\" class=\"dataframe\">\n",
       "  <thead>\n",
       "    <tr style=\"text-align: right;\">\n",
       "      <th></th>\n",
       "      <th>Italy</th>\n",
       "      <th>infected</th>\n",
       "      <th>recovered</th>\n",
       "      <th>death</th>\n",
       "      <th></th>\n",
       "      <th></th>\n",
       "    </tr>\n",
       "  </thead>\n",
       "  <tbody>\n",
       "    <tr>\n",
       "      <th>0</th>\n",
       "      <td>43881.0</td>\n",
       "      <td>3.0</td>\n",
       "      <td>0.0</td>\n",
       "      <td>1.0</td>\n",
       "      <td></td>\n",
       "      <td>1.0</td>\n",
       "    </tr>\n",
       "    <tr>\n",
       "      <th>1</th>\n",
       "      <td>43882.0</td>\n",
       "      <td>20.0</td>\n",
       "      <td>0.0</td>\n",
       "      <td>1.0</td>\n",
       "      <td></td>\n",
       "      <td>1.0</td>\n",
       "    </tr>\n",
       "    <tr>\n",
       "      <th>2</th>\n",
       "      <td>43883.0</td>\n",
       "      <td>62.0</td>\n",
       "      <td>1.0</td>\n",
       "      <td>2.0</td>\n",
       "      <td></td>\n",
       "      <td>3.0</td>\n",
       "    </tr>\n",
       "    <tr>\n",
       "      <th>3</th>\n",
       "      <td>43884.0</td>\n",
       "      <td>155.0</td>\n",
       "      <td>2.0</td>\n",
       "      <td>3.0</td>\n",
       "      <td></td>\n",
       "      <td>5.0</td>\n",
       "    </tr>\n",
       "    <tr>\n",
       "      <th>4</th>\n",
       "      <td>43885.0</td>\n",
       "      <td>229.0</td>\n",
       "      <td>1.0</td>\n",
       "      <td>7.0</td>\n",
       "      <td></td>\n",
       "      <td>8.0</td>\n",
       "    </tr>\n",
       "    <tr>\n",
       "      <th>5</th>\n",
       "      <td>43886.0</td>\n",
       "      <td>322.0</td>\n",
       "      <td>1.0</td>\n",
       "      <td>10.0</td>\n",
       "      <td></td>\n",
       "      <td>11.0</td>\n",
       "    </tr>\n",
       "    <tr>\n",
       "      <th>6</th>\n",
       "      <td>43887.0</td>\n",
       "      <td>453.0</td>\n",
       "      <td>3.0</td>\n",
       "      <td>12.0</td>\n",
       "      <td></td>\n",
       "      <td>15.0</td>\n",
       "    </tr>\n",
       "    <tr>\n",
       "      <th>7</th>\n",
       "      <td>43888.0</td>\n",
       "      <td>655.0</td>\n",
       "      <td>45.0</td>\n",
       "      <td>17.0</td>\n",
       "      <td></td>\n",
       "      <td>62.0</td>\n",
       "    </tr>\n",
       "    <tr>\n",
       "      <th>8</th>\n",
       "      <td>43889.0</td>\n",
       "      <td>888.0</td>\n",
       "      <td>46.0</td>\n",
       "      <td>21.0</td>\n",
       "      <td></td>\n",
       "      <td>67.0</td>\n",
       "    </tr>\n",
       "    <tr>\n",
       "      <th>9</th>\n",
       "      <td>43890.0</td>\n",
       "      <td>1128.0</td>\n",
       "      <td>46.0</td>\n",
       "      <td>29.0</td>\n",
       "      <td></td>\n",
       "      <td>75.0</td>\n",
       "    </tr>\n",
       "    <tr>\n",
       "      <th>10</th>\n",
       "      <td>43891.0</td>\n",
       "      <td>1694.0</td>\n",
       "      <td>83.0</td>\n",
       "      <td>34.0</td>\n",
       "      <td></td>\n",
       "      <td>117.0</td>\n",
       "    </tr>\n",
       "    <tr>\n",
       "      <th>11</th>\n",
       "      <td>43892.0</td>\n",
       "      <td>2036.0</td>\n",
       "      <td>149.0</td>\n",
       "      <td>52.0</td>\n",
       "      <td></td>\n",
       "      <td>201.0</td>\n",
       "    </tr>\n",
       "    <tr>\n",
       "      <th>12</th>\n",
       "      <td>43893.0</td>\n",
       "      <td>2502.0</td>\n",
       "      <td>160.0</td>\n",
       "      <td>79.0</td>\n",
       "      <td></td>\n",
       "      <td>239.0</td>\n",
       "    </tr>\n",
       "    <tr>\n",
       "      <th>13</th>\n",
       "      <td>43894.0</td>\n",
       "      <td>3089.0</td>\n",
       "      <td>276.0</td>\n",
       "      <td>107.0</td>\n",
       "      <td></td>\n",
       "      <td>383.0</td>\n",
       "    </tr>\n",
       "    <tr>\n",
       "      <th>14</th>\n",
       "      <td>43895.0</td>\n",
       "      <td>3858.0</td>\n",
       "      <td>414.0</td>\n",
       "      <td>148.0</td>\n",
       "      <td></td>\n",
       "      <td>562.0</td>\n",
       "    </tr>\n",
       "    <tr>\n",
       "      <th>15</th>\n",
       "      <td>43896.0</td>\n",
       "      <td>4636.0</td>\n",
       "      <td>523.0</td>\n",
       "      <td>197.0</td>\n",
       "      <td></td>\n",
       "      <td>720.0</td>\n",
       "    </tr>\n",
       "    <tr>\n",
       "      <th>16</th>\n",
       "      <td>43897.0</td>\n",
       "      <td>5883.0</td>\n",
       "      <td>589.0</td>\n",
       "      <td>233.0</td>\n",
       "      <td></td>\n",
       "      <td>822.0</td>\n",
       "    </tr>\n",
       "    <tr>\n",
       "      <th>17</th>\n",
       "      <td>43898.0</td>\n",
       "      <td>7375.0</td>\n",
       "      <td>622.0</td>\n",
       "      <td>366.0</td>\n",
       "      <td></td>\n",
       "      <td>988.0</td>\n",
       "    </tr>\n",
       "    <tr>\n",
       "      <th>18</th>\n",
       "      <td>43899.0</td>\n",
       "      <td>9172.0</td>\n",
       "      <td>724.0</td>\n",
       "      <td>463.0</td>\n",
       "      <td></td>\n",
       "      <td>1187.0</td>\n",
       "    </tr>\n",
       "    <tr>\n",
       "      <th>19</th>\n",
       "      <td>43900.0</td>\n",
       "      <td>10149.0</td>\n",
       "      <td>724.0</td>\n",
       "      <td>631.0</td>\n",
       "      <td></td>\n",
       "      <td>1355.0</td>\n",
       "    </tr>\n",
       "    <tr>\n",
       "      <th>20</th>\n",
       "      <td>43901.0</td>\n",
       "      <td>12462.0</td>\n",
       "      <td>1045.0</td>\n",
       "      <td>827.0</td>\n",
       "      <td></td>\n",
       "      <td>1872.0</td>\n",
       "    </tr>\n",
       "    <tr>\n",
       "      <th>21</th>\n",
       "      <td>43902.0</td>\n",
       "      <td>15113.0</td>\n",
       "      <td>1045.0</td>\n",
       "      <td>827.0</td>\n",
       "      <td></td>\n",
       "      <td>1872.0</td>\n",
       "    </tr>\n",
       "    <tr>\n",
       "      <th>22</th>\n",
       "      <td>43903.0</td>\n",
       "      <td>17660.0</td>\n",
       "      <td>1439.0</td>\n",
       "      <td>1266.0</td>\n",
       "      <td></td>\n",
       "      <td>2705.0</td>\n",
       "    </tr>\n",
       "    <tr>\n",
       "      <th>23</th>\n",
       "      <td>43904.0</td>\n",
       "      <td>21157.0</td>\n",
       "      <td>1966.0</td>\n",
       "      <td>1441.0</td>\n",
       "      <td></td>\n",
       "      <td>3407.0</td>\n",
       "    </tr>\n",
       "    <tr>\n",
       "      <th>24</th>\n",
       "      <td>43905.0</td>\n",
       "      <td>24747.0</td>\n",
       "      <td>2335.0</td>\n",
       "      <td>1809.0</td>\n",
       "      <td></td>\n",
       "      <td>4144.0</td>\n",
       "    </tr>\n",
       "    <tr>\n",
       "      <th>25</th>\n",
       "      <td>43906.0</td>\n",
       "      <td>27980.0</td>\n",
       "      <td>2158.0</td>\n",
       "      <td>2749.0</td>\n",
       "      <td></td>\n",
       "      <td>4907.0</td>\n",
       "    </tr>\n",
       "  </tbody>\n",
       "</table>\n",
       "</div>"
      ],
      "text/plain": [
       "      Italy  infected  recovered   death          \n",
       "0   43881.0       3.0        0.0     1.0       1.0\n",
       "1   43882.0      20.0        0.0     1.0       1.0\n",
       "2   43883.0      62.0        1.0     2.0       3.0\n",
       "3   43884.0     155.0        2.0     3.0       5.0\n",
       "4   43885.0     229.0        1.0     7.0       8.0\n",
       "5   43886.0     322.0        1.0    10.0      11.0\n",
       "6   43887.0     453.0        3.0    12.0      15.0\n",
       "7   43888.0     655.0       45.0    17.0      62.0\n",
       "8   43889.0     888.0       46.0    21.0      67.0\n",
       "9   43890.0    1128.0       46.0    29.0      75.0\n",
       "10  43891.0    1694.0       83.0    34.0     117.0\n",
       "11  43892.0    2036.0      149.0    52.0     201.0\n",
       "12  43893.0    2502.0      160.0    79.0     239.0\n",
       "13  43894.0    3089.0      276.0   107.0     383.0\n",
       "14  43895.0    3858.0      414.0   148.0     562.0\n",
       "15  43896.0    4636.0      523.0   197.0     720.0\n",
       "16  43897.0    5883.0      589.0   233.0     822.0\n",
       "17  43898.0    7375.0      622.0   366.0     988.0\n",
       "18  43899.0    9172.0      724.0   463.0    1187.0\n",
       "19  43900.0   10149.0      724.0   631.0    1355.0\n",
       "20  43901.0   12462.0     1045.0   827.0    1872.0\n",
       "21  43902.0   15113.0     1045.0   827.0    1872.0\n",
       "22  43903.0   17660.0     1439.0  1266.0    2705.0\n",
       "23  43904.0   21157.0     1966.0  1441.0    3407.0\n",
       "24  43905.0   24747.0     2335.0  1809.0    4144.0\n",
       "25  43906.0   27980.0     2158.0  2749.0    4907.0"
      ]
     },
     "execution_count": 3,
     "metadata": {},
     "output_type": "execute_result"
    }
   ],
   "source": [
    "sheets['Sheet2']"
   ]
  },
  {
   "cell_type": "code",
   "execution_count": 4,
   "metadata": {},
   "outputs": [],
   "source": [
    "infected_observed = sheets['Sheet2']['infected']"
   ]
  },
  {
   "cell_type": "code",
   "execution_count": 5,
   "metadata": {},
   "outputs": [],
   "source": [
    "removed_observed = sheets['Sheet2']['recovered'] + sheets['Sheet2']['death'] "
   ]
  },
  {
   "cell_type": "code",
   "execution_count": 6,
   "metadata": {},
   "outputs": [
    {
     "data": {
      "text/plain": [
       "26"
      ]
     },
     "execution_count": 6,
     "metadata": {},
     "output_type": "execute_result"
    }
   ],
   "source": [
    "len(removed_observed)"
   ]
  },
  {
   "cell_type": "markdown",
   "metadata": {},
   "source": [
    "## Iteratible SIR Model"
   ]
  },
  {
   "cell_type": "code",
   "execution_count": 7,
   "metadata": {},
   "outputs": [],
   "source": [
    "t_start = 0.0\n",
    "t_end = len(removed_observed)       # Transmit Time\n",
    "\n",
    "N = 6 * math.pow(10,6)\n",
    "R0 = 0\n",
    "I0 = 3      # Initial Number of Infectious\n",
    "S0 = N - I0 - R0    # Initial Number of Susceptible\n",
    "\n",
    "INPUT = (S0, I0, R0)\n",
    "\n",
    "def model_SIR(INP,t):  \n",
    "    Y = np.zeros((3))\n",
    "    V = INP\n",
    "    Y[0] = - beta * V[0] * V[1]/N                    # Y[0] is dS(t)/dt, V[0] is S(t)\n",
    "    Y[1] = beta * V[0] * V[1]/N - gamma * V[1]       # Y[1] is dI(t)/dt, V[1] is I(t)\n",
    "    Y[2] = gamma * V[1]                            # Y[2] is dR(t)/dt.\n",
    "    return Y   # For odeint\n",
    "\n",
    "t_range = np.arange(t_start, t_end)"
   ]
  },
  {
   "cell_type": "markdown",
   "metadata": {},
   "source": [
    "## Interation"
   ]
  },
  {
   "cell_type": "code",
   "execution_count": 8,
   "metadata": {
    "scrolled": false
   },
   "outputs": [
    {
     "name": "stdout",
     "output_type": "stream",
     "text": [
      "The minimum_infected Z is  197383.37411121264\n",
      "The minimum_removed Z is  5854.542566958157\n",
      "when beta is  0.45999999999999985\n",
      "when gamma is  0.1\n",
      "Time:  3721.0083010196686\n"
     ]
    }
   ],
   "source": [
    "start = time.time()\n",
    "\n",
    "minimum_infected = math.pow(10,10)\n",
    "minimum_removed = math.pow(10,10)\n",
    "\n",
    "for beta in np.arange(0.1, 15.0, 0.01):\n",
    "    for gamma in np.arange(0.1, 15.0, 0.01):\n",
    "        RES = spi.odeint(model_SIR, INPUT, t_range) \n",
    "        \n",
    "        # Goodness Test of Fitness\n",
    "        \n",
    "        #print(RES)\n",
    "        \n",
    "        fitness_infected = stats.chisquare(infected_observed, RES[1:, 1])\n",
    "        fitness_removed = stats.chisquare(removed_observed, RES[1:, 2])\n",
    "        \n",
    "       \n",
    "        if fitness_infected[0] < 10000 and fitness_infected[0] > 0 and fitness_removed[0] < 10000 and fitness_removed[0] > 0:\n",
    "            print('beta=', beta, '  gamma=', gamma, fitness_infected, fitness_removed)\n",
    "        \n",
    "        \n",
    "        #print('beta=', beta, '  gamma=', gamma, fitness_infected, fitness_removed)\n",
    "            \n",
    "        if fitness_infected[0] < minimum_infected and fitness_infected[0]> -minimum_infected and fitness_removed[0] < minimum_removed and fitness_removed[0]> -minimum_removed:\n",
    "            minimum_infected = fitness_infected[0]\n",
    "            minimum_removed = fitness_removed[0]\n",
    "            beta_mini = beta\n",
    "            gamma_mini = gamma\n",
    "            \n",
    "end = time.time()\n",
    "duration = end - start\n",
    "            \n",
    "print('The minimum_infected Z is ', minimum_infected)\n",
    "print('The minimum_removed Z is ', minimum_removed)\n",
    "print('when beta is ', beta_mini)\n",
    "print('when gamma is ', gamma_mini)\n",
    "\n",
    "print('Time: ', duration)"
   ]
  },
  {
   "cell_type": "code",
   "execution_count": 9,
   "metadata": {},
   "outputs": [
    {
     "name": "stdout",
     "output_type": "stream",
     "text": [
      "The minimum_infected Z is  197383.37411121264\n",
      "The minimum_removed Z is  5854.542566958157\n",
      "when beta is  0.45999999999999985\n",
      "when gamma is  0.1\n"
     ]
    }
   ],
   "source": [
    "print('The minimum_infected Z is ', minimum_infected)\n",
    "print('The minimum_removed Z is ', minimum_removed)\n",
    "print('when beta is ', beta_mini)\n",
    "print('when gamma is ', gamma_mini)"
   ]
  },
  {
   "cell_type": "code",
   "execution_count": null,
   "metadata": {},
   "outputs": [],
   "source": []
  },
  {
   "cell_type": "code",
   "execution_count": 10,
   "metadata": {},
   "outputs": [
    {
     "data": {
      "text/plain": [
       "Text(0, 0.5, 'Infectious and Recovereds')"
      ]
     },
     "execution_count": 10,
     "metadata": {},
     "output_type": "execute_result"
    },
    {
     "data": {
      "image/png": "[encoded data removed]",
      "text/plain": [
       "<Figure size 432x288 with 1 Axes>"
      ]
     },
     "metadata": {
      "needs_background": "light"
     },
     "output_type": "display_data"
    }
   ],
   "source": [
    "#Ploting\n",
    "pl.plot(infected_observed, '-r', label='Infecteds Observed')\n",
    "pl.plot(removed_observed, '-g', label='Recovereds Observed')\n",
    "\n",
    "pl.legend(loc=0)\n",
    "pl.title('Italy, SIR Model')\n",
    "pl.xlabel('Time')\n",
    "pl.ylabel('Infectious and Recovereds')"
   ]
  },
  {
   "cell_type": "markdown",
   "metadata": {},
   "source": [
    "## SIR Validation"
   ]
  },
  {
   "cell_type": "code",
   "execution_count": 50,
   "metadata": {},
   "outputs": [],
   "source": [
    "beta = 0.48\n",
    "gamma = 0.08\n",
    "\n",
    "t_start = 0.0\n",
    "t_end = 50      # Transmit Time\n",
    "\n",
    "N = 6*math.pow(10,6)\n",
    "R0 = 0\n",
    "I0 = 3      # Initial Number of Infectious\n",
    "S0 = N - I0 - R0    # Initial Number of Susceptible\n",
    "\n",
    "INPUT = (S0, I0, R0)"
   ]
  },
  {
   "cell_type": "code",
   "execution_count": 51,
   "metadata": {},
   "outputs": [],
   "source": [
    "def model_SIR(INP,t):  \n",
    "    Y = np.zeros((3))\n",
    "    V = INP\n",
    "    Y[0] = - beta * V[0] * V[1]/N                    # Y[0] is dS(t)/dt, V[0] is S(t)\n",
    "    Y[1] = beta * V[0] * V[1]/N - gamma * V[1]       # Y[1] is dI(t)/dt, V[1] is I(t)\n",
    "    Y[2] = gamma * V[1]                            # Y[2] is dR(t)/dt.\n",
    "    return Y   # For odeint\n"
   ]
  },
  {
   "cell_type": "code",
   "execution_count": 52,
   "metadata": {},
   "outputs": [],
   "source": [
    "t_range = np.arange(t_start, t_end)\n",
    "\n",
    "RES = spi.odeint(model_SIR, INPUT, t_range)   # INPUT is the first parameter of func diff_eqs\n",
    "                                             # t_range is the second parameter of func diff_eqs"
   ]
  },
  {
   "cell_type": "code",
   "execution_count": 53,
   "metadata": {},
   "outputs": [
    {
     "data": {
      "text/plain": [
       "Text(0, 0.5, 'Infectious and Recovereds')"
      ]
     },
     "execution_count": 53,
     "metadata": {},
     "output_type": "execute_result"
    },
    {
     "data": {
      "image/png": "[encoded data removed]",
      "text/plain": [
       "<Figure size 432x288 with 1 Axes>"
      ]
     },
     "metadata": {
      "needs_background": "light"
     },
     "output_type": "display_data"
    }
   ],
   "source": [
    "#Ploting\n",
    "day = 30\n",
    "pl.plot(RES[:day,1], '--r', label='Infected Expected')\n",
    "pl.plot(RES[:day,2], '--g', label='Recovered Expected')\n",
    "pl.plot(infected_observed[:day], '-r', label='Infected Observed')\n",
    "pl.plot(removed_observed[:day], '-g', label='Recovered Observed')\n",
    "\n",
    "pl.legend(loc=0)\n",
    "pl.title('Italy, SIR Model')\n",
    "pl.xlabel('Time')\n",
    "pl.ylabel('Infectious and Recovereds')"
   ]
  },
  {
   "cell_type": "code",
   "execution_count": 54,
   "metadata": {},
   "outputs": [
    {
     "data": {
      "text/plain": [
       "Text(0, 0.5, 'Infectious and Recovereds')"
      ]
     },
     "execution_count": 54,
     "metadata": {},
     "output_type": "execute_result"
    },
    {
     "data": {
      "image/png": "[encoded data removed]",
      "text/plain": [
       "<Figure size 432x288 with 1 Axes>"
      ]
     },
     "metadata": {
      "needs_background": "light"
     },
     "output_type": "display_data"
    }
   ],
   "source": [
    "#Ploting\n",
    "pl.plot(RES[:,1], '--r', label='Infecteds')\n",
    "pl.plot(RES[:,2], '--g', label='Recovereds')\n",
    "\n",
    "pl.legend(loc=0)\n",
    "pl.title('Italy, SIR Model')\n",
    "pl.xlabel('Time')\n",
    "pl.ylabel('Infectious and Recovereds')"
   ]
  },
  {
   "cell_type": "code",
   "execution_count": null,
   "metadata": {},
   "outputs": [],
   "source": []
  },
  {
   "cell_type": "code",
   "execution_count": null,
   "metadata": {},
   "outputs": [],
   "source": []
  }
 ],
 "metadata": {
  "kernelspec": {
   "display_name": "Python 3",
   "language": "python",
   "name": "python3"
  },
  "language_info": {
   "codemirror_mode": {
    "name": "ipython",
    "version": 3
   },
   "file_extension": ".py",
   "mimetype": "text/x-python",
   "name": "python",
   "nbconvert_exporter": "python",
   "pygments_lexer": "ipython3",
   "version": "3.7.4"
  }
 },
 "nbformat": 4,
 "nbformat_minor": 2
}
