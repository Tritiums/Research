{
 "cells": [
  {
   "cell_type": "code",
   "execution_count": 1,
   "metadata": {},
   "outputs": [],
   "source": [
    "import scipy.integrate as spi\n",
    "import numpy as np\n",
    "import pylab as pl\n",
    "import math\n",
    "%matplotlib inline"
   ]
  },
  {
   "cell_type": "markdown",
   "metadata": {},
   "source": [
    "def siModel(t):\n",
    "    i = N * math.pow(math.e, N*t)/(N-1+math.pow(math.e, N*t))"
   ]
  },
  {
   "cell_type": "code",
   "execution_count": 79,
   "metadata": {},
   "outputs": [],
   "source": [
    "beta = 0.33\n",
    "\n",
    "t_start = 0\n",
    "t_end = 60      # Transmit Time\n",
    "\n",
    "N = 6*math.pow(10,6)\n",
    "\n",
    "\n",
    "I0 = 3     # Initial Number of Infected\n",
    "S0 = N - I0    # Initial Number of Susceptible\n",
    "\n",
    "INPUT = (S0, I0)"
   ]
  },
  {
   "cell_type": "code",
   "execution_count": 80,
   "metadata": {},
   "outputs": [],
   "source": [
    "def model_SI(INP,t):  \n",
    "    \n",
    "    Y=np.zeros((2))\n",
    "    V = INP\n",
    "    Y[0] = - beta * V[0] * V[1]/N  \n",
    "    Y[1] = beta * V[0] * V[1]/N\n",
    "    return Y   # For odeint"
   ]
  },
  {
   "cell_type": "code",
   "execution_count": 81,
   "metadata": {},
   "outputs": [],
   "source": [
    "t_range = np.arange(t_start, t_end)\n",
    "\n",
    "RES = spi.odeint(model_SI, INPUT, t_range)   # INPUT is the first parameter of func diff_eqs\n",
    "                                             # t_range is the second parameter of func diff_eqs\n"
   ]
  },
  {
   "cell_type": "code",
   "execution_count": 82,
   "metadata": {},
   "outputs": [
    {
     "data": {
      "text/plain": [
       "array([[5.99999700e+06, 3.00000000e+00],\n",
       "       [5.99999583e+06, 4.17290356e+00],\n",
       "       [5.99999420e+06, 5.80437436e+00],\n",
       "       [5.99999193e+06, 8.07369674e+00],\n",
       "       [5.99998877e+06, 1.12302490e+01],\n",
       "       [5.99998438e+06, 1.56209071e+01],\n",
       "       [5.99997827e+06, 2.17281617e+01],\n",
       "       [5.99996978e+06, 3.02231378e+01],\n",
       "       [5.99995796e+06, 4.20393387e+01],\n",
       "       [5.99994152e+06, 5.84752205e+01],\n",
       "       [5.99991866e+06, 8.13368586e+01],\n",
       "       [5.99988686e+06, 1.13136379e+02],\n",
       "       [5.99984263e+06, 1.57367938e+02],\n",
       "       [5.99978111e+06, 2.18891543e+02],\n",
       "       [5.99969553e+06, 3.04466819e+02],\n",
       "       [5.99957650e+06, 4.23495242e+02],\n",
       "       [5.99941095e+06, 5.89052133e+02],\n",
       "       [5.99918068e+06, 8.19321299e+02],\n",
       "       [5.99886041e+06, 1.13958898e+03],\n",
       "       [5.99841499e+06, 1.58501426e+03],\n",
       "       [5.99779552e+06, 2.20447665e+03],\n",
       "       [5.99693408e+06, 3.06591637e+03],\n",
       "       [5.99573626e+06, 4.26374017e+03],\n",
       "       [5.99407092e+06, 5.92907943e+03],\n",
       "       [5.99175602e+06, 8.24397552e+03],\n",
       "       [5.98853905e+06, 1.14609506e+04],\n",
       "       [5.98407008e+06, 1.59299204e+04],\n",
       "       [5.97786496e+06, 2.21350351e+04],\n",
       "       [5.96925522e+06, 3.07447837e+04],\n",
       "       [5.95732049e+06, 4.26795113e+04],\n",
       "       [5.94079880e+06, 5.92011979e+04],\n",
       "       [5.91796946e+06, 8.20305352e+04],\n",
       "       [5.88650480e+06, 1.13495201e+05],\n",
       "       [5.84329074e+06, 1.56709260e+05],\n",
       "       [5.78422577e+06, 2.15774231e+05],\n",
       "       [5.70402636e+06, 2.95973645e+05],\n",
       "       [5.59609973e+06, 4.03900265e+05],\n",
       "       [5.45259460e+06, 5.47405402e+05],\n",
       "       [5.26480084e+06, 7.35199155e+05],\n",
       "       [5.02411280e+06, 9.75887199e+05],\n",
       "       [4.72373015e+06, 1.27626985e+06],\n",
       "       [4.36105005e+06, 1.63894995e+06],\n",
       "       [3.94024671e+06, 2.05975329e+06],\n",
       "       [3.47398174e+06, 2.52601826e+06],\n",
       "       [2.98298593e+06, 3.01701407e+06],\n",
       "       [2.49289991e+06, 3.50710009e+06],\n",
       "       [2.02917726e+06, 3.97082274e+06],\n",
       "       [1.61206483e+06, 4.38793517e+06],\n",
       "       [1.25362394e+06, 4.74637606e+06],\n",
       "       [9.57490888e+05, 5.04250911e+06],\n",
       "       [7.20689197e+05, 5.27931080e+06],\n",
       "       [5.36224270e+05, 5.46377573e+06],\n",
       "       [3.95437744e+05, 5.60456226e+06],\n",
       "       [2.89655355e+05, 5.71034464e+06],\n",
       "       [2.11104630e+05, 5.78889537e+06],\n",
       "       [1.53284015e+05, 5.84671599e+06],\n",
       "       [1.10996554e+05, 5.88900345e+06],\n",
       "       [8.02151556e+04, 5.91978484e+06],\n",
       "       [5.78861011e+04, 5.94211390e+06],\n",
       "       [4.17288494e+04, 5.95827115e+06]])"
      ]
     },
     "execution_count": 82,
     "metadata": {},
     "output_type": "execute_result"
    }
   ],
   "source": [
    "RES"
   ]
  },
  {
   "cell_type": "code",
   "execution_count": 83,
   "metadata": {},
   "outputs": [
    {
     "data": {
      "text/plain": [
       "4.172903555700173"
      ]
     },
     "execution_count": 83,
     "metadata": {},
     "output_type": "execute_result"
    }
   ],
   "source": [
    "RES[1][1]"
   ]
  },
  {
   "cell_type": "code",
   "execution_count": 84,
   "metadata": {},
   "outputs": [
    {
     "data": {
      "text/plain": [
       "Text(0, 0.5, 'Susceptibles and Infecteds')"
      ]
     },
     "execution_count": 84,
     "metadata": {},
     "output_type": "execute_result"
    },
    {
     "data": {
      "image/png": "[encoded data removed]",
      "text/plain": [
       "<Figure size 432x288 with 1 Axes>"
      ]
     },
     "metadata": {
      "needs_background": "light"
     },
     "output_type": "display_data"
    }
   ],
   "source": [
    "#Ploting\n",
    "# pl.subplot(211)\n",
    "pl.plot(RES[:,0], '-b', label='Susceptibles')\n",
    "pl.plot(RES[:,1], '-r', label='Infecteds')\n",
    "pl.legend(loc=0)\n",
    "pl.title('SI Model')\n",
    "pl.xlabel('Time')\n",
    "pl.ylabel('Susceptibles and Infecteds')"
   ]
  },
  {
   "cell_type": "code",
   "execution_count": null,
   "metadata": {},
   "outputs": [],
   "source": []
  }
 ],
 "metadata": {
  "kernelspec": {
   "display_name": "Python 3",
   "language": "python",
   "name": "python3"
  },
  "language_info": {
   "codemirror_mode": {
    "name": "ipython",
    "version": 3
   },
   "file_extension": ".py",
   "mimetype": "text/x-python",
   "name": "python",
   "nbconvert_exporter": "python",
   "pygments_lexer": "ipython3",
   "version": "3.7.4"
  }
 },
 "nbformat": 4,
 "nbformat_minor": 2
}
