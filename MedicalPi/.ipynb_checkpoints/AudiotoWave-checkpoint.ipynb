{
 "cells": [
  {
   "cell_type": "code",
   "execution_count": null,
   "metadata": {},
   "outputs": [],
   "source": [
    "import pyaudio\n",
    "import wave\n",
    "import os\n",
    "\n",
    "#The following code comes from markjay4k as referenced below\n",
    "form_1 = pyaudio.paInt16\n",
    "chans=1\n",
    "samp_rate = 44100\n",
    "chunk = 4096\n",
    "record_secs = 1     #record time\n",
    "dev_index = 2\n",
    "wav_output_filename = 'test1.wav'\n",
    "\n",
    "\n",
    "audio = pyaudio.PyAudio()\n",
    "\n",
    "#setup audio input stream\n",
    "stream=audio.open(format = form_1,rate=samp_rate,channels=chans, input_device_index = dev_index, input=True, frames_per_buffer=chunk)\n",
    "print(\"recording\")\n",
    "frames=[]\n",
    "\n",
    "for ii in range(0,int((samp_rate/chunk)*record_secs)):\n",
    "    data=stream.read(chunk,exception_on_overflow = False)\n",
    "    frames.append(data)\n",
    "\n",
    "print(\"finished recording\")\n",
    "\n",
    "stream.stop_stream()\n",
    "stream.close()\n",
    "audio.terminate()\n",
    "\n",
    "#creates wave file with audio read in\n",
    "#Code is from the wave file audio tutorial as referenced below\n",
    "wavefile=wave.open(wav_output_filename,'wb')\n",
    "wavefile.setnchannels(chans)\n",
    "wavefile.setsampwidth(audio.get_sample_size(form_1))\n",
    "wavefile.setframerate(samp_rate)\n",
    "wavefile.writeframes(b''.join(frames))\n",
    "wavefile.close()\n",
    "\n",
    "#plays the audio file\n",
    "os.system(\"aplay test1.wav\")"
   ]
  }
 ],
 "metadata": {
  "kernelspec": {
   "display_name": "Python 3",
   "language": "python",
   "name": "python3"
  },
  "language_info": {
   "codemirror_mode": {
    "name": "ipython",
    "version": 3
   },
   "file_extension": ".py",
   "mimetype": "text/x-python",
   "name": "python",
   "nbconvert_exporter": "python",
   "pygments_lexer": "ipython3",
   "version": "3.7.3"
  }
 },
 "nbformat": 4,
 "nbformat_minor": 2
}
