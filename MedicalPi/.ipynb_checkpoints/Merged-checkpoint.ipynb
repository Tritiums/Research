{
 "cells": [
  {
   "cell_type": "code",
   "execution_count": null,
   "metadata": {
    "scrolled": true
   },
   "outputs": [],
   "source": [
    "import pyaudio\n",
    "import numpy as np\n",
    "import wave\n",
    "import os\n",
    "import datetime"
   ]
  },
  {
   "cell_type": "code",
   "execution_count": null,
   "metadata": {
    "scrolled": true
   },
   "outputs": [],
   "source": [
    "now = datetime.datetime.now()\n",
    "filename = 'Wave_File_' + str(now)[:10] + now.strftime(\"_%H_%M_%S.wav\")"
   ]
  },
  {
   "cell_type": "code",
   "execution_count": null,
   "metadata": {},
   "outputs": [],
   "source": [
    "#The following code comes from markjay4k as referenced below\n",
    "chunk = 512\n",
    "samp_rate = 44100\n",
    "\n",
    "form_1 = pyaudio.paInt16\n",
    "chans = 1\n",
    "\n",
    "record_secs = 20     #record time\n",
    "dev_index = 2\n",
    "wav_output_filename = filename"
   ]
  },
  {
   "cell_type": "code",
   "execution_count": null,
   "metadata": {},
   "outputs": [],
   "source": [
    "p = pyaudio.PyAudio()"
   ]
  },
  {
   "cell_type": "code",
   "execution_count": null,
   "metadata": {},
   "outputs": [],
   "source": [
    "#setup audio input stream\n",
    "stream = p.open(format = form_1,\n",
    "                  rate=samp_rate,\n",
    "                  channels=chans, \n",
    "                  input_device_index = dev_index, \n",
    "                  input=True, \n",
    "                  frames_per_buffer=chunk)\n",
    "\n",
    "# the code below is from the pyAudio library documentation referenced below\n",
    "#output stream setup\n",
    "player = p.open(format = form_1,\n",
    "                rate=samp_rate,\n",
    "                channels=chans, \n",
    "                output=True, \n",
    "                frames_per_buffer=chunk)"
   ]
  },
  {
   "cell_type": "code",
   "execution_count": null,
   "metadata": {},
   "outputs": [],
   "source": [
    "print(\"Broadcasting & Recording\")\n",
    "frames = []\n",
    "\n",
    "for ii in range(0,int((samp_rate/chunk)*record_secs)):\n",
    "    data = stream.read(chunk,exception_on_overflow = False)\n",
    "    frames.append(data)\n",
    "    \n",
    "    data_numpy = np.fromstring(data, dtype=np.int16)\n",
    "    player.write(data_numpy, chunk)\n",
    "\n",
    "print(\"Finished recording\")"
   ]
  },
  {
   "cell_type": "code",
   "execution_count": null,
   "metadata": {},
   "outputs": [],
   "source": [
    "stream.stop_stream()\n",
    "stream.close()\n",
    "p.terminate()"
   ]
  },
  {
   "cell_type": "code",
   "execution_count": null,
   "metadata": {},
   "outputs": [],
   "source": [
    "#creates wave file with audio read in\n",
    "#Code is from the wave file audio tutorial as referenced below\n",
    "wavefile = wave.open(wav_output_filename,'wb')\n",
    "wavefile.setnchannels(chans)\n",
    "wavefile.setsampwidth(p.get_sample_size(form_1))\n",
    "wavefile.setframerate(samp_rate)\n",
    "wavefile.writeframes(b''.join(frames))\n",
    "wavefile.close()"
   ]
  },
  {
   "cell_type": "code",
   "execution_count": null,
   "metadata": {},
   "outputs": [],
   "source": [
    "#plays the audio file\n",
    "os.system(\"aplay \" + filename)"
   ]
  }
 ],
 "metadata": {
  "kernelspec": {
   "display_name": "Python 3",
   "language": "python",
   "name": "python3"
  },
  "language_info": {
   "codemirror_mode": {
    "name": "ipython",
    "version": 3
   },
   "file_extension": ".py",
   "mimetype": "text/x-python",
   "name": "python",
   "nbconvert_exporter": "python",
   "pygments_lexer": "ipython3",
   "version": "3.7.4"
  }
 },
 "nbformat": 4,
 "nbformat_minor": 2
}
