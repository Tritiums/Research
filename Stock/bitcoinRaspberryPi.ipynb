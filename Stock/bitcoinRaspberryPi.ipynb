{
 "cells": [
  {
   "cell_type": "code",
   "execution_count": null,
   "metadata": {},
   "outputs": [],
   "source": [
    "import sys\n",
    "from exchanges.bitfinex import Bitfinex\n",
    "import lcddriver\n",
    "import time"
   ]
  },
  {
   "cell_type": "code",
   "execution_count": null,
   "metadata": {},
   "outputs": [],
   "source": [
    "display = lcddriver.lcd()"
   ]
  },
  {
   "cell_type": "code",
   "execution_count": null,
   "metadata": {},
   "outputs": [],
   "source": [
    "while(True):\n",
    "    # Try to grab a sensor reading.  Use the read_retry method which will retry up\n",
    "    # to 15 times to get a sensor reading (waiting 2 seconds between each retry).\n",
    "    \n",
    "    bitcoin = Bitfinex().get_current_price()\n",
    "    price = float(bitcoin)\n",
    "\n",
    "    #humidity, temperature = Adafruit_DHT.read_retry(Adafruit_DHT.DHT22, 17)\n",
    "\n",
    "    # Un-comment the line below to convert the temperature to Fahrenheit.\n",
    "    # temperature = temperature * 9/5.0 + 32\n",
    "\n",
    "    # Note that sometimes you won't get a reading and\n",
    "    # the results will be null (because Linux can't\n",
    "    # guarantee the timing of calls to read the sensor).\n",
    "    # If this happens try again!\n",
    "\n",
    "\n",
    "    if price is not None:\n",
    "        print(price)\n",
    "        \n",
    "        display.lcd_display_string(\"Bitcoin: \" + str(price), 1) # Write line of text to first line of display\n",
    "        #display.lcd_display_string(\"Humidity: \" + str(humidity) +'% ', 2) # Write line of text to second line of display\n",
    "        time.sleep(1)                                     # Give time for the message to be read\n",
    "        #display.lcd_clear()                \n",
    "    else:\n",
    "        print('Failed to get reading. Try again!')\n",
    "        sys.exit(1)\n"
   ]
  }
 ],
 "metadata": {
  "kernelspec": {
   "display_name": "Python 3",
   "language": "python",
   "name": "python3"
  },
  "language_info": {
   "codemirror_mode": {
    "name": "ipython",
    "version": 3
   },
   "file_extension": ".py",
   "mimetype": "text/x-python",
   "name": "python",
   "nbconvert_exporter": "python",
   "pygments_lexer": "ipython3",
   "version": "3.7.4"
  }
 },
 "nbformat": 4,
 "nbformat_minor": 2
}
