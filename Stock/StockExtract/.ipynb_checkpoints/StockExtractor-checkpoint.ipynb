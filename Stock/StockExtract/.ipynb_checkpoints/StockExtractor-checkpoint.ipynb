{
 "cells": [
  {
   "cell_type": "code",
   "execution_count": 1,
   "metadata": {},
   "outputs": [],
   "source": [
    "import pandas as pd\n",
    "import yfinance as yf\n",
    "\n",
    "import tkinter as tk\n",
    "from tkinter import ttk\n",
    "from tkinter import messagebox\n",
    "from tkinter import filedialog\n",
    "import tkinter.font as tkf"
   ]
  },
  {
   "cell_type": "code",
   "execution_count": 2,
   "metadata": {},
   "outputs": [],
   "source": [
    "def display_in_table(prices):\n",
    "        \n",
    "    for index, price in prices.iterrows():\n",
    "        line = []\n",
    "        price_str_list = []\n",
    "        \n",
    "        for item in list(price):\n",
    "            price_str_list.append(str(item))\n",
    "            \n",
    "        line.append(str(index))\n",
    "        line.extend(price_str_list)\n",
    "        #print(line)\n",
    "        \n",
    "        table.insert(\"\", \"end\", values=line)\n",
    "        \n",
    "    '''\n",
    "    \n",
    "    #l_test = [['a', 1,2,3,4,5,6,7,8],['b', 9,1,2,3,4,5,6,7]]\n",
    "    l_test = ['a', 1,2,3,4,5,6,7]\n",
    "    \n",
    "    table.insert('', 'end', values=l_test)\n",
    "    '''"
   ]
  },
  {
   "cell_type": "code",
   "execution_count": 3,
   "metadata": {},
   "outputs": [],
   "source": [
    "def clear():\n",
    "    for i in table.get_children():\n",
    "        table.delete(i)"
   ]
  },
  {
   "cell_type": "code",
   "execution_count": 4,
   "metadata": {},
   "outputs": [],
   "source": [
    "def extract():\n",
    "    global stock_df, stock, startTime, endTime\n",
    "    \n",
    "    stock = text_stockName.get('1.0', tk.END).rstrip()\n",
    "    startTime = text_startTime.get('1.0', tk.END).rstrip()\n",
    "    endTime = text_endTime.get('1.0', tk.END).rstrip()\n",
    "    \n",
    "    stock_df = yf.download(stock, start=startTime, end=endTime, progress=False)\n",
    "    \n",
    "    clear()\n",
    "    display_in_table(stock_df)\n",
    "    \n",
    "    #print(stock_df)\n",
    "    #print(startTime)"
   ]
  },
  {
   "cell_type": "code",
   "execution_count": 5,
   "metadata": {},
   "outputs": [],
   "source": [
    "def OnDoubleClick(event):\n",
    "    global idglb\n",
    "    try:\n",
    "        item = table.selection()[0]\n",
    "        value = table.item(item, 'values')\n",
    "        iden = value[0]    \n",
    "        #extractID(iden)\n",
    "        idglb = iden\n",
    "    except:\n",
    "        pass"
   ]
  },
  {
   "cell_type": "code",
   "execution_count": 6,
   "metadata": {},
   "outputs": [],
   "source": [
    "def export():\n",
    "    stock_df.to_csv('ExportFile_' + stock + '_' + startTime + '_' + endTime + '.csv')\n",
    "    messagebox.showinfo(\"Export\", stock + \" price informat successfully exported!\")"
   ]
  },
  {
   "cell_type": "code",
   "execution_count": 7,
   "metadata": {},
   "outputs": [],
   "source": [
    "def about():\n",
    "    messagebox.showinfo(\"About\", \"Author & Coder: Chuan Yang\")"
   ]
  },
  {
   "cell_type": "code",
   "execution_count": 8,
   "metadata": {},
   "outputs": [
    {
     "name": "stderr",
     "output_type": "stream",
     "text": [
      "Exception in Tkinter callback\n",
      "Traceback (most recent call last):\n",
      "  File \"C:\\Anaconda3\\lib\\tkinter\\__init__.py\", line 1705, in __call__\n",
      "    return self.func(*args)\n",
      "  File \"<ipython-input-6-86d5d18407a6>\", line 2, in export\n",
      "    stock_df.to_csv('ExportFile_' + stock + '_' + startTime + '_' + endTime + '.csv')\n",
      "  File \"C:\\Anaconda3\\lib\\site-packages\\pandas\\core\\generic.py\", line 3204, in to_csv\n",
      "    formatter.save()\n",
      "  File \"C:\\Anaconda3\\lib\\site-packages\\pandas\\io\\formats\\csvs.py\", line 188, in save\n",
      "    compression=dict(self.compression_args, method=self.compression),\n",
      "  File \"C:\\Anaconda3\\lib\\site-packages\\pandas\\io\\common.py\", line 428, in get_handle\n",
      "    f = open(path_or_buf, mode, encoding=encoding, newline=\"\")\n",
      "OSError: [Errno 22] Invalid argument: 'ExportFile_TSLA\\n_2020-01-01_2020-04-30.csv'\n"
     ]
    }
   ],
   "source": [
    "# Main Frame////////////////////////////////////////////////////////////////////////////////////////\n",
    "root = tk.Tk()\n",
    "\n",
    "w = 949 # width for the Tk root\n",
    "h = 720 # height for the Tk root\n",
    "\n",
    "# get screen width and height\n",
    "ws = root.winfo_screenwidth() # width of the screen\n",
    "hs = root.winfo_screenheight() # height of the screen\n",
    "\n",
    "# calculate x and y coordinates for the Tk root window\n",
    "x = (ws/2) - (w/2)\n",
    "y = (hs/4) - (h/4)\n",
    "\n",
    "# set the dimensions of the screen \n",
    "# and where it is placed\n",
    "root.geometry('%dx%d+%d+%d' % (w, h, x, y))\n",
    "#root.attributes('-fullscreen', True)\n",
    "root.title('Stock Extractor')\n",
    "\n",
    "\n",
    "# Multicolumn Listbox/////////////////////////////////////////////////////////////////////////////\n",
    "headers = ['Date', 'Open', 'High', 'Low', 'Close', 'Adj Close', 'Volume']\n",
    "\n",
    "table = ttk.Treeview(height=\"20\", columns=headers, selectmode=\"extended\")\n",
    "table.pack(padx=10, pady=20, ipadx=1200, ipady=190)\n",
    "\n",
    "i = 1\n",
    "\n",
    "header_width = [100, 90, 90, 90, 90, 90, 50]\n",
    "for header in headers:\n",
    "    table.heading('#'+str(i), text=header.title(), anchor=tk.W, command=lambda c=header: sortby(table, c, 0))\n",
    "    table.column('#'+str(i), stretch=tk.NO, minwidth=0, width=tkf.Font().measure(header.title())+header_width[i-1])\n",
    "    i+=1    \n",
    "table.column('#0', stretch=tk.NO, minwidth=0, width=0)\n",
    "\n",
    "table.bind(\"<Double-1>\", OnDoubleClick)\n",
    "#///////////////////////////////////////////////////////////////////////////////////////////\n",
    "\n",
    "# Scrollbar////////////////////////////////////////////////////////////////////////////////////////\n",
    "vsb = ttk.Scrollbar(table, orient = \"vertical\",  command = table.yview)\n",
    "hsb = ttk.Scrollbar(table, orient = \"horizontal\", command = table.xview)\n",
    "## Link scrollbars activation to top-level object\n",
    "table.configure(yscrollcommand = vsb.set, xscrollcommand = hsb.set)\n",
    "## Link scrollbar also to every columns\n",
    "map(lambda col: col.configure(yscrollcommand = vsb.set, xscrollcommand = hsb.set), table)\n",
    "vsb.pack(side = tk.RIGHT, fill = tk.Y)\n",
    "hsb.pack(side = tk.BOTTOM, fill = tk.X) \n",
    "\n",
    "# Other Controls ///////////////////////////////\n",
    "\n",
    "text_stockName=tk.Text(root, width=15,height=1, font=('tahoma', 9), bd=1)\n",
    "text_stockName.place(x=150, y=500)\n",
    "label_stockName=tk.Label(root, text='Stock Name:', font=('tahoma', 9))\n",
    "label_stockName.place(x=60,y=500)\n",
    "text_stockName.delete('1.0', tk.END)\n",
    "text_stockName.insert('1.0', 'TSLA')\n",
    "\n",
    "# ///////\n",
    "\n",
    "text_startTime=tk.Text(root, width=20,height=1, font=('tahoma', 9), bd=1)\n",
    "text_startTime.place(x=440, y=500)\n",
    "label_startTime=tk.Label(root, text='Start:', font=('tahoma', 9))\n",
    "label_startTime.place(x=380,y=500)\n",
    "text_startTime.delete('1.0', tk.END)\n",
    "text_startTime.insert('1.0', '2020-01-01')\n",
    "\n",
    "text_endTime=tk.Text(root, width=20,height=1, font=('tahoma', 9), bd=1)\n",
    "text_endTime.place(x=740, y=500)\n",
    "label_endTime=tk.Label(root, text='End:', font=('tahoma', 9))\n",
    "label_endTime.place(x=680,y=500)\n",
    "text_endTime.delete('1.0', tk.END)\n",
    "text_endTime.insert('1.0', '2020-04-30')\n",
    "\n",
    "# Bottons\n",
    "\n",
    "button_extract=ttk.Button(root, text='Extract', width=20, command=extract)\n",
    "button_extract.place(x=120, y=565)\n",
    "\n",
    "button_export=ttk.Button(root, text='Export to File', width=25, command=export)\n",
    "button_export.place(x=420, y=565)\n",
    "\n",
    "button_about=ttk.Button(root, text='About...', width=20, command=about)\n",
    "button_about.place(x=380, y=660)\n",
    "\n",
    "button_close=ttk.Button(root, text='Exit', width=20, command=root.destroy)\n",
    "button_close.place(x=720, y=660)\n",
    "\n",
    "root.mainloop()"
   ]
  },
  {
   "cell_type": "code",
   "execution_count": null,
   "metadata": {},
   "outputs": [],
   "source": []
  },
  {
   "cell_type": "code",
   "execution_count": null,
   "metadata": {},
   "outputs": [],
   "source": []
  }
 ],
 "metadata": {
  "kernelspec": {
   "display_name": "Python 3",
   "language": "python",
   "name": "python3"
  },
  "language_info": {
   "codemirror_mode": {
    "name": "ipython",
    "version": 3
   },
   "file_extension": ".py",
   "mimetype": "text/x-python",
   "name": "python",
   "nbconvert_exporter": "python",
   "pygments_lexer": "ipython3",
   "version": "3.7.3"
  }
 },
 "nbformat": 4,
 "nbformat_minor": 2
}
