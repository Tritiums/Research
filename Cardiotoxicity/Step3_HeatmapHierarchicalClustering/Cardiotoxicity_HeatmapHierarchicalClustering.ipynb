{
 "cells": [
  {
   "cell_type": "markdown",
   "metadata": {},
   "source": [
    "![Cardiotoxicity](../SharedFiles/cardiotoxicityProjectTitle.jpg)\n",
    "#Import Packages\n",
    "Package for Visulalization: matplotlib\n",
    "\n",
    "![matplotlib](https://raw.githubusercontent.com/donnemartin/data-science-ipython-notebooks/master/images/matplotlib.png)"
   ]
  },
  {
   "cell_type": "code",
   "execution_count": null,
   "metadata": {
    "collapsed": true
   },
   "outputs": [],
   "source": [
    "import numpy as np\n",
    "import pandas as pd\n",
    "import matplotlib.pyplot as plt\n",
    "from scipy.spatial.distance import pdist, squareform\n",
    "from scipy.cluster.hierarchy import linkage, dendrogram\n",
    "import xlrd\n",
    "import sys\n",
    "%matplotlib inline"
   ]
  },
  {
   "cell_type": "markdown",
   "metadata": {},
   "source": [
    "#Load the File"
   ]
  },
  {
   "cell_type": "code",
   "execution_count": null,
   "metadata": {
    "collapsed": true
   },
   "outputs": [],
   "source": [
    "#Load the File\n",
    "filename='Spearman Correlation Matrix.xlsx'\n",
    "book=xlrd.open_workbook(filename)\n",
    "print('Source file: '+sys.path[0]+filename+' loaded!')"
   ]
  },
  {
   "cell_type": "markdown",
   "metadata": {},
   "source": [
    "#Extract Data"
   ]
  },
  {
   "cell_type": "code",
   "execution_count": null,
   "metadata": {
    "collapsed": true
   },
   "outputs": [],
   "source": [
    "#Extraction\n",
    "nsheets=book.nsheets\n",
    "\n",
    "sheet_names=book.sheet_names()\n",
    "nrows=book.sheet_by_name('spearmanr').nrows\n",
    "\n",
    "header=book.sheet_by_name('spearmanr').row_values(0)\n",
    "data=[book.sheet_by_name('spearmanr').row_values(i) for i in range(1, nrows)]\n",
    "df=pd.DataFrame(data, columns=header)\n",
    "df=df.set_index('peaks')"
   ]
  },
  {
   "cell_type": "code",
   "execution_count": null,
   "metadata": {
    "collapsed": true
   },
   "outputs": [],
   "source": [
    "nd=np.array(df)\n",
    "data_dist = pdist(df) # computing the distance\n",
    "data_link = linkage(data_dist) # computing the linkage"
   ]
  },
  {
   "cell_type": "markdown",
   "metadata": {},
   "source": [
    "#Plot the Heatmap & Hirarchical Clustering"
   ]
  },
  {
   "cell_type": "code",
   "execution_count": null,
   "metadata": {
    "collapsed": true
   },
   "outputs": [],
   "source": [
    "# Compute and plot first dendrogram./////////////////////////// Left //////////////////////////\n",
    "fig = plt.figure(figsize=(8,8))\n",
    "# x ywidth height\n",
    "ax1 = fig.add_axes([0.01,0.01,0.2,0.99])\n",
    "Y = linkage(data_dist, method='single')\n",
    "Z1 = dendrogram(Y, orientation='right') # adding/removing the axes\n",
    "ax1.set_xticks([])\n",
    "# Compute and plot second dendrogram/////////////////////////// Top ///////////////////.\n",
    "ax2 = fig.add_axes([0.27, 0.99, 0.63, 0.01])\n",
    "Z2 = dendrogram(Y)\n",
    "ax2.set_xticks([])\n",
    "ax2.set_yticks([])\n",
    "#Compute and plot the heatmap////////////////////////////////// Heatmap /////////////////////////////////\n",
    "matrix_ax = fig.add_axes([0.24,0.01,0.754,0.99])\n",
    "idx1 = Z1['leaves']\n",
    "idx2 = Z2['leaves']\n",
    "D = squareform(data_dist)\n",
    "D = D[idx1,:]\n",
    "D = D[:,idx2]\n",
    "im = matrix_ax.matshow(D, aspect='auto', origin='lower', cmap=plt.cm.gist_rainbow)\n",
    "matrix_ax.set_xticks([])\n",
    "matrix_ax.set_yticks([])\n",
    "# Plot colorbar./////////////////////////////////////////////// Color Scale ///////////////////////////////\n",
    "axcolor = fig.add_axes([0.999,0.01,0.01,0.99])\n",
    "plt.colorbar(im, cax=axcolor)\n",
    "plt.savefig('HeatmapHirarchicalClustering.png', dpi=500)"
   ]
  }
 ],
 "metadata": {
  "kernelspec": {
   "display_name": "Python 3",
   "language": "python",
   "name": "python3"
  },
  "language_info": {
   "codemirror_mode": {
    "name": "ipython",
    "version": 3
   },
   "file_extension": ".py",
   "mimetype": "text/x-python",
   "name": "python",
   "nbconvert_exporter": "python",
   "pygments_lexer": "ipython3",
   "version": "3.4.3"
  }
 },
 "nbformat": 4,
 "nbformat_minor": 0
}
